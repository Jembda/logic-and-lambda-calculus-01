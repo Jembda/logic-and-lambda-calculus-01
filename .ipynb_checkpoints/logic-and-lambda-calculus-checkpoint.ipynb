{
 "cells": [
  {
   "cell_type": "markdown",
   "metadata": {},
   "source": [
    "# A1: Logic and lambda calculus"
   ]
  },
  {
   "cell_type": "markdown",
   "metadata": {},
   "source": [
    "Simon Dobnik and Robin Cooper\n",
    "\n",
    "The lab is an exploration and learning exercise to be done in a group and also in discussion with the teachers and other students.\n",
    "\n",
    "Before starting, please read the instructions on how to work in groups on Canvas.\n",
    "\n",
    "Write all your answers and the code in the appropriate boxes below.\n",
    "\n",
    "*Important*: We recommend that you create a virtual environment (either with virtualenv or conda), install Jupyter Lab in it and all dependencies used in the assignment.\n",
    "To run Jupyter Lab later within your environment, run the following command:\n",
    "\n",
    "```python -m ipykernel install --user --name=my-virtualenv-name```,\n",
    "\n",
    "where you replace `my-virtualenv-name` with the name of your created environment.\n",
    "Once in Jupyter, choose the kernel with the name of your environment. You can do it by either (i) using the drop-down menu in the top right corner or (ii) going to the top menu -> Kernel -> Change Kernel."
   ]
  },
  {
   "cell_type": "markdown",
   "metadata": {},
   "source": [
    "## Translating English to logic and evaluating logic in a model"
   ]
  },
  {
   "cell_type": "code",
   "execution_count": 5,
   "metadata": {},
   "outputs": [],
   "source": [
    "# This task needs NLTK and Jupyter Lab (IPython package).\n",
    "import nltk\n",
    "from utils import display_latex, display_translation, display_tree, display, Markdown\n",
    "read_expr = nltk.sem.Expression.fromstring"
   ]
  },
  {
   "cell_type": "markdown",
   "metadata": {},
   "source": [
    "\n",
    "\n",
    "### 1. Propositional logic\n",
    "Translate the following sentences into **propositional logic** and verify that they parse with Expression.fromstring() (`read_expr` variable in the cell above). Provide a key which shows how the propositional variables in your translation correspond to expressions of English. Briefly discuss any difficulties you encounter. (By difficulties we mean cases where the semantics of English expressions cannot be expressed to the same degree by the semantics of your logic representations, i.e. they do not mean the same). **[5 + 1 marks]**"
   ]
  },
  {
   "cell_type": "code",
   "execution_count": 6,
   "metadata": {},
   "outputs": [
    {
     "name": "stderr",
     "output_type": "stream",
     "text": [
      "[nltk_data] Downloading package punkt to C:\\Users\\Min\n",
      "[nltk_data]     Dator\\AppData\\Roaming\\nltk_data...\n",
      "[nltk_data]   Package punkt is already up-to-date!\n",
      "[nltk_data] Downloading package propbank to C:\\Users\\Min\n",
      "[nltk_data]     Dator\\AppData\\Roaming\\nltk_data...\n",
      "[nltk_data]   Package propbank is already up-to-date!\n"
     ]
    },
    {
     "data": {
      "text/markdown": [
       "\"If Alex plays the piano, she is smart.\": $(P\\ \\rightarrow\\ Q)$"
      ],
      "text/plain": [
       "<IPython.core.display.Markdown object>"
      ]
     },
     "metadata": {},
     "output_type": "display_data"
    },
    {
     "data": {
      "text/markdown": [
       "\"Alex is both smart and musical.\": $(Q\\ \\land\\ R)$"
      ],
      "text/plain": [
       "<IPython.core.display.Markdown object>"
      ]
     },
     "metadata": {},
     "output_type": "display_data"
    },
    {
     "data": {
      "text/markdown": [
       "\"If Alex is not smart, Lydia is not happy.\": $(~Q\\ \\rightarrow\\ ~S)$"
      ],
      "text/plain": [
       "<IPython.core.display.Markdown object>"
      ]
     },
     "metadata": {},
     "output_type": "display_data"
    },
    {
     "data": {
      "text/markdown": [
       "\"If Alex or George plays the piano, they are musical.\": $((P\\ \\lor\\ T)\\ \\rightarrow\\ (R\\ \\land\\ U))$"
      ],
      "text/plain": [
       "<IPython.core.display.Markdown object>"
      ]
     },
     "metadata": {},
     "output_type": "display_data"
    },
    {
     "data": {
      "text/markdown": [
       "\"George plays the piano.\": $T$"
      ],
      "text/plain": [
       "<IPython.core.display.Markdown object>"
      ]
     },
     "metadata": {},
     "output_type": "display_data"
    }
   ],
   "source": [
    "import nltk\n",
    "from utils import display_translation  \n",
    "\n",
    "nltk.download('punkt')\n",
    "nltk.download('propbank')\n",
    "\n",
    "read_expr = nltk.sem.Expression.fromstring\n",
    "\n",
    "propositions = {\n",
    "    \"If Alex plays the piano, she is smart.\": read_expr('P -> Q'),\n",
    "    \"Alex is both smart and musical.\": read_expr('Q & R'),\n",
    "    \"If Alex is not smart, Lydia is not happy.\": read_expr('~Q -> ~S'),\n",
    "    \"If Alex or George plays the piano, they are musical.\": read_expr('(P | T) -> (R & U)'),\n",
    "    \"George plays the piano.\": read_expr('T'),\n",
    "}\n",
    "\n",
    "for text, semrep in propositions.items():\n",
    "    display_translation(text, semrep)"
   ]
  },
  {
   "cell_type": "markdown",
   "metadata": {},
   "source": [
    "# 1 New 19.09.2024"
   ]
  },
  {
   "cell_type": "code",
   "execution_count": 2,
   "metadata": {},
   "outputs": [
    {
     "data": {
      "text/markdown": [
       "\"If Alex plays the piano, she is smart.\": $(p\\ \\rightarrow\\ q)$"
      ],
      "text/plain": [
       "<IPython.core.display.Markdown object>"
      ]
     },
     "metadata": {},
     "output_type": "display_data"
    },
    {
     "data": {
      "text/markdown": [
       "\"Alex is both smart and musical.\": $(p\\ \\land\\ q)$"
      ],
      "text/plain": [
       "<IPython.core.display.Markdown object>"
      ]
     },
     "metadata": {},
     "output_type": "display_data"
    },
    {
     "data": {
      "text/markdown": [
       "\"If Alex is not smart, Lydia is not happy.\": $(-p\\ \\rightarrow\\ q)$"
      ],
      "text/plain": [
       "<IPython.core.display.Markdown object>"
      ]
     },
     "metadata": {},
     "output_type": "display_data"
    },
    {
     "data": {
      "text/markdown": [
       "\"If Alex or George plays the piano, they are musical.\": $(p\\ \\rightarrow\\ q)$"
      ],
      "text/plain": [
       "<IPython.core.display.Markdown object>"
      ]
     },
     "metadata": {},
     "output_type": "display_data"
    },
    {
     "data": {
      "text/markdown": [
       "\"George plays the piano.\": $p$"
      ],
      "text/plain": [
       "<IPython.core.display.Markdown object>"
      ]
     },
     "metadata": {},
     "output_type": "display_data"
    }
   ],
   "source": [
    "propositions = {\n",
    "    \"If Alex plays the piano, she is smart.\":\n",
    "    read_expr('p -> q'),\n",
    "    \n",
    "    \"Alex is both smart and musical.\":\n",
    "    read_expr('p & q'),\n",
    "    \n",
    "    \"If Alex is not smart, Lydia is not happy.\":\n",
    "    read_expr('-(p) -> q'),\n",
    "    \n",
    "    \"If Alex or George plays the piano, they are musical.\":\n",
    "    read_expr('(p) -> q'),\n",
    "    \n",
    "    \"George plays the piano.\":\n",
    "    read_expr('p'),\n",
    "}\n",
    "\n",
    "for text, semrep in propositions.items():\n",
    "    display_translation(text, semrep)"
   ]
  },
  {
   "cell_type": "markdown",
   "metadata": {},
   "source": [
    "# Sentences and Translations\n",
    "1) If Alex plays the piano, she is smart.\n",
    "   * Propositional Logic: P → Q \n",
    "    - P: \"Alex plays the piano\"\n",
    "    - Q: \"Alex is smart\"    \n",
    "2) Alex is both smart and musical.\n",
    "    * Propositional Logic: Q ∧ R\n",
    "        - Q: \"Alex is smart\"\n",
    "        - R: \"Alex is musical\"    \n",
    "3) If Alex is not smart, Lydia is not happy.\n",
    "    * Propositional Logic: ¬Q → ¬S\n",
    "        - Q: \"Alex is smart\"\n",
    "        - S: \"Lydia is happy\"\n",
    "4) If Alex or George plays the piano, they are musical.\n",
    "    * Propositional Logic: (P ∨ T) → (R ∧ U) \n",
    "        - P: \"Alex plays the piano\"\n",
    "        - T: \"George plays the piano\"\n",
    "        - R: \"Alex is musical\"\n",
    "        - U: \"George is musical\"     \n",
    "5) George plays the piano.\n",
    "    * Propositional Logic: T\n",
    "        - T: \"George plays the piano\"\n",
    "        \n",
    "# Key for Propositional Variables\n",
    "\n",
    "- P: \"Alex plays the piano\"\n",
    "- Q: \"Alex is smart\" \n",
    "- R: \"Alex is musical\"\n",
    "- S: \"Lydia is happy\"\n",
    "- T: \"George plays the piano\"\n",
    "- U: \"George is musical\"\n",
    "\n",
    "# Difficulties\n",
    "\n",
    "- Conditional sentences (like \"If Alex plays the piano, she is smart\") are straightforward in propositional logic, but propositional logic does not capture temporal or causal relationships. For example, propositional logic does not indicate why Alex being smart is related to her playing the piano.\n",
    "\n",
    "- Negation (like \"If Alex is not smart, Lydia is not happy\") is captured easily by propositional logic, but propositional logic does not account for different kinds of unhappiness, degrees of intelligence, or causality between Alex's intelligence and Lydia's happiness.\n",
    "\n",
    "- Disjunctions (like \"If Alex or George plays the piano, they are musical\") are expressed as logical \"OR\" statements, but propositional logic can't differentiate between whether one or both play the piano at any given time.\n"
   ]
  },
  {
   "cell_type": "markdown",
   "metadata": {},
   "source": [
    "*Difficulties encountered:*"
   ]
  },
  {
   "cell_type": "markdown",
   "metadata": {},
   "source": [
    "### 2. Valuation of Propositional logic\n",
    "\n",
    "Imagine that we observe a world where \n",
    "- (i) Alex does not play the piano,\n",
    "- (ii) Alex and Lydia are smart and musical,\n",
    "- (iii) George is not musical,\n",
    "- (iv) Lydia is happy,\n",
    "- (v) George plays the piano. \n",
    "\n",
    "Translate this informal description of the world into a model by appropriately defining an evaluation function and evaluate the formulae from Question 1 in this model. Briefly comment the answers you get. **[5 + 1 marks]**."
   ]
  },
  {
   "cell_type": "code",
   "execution_count": 4,
   "metadata": {},
   "outputs": [
    {
     "name": "stdout",
     "output_type": "stream",
     "text": [
      "If Alex plays the piano, she is smart.: True\n",
      "Alex is both smart and musical.: True\n",
      "If Alex is not smart, Lydia is not happy.: True\n",
      "If Alex or George plays the piano, they are musical.: False\n",
      "George plays the piano.: True\n"
     ]
    }
   ],
   "source": [
    "import nltk\n",
    "from nltk.sem import Valuation, Model, Assignment\n",
    "from nltk.sem import Expression\n",
    "\n",
    "# Initialize read_expr using Expression.fromstring\n",
    "read_expr = Expression.fromstring\n",
    "\n",
    "# Define the valuation based on the world description\n",
    "valuation = Valuation([('P', False),  # Alex does not play the piano\n",
    "                       ('Q', True),   # Alex is smart\n",
    "                       ('R', True),   # Alex is musical\n",
    "                       ('S', True),   # Lydia is happy\n",
    "                       ('T', True),   # George plays the piano\n",
    "                       ('U', False)]) # George is not musical\n",
    "\n",
    "# Create a model with the valuation\n",
    "model = Model(valuation.domain, valuation)\n",
    "\n",
    "# Define the formulas from question 1\n",
    "formulas = {\n",
    "    \"If Alex plays the piano, she is smart.\": read_expr('P -> Q'),\n",
    "    \"Alex is both smart and musical.\": read_expr('Q & R'),\n",
    "    \"If Alex is not smart, Lydia is not happy.\": read_expr('-(Q) -> -(S)'),  # Using - for negation instead of ~\n",
    "    \"If Alex or George plays the piano, they are musical.\": read_expr('(P | T) -> (R & U)'),\n",
    "    \"George plays the piano.\": read_expr('T'),\n",
    "}\n",
    "\n",
    "# Evaluate each formula using the model's satisfy method\n",
    "for text, semrep in formulas.items():\n",
    "    try:\n",
    "        # Use the model to check if the formula is satisfied\n",
    "        is_true = model.satisfy(semrep, Assignment(model.domain))\n",
    "        print(f'{text}: {is_true}')\n",
    "    except Exception as e:\n",
    "        print(f'Error evaluating \"{text}\": {e}')"
   ]
  },
  {
   "cell_type": "code",
   "execution_count": null,
   "metadata": {},
   "outputs": [],
   "source": []
  },
  {
   "cell_type": "code",
   "execution_count": 92,
   "metadata": {},
   "outputs": [
    {
     "name": "stdout",
     "output_type": "stream",
     "text": [
      "If Alex plays the piano, she is smart.: True\n",
      "Alex is both smart and musical.: True\n",
      "If Alex is not smart, Lydia is not happy.: True\n",
      "If Alex or George plays the piano, they are musical.: False\n",
      "George plays the piano.: True\n"
     ]
    }
   ],
   "source": [
    "import nltk\n",
    "from nltk.sem import Valuation, Model, Assignment\n",
    "from nltk.sem import Expression\n",
    "\n",
    "# Initialize read_expr using Expression.fromstring\n",
    "read_expr = Expression.fromstring\n",
    "\n",
    "# Define the valuation based on the world description\n",
    "valuation = Valuation([('P', False),  # Alex does not play the piano\n",
    "                       ('Q', True),   # Alex is smart\n",
    "                       ('R', True),   # Alex is musical\n",
    "                       ('S', True),   # Lydia is happy\n",
    "                       ('T', True),   # George plays the piano\n",
    "                       ('U', False)]) # George is not musical\n",
    "\n",
    "# Create a model with the valuation\n",
    "model = Model(valuation.domain, valuation)\n",
    "\n",
    "# Define the formulas from question 1\n",
    "formulas = {\n",
    "    \"If Alex plays the piano, she is smart.\": read_expr('P -> Q'),\n",
    "    \"Alex is both smart and musical.\": read_expr('Q & R'),\n",
    "    \"If Alex is not smart, Lydia is not happy.\": read_expr('-(Q) -> -(S)'),  # Using negation\n",
    "    \"If Alex or George plays the piano, they are musical.\": read_expr('(P | T) -> (R & U)'),\n",
    "    \"George plays the piano.\": read_expr('T'),\n",
    "}\n",
    "\n",
    "# Evaluate each formula using the model's satisfy method\n",
    "for text, semrep in formulas.items():\n",
    "    try:\n",
    "        # Use the model to check if the formula is satisfied\n",
    "        is_true = model.satisfy(semrep, Assignment(model.domain))\n",
    "        print(f'{text}: {is_true}')\n",
    "    except Exception as e:\n",
    "        print(f'Error evaluating \"{text}\": {e}')"
   ]
  },
  {
   "cell_type": "markdown",
   "metadata": {},
   "source": [
    "# New 19.09.2024"
   ]
  },
  {
   "cell_type": "code",
   "execution_count": null,
   "metadata": {},
   "outputs": [],
   "source": [
    "#Truth values for the propositions\n",
    "valuation = {\n",
    "    'p': False, #Alex plays the piano\n",
    "    'q': True, #Alex is smart\n",
    "    'r': True, #Alex is musical\n",
    "    's': True, #Lydia is smart\n",
    "    't': True, #Lydia is musical\n",
    "    'u': False, #George is smart\n",
    "    'v': False, #George is musical\n",
    "    'w': True, #Lydia is happy\n",
    "    'x': True, #George plays the piano\n",
    "}\n",
    "\n",
    "#Evaluate the formulae\n",
    "valuation_results = {\n",
    "    \"If Alex plays the piano, she is smart.\": valuation['p'] <= valuation['q'],\n",
    "    \"Lydia likes herself and so does George.\": valuation['t'] and valuation['v'],\n",
    "    \"Alex is both smart and musical.\": valuation['q'] and valuation['r'],\n",
    "    \"If Alex is not smart, Lydia is not happy.\": not valuation['q'] <= valuation['w'],\n",
    "    \"If Alex or George plays the piano, they are smart.\": (valuation['p'] or valuation['x']) <= (valuation['r'] and valuation['v']),\n",
    "    \"George plays the piano.\": valuation['x']\n",
    "}\n",
    "valuation_results"
   ]
  },
  {
   "cell_type": "code",
   "execution_count": null,
   "metadata": {},
   "outputs": [],
   "source": []
  },
  {
   "cell_type": "markdown",
   "metadata": {},
   "source": [
    "*Comments:*"
   ]
  },
  {
   "cell_type": "markdown",
   "metadata": {},
   "source": [
    "### 3. Predicate logic *without quantifiers*\n",
    "\n",
    "Translate the following sentences into predicate-argument formulae of First Order Logic and verify that they parse with `Expression.fromstring()`. Briefly discuss any difficulties you encounter. **[4 + 1 marks]**"
   ]
  },
  {
   "cell_type": "code",
   "execution_count": 5,
   "metadata": {},
   "outputs": [
    {
     "data": {
      "text/markdown": [
       "\"Lydia likes George but Lydia doesn't like Alex\": $(L(Lydia,George)\\ \\land\\ -L(Lydia,Alex))$"
      ],
      "text/plain": [
       "<IPython.core.display.Markdown object>"
      ]
     },
     "metadata": {},
     "output_type": "display_data"
    },
    {
     "data": {
      "text/markdown": [
       "\"Lydia likes herself and so does George\": $(L(Lydia,Lydia)\\ \\land\\ L(George,George))$"
      ],
      "text/plain": [
       "<IPython.core.display.Markdown object>"
      ]
     },
     "metadata": {},
     "output_type": "display_data"
    },
    {
     "data": {
      "text/markdown": [
       "\"Charlie is an English pianist who plays a sonata\": $(E(Charlie)\\ \\land\\ P(Charlie)\\ \\land\\ S(Charlie))$"
      ],
      "text/plain": [
       "<IPython.core.display.Markdown object>"
      ]
     },
     "metadata": {},
     "output_type": "display_data"
    },
    {
     "data": {
      "text/markdown": [
       "\"Lydia and George admire each other\": $(A(Lydia,George)\\ \\land\\ A(George,Lydia))$"
      ],
      "text/plain": [
       "<IPython.core.display.Markdown object>"
      ]
     },
     "metadata": {},
     "output_type": "display_data"
    }
   ],
   "source": [
    "sentences1 = {\n",
    "    \"Lydia likes George but Lydia doesn't like Alex\": \n",
    "    read_expr(r'L(Lydia, George) & -L(Lydia, Alex)'),\n",
    "    \n",
    "    \"Lydia likes herself and so does George\":\n",
    "    read_expr(r'L(Lydia, Lydia) & L(George, George)'),\n",
    "    \n",
    "    \"Charlie is an English pianist who plays a sonata\":\n",
    "    read_expr(r'E(Charlie) & P(Charlie) & S(Charlie)'),\n",
    "    \n",
    "    \"Lydia and George admire each other\":\n",
    "    read_expr(r'A(Lydia, George) & A(George, Lydia)'),\n",
    "}\n",
    "\n",
    "for text, semrep in sentences1.items():\n",
    "    display_translation(text, semrep)"
   ]
  },
  {
   "cell_type": "markdown",
   "metadata": {},
   "source": [
    "*Difficulties encountered:*\n",
    "\n",
    "1) \"Lydia likes George but Lydia doesn't like Alex\":\n",
    "    - Straightforward translation using the conjunction\n",
    "∧ and negation ¬.\n",
    "2) \"Lydia likes herself and so does George\":\n",
    "    - No major difficulties. Each subject liking themselves is expressed clearly with the same predicate applied to both Lydia and George.\n",
    "3) \"Charlie is an English pianist who plays a sonata\":\n",
    "    - This sentence requires combining multiple predicates about Charlie (being English and a pianist) and linking it with the action of playing a sonata. The translation is a conjunction of these three statements.\n",
    "4) \"Lydia and George admire each other\":\n",
    "    - This is a simple reciprocal relationship. It’s essential to ensure that both directions of admiration are represented explicitly.\n",
    "    \n",
    "These translations effectively capture the meanings of the English sentences using First-Order Logic without quantifiers. However, it’s important to note that FOL does not handle vagueness or contextual nuances of natural language as precisely as humans do, especially in cases involving reflexivity or mutual actions"
   ]
  },
  {
   "cell_type": "markdown",
   "metadata": {},
   "source": [
    "# new 01.09"
   ]
  },
  {
   "cell_type": "code",
   "execution_count": 94,
   "metadata": {},
   "outputs": [
    {
     "name": "stdout",
     "output_type": "stream",
     "text": [
      "English: Lydia likes George but Lydia doesn't like Alex\n",
      "Predicate Logic: (Likes(lydia,george) & ~Likes(lydia,alex))\n",
      "\n",
      "English: Lydia likes herself and so does George\n",
      "Predicate Logic: (Likes(lydia,lydia) & Likes(george,george))\n",
      "\n",
      "English: Charlie is an English pianist who plays a sonata\n",
      "Predicate Logic: (English(charlie) & Pianist(charlie) & Sonata(sonata1) & Plays(charlie,sonata1))\n",
      "\n",
      "English: Lydia and George admire each other\n",
      "Predicate Logic: (Admire(lydia,george) & Admire(george,lydia))\n",
      "\n"
     ]
    }
   ],
   "source": [
    "import nltk\n",
    "from nltk.sem import Expression\n",
    "\n",
    "read_expr = Expression.fromstring\n",
    "\n",
    "# Define the predicate logic expressions\n",
    "sentences1 = {\n",
    "    \"Lydia likes George but Lydia doesn't like Alex\": \n",
    "    read_expr(r'Likes(lydia, george) & ~Likes(lydia, alex)'),\n",
    "    \n",
    "    \"Lydia likes herself and so does George\":\n",
    "    read_expr(r'Likes(lydia, lydia) & Likes(george, george)'),\n",
    "    \n",
    "    \"Charlie is an English pianist who plays a sonata\":\n",
    "    read_expr(r'English(charlie) & Pianist(charlie) & Sonata(sonata1) & Plays(charlie, sonata1)'),\n",
    "    \n",
    "    \"Lydia and George admire each other\":\n",
    "    read_expr(r'Admire(lydia, george) & Admire(george, lydia)'),\n",
    "}\n",
    "\n",
    "# Function to simulate displaying the translation\n",
    "def display_translation(text, semrep):\n",
    "    print(f\"English: {text}\\nPredicate Logic: {semrep}\\n\")\n",
    "\n",
    "# Display the translations\n",
    "for text, semrep in sentences1.items():\n",
    "    display_translation(text, semrep)"
   ]
  },
  {
   "cell_type": "code",
   "execution_count": null,
   "metadata": {},
   "outputs": [],
   "source": []
  },
  {
   "cell_type": "code",
   "execution_count": 95,
   "metadata": {},
   "outputs": [
    {
     "name": "stdout",
     "output_type": "stream",
     "text": [
      "Lydia likes George but Lydia doesn't like Alex: (likes(lydia,george) & -likes(lydia,alex))\n",
      "Lydia likes herself and so does George: (likes(lydia,lydia) & likes(george,george))\n",
      "Charlie is an English pianist who plays a sonata: (is_pianist(charlie) & is_english(charlie) & plays(charlie,sonata))\n",
      "Lydia and George admire each other: (admires(lydia,george) & admires(george,lydia))\n"
     ]
    }
   ],
   "source": [
    "import nltk\n",
    "from nltk.sem import Expression\n",
    "# Initialize read_expr using Expression.fromstring\n",
    "read_expr = Expression.fromstring\n",
    "\n",
    "# Define the sentences in predicate-argument form using FOL\n",
    "sentences1 = {\n",
    "    \"Lydia likes George but Lydia doesn't like Alex\": \n",
    "    read_expr(r'likes(lydia, george) & -likes(lydia, alex)'),\n",
    "    \n",
    "    \"Lydia likes herself and so does George\":\n",
    "    read_expr(r'likes(lydia, lydia) & likes(george, george)'),\n",
    "    \n",
    "    \"Charlie is an English pianist who plays a sonata\":\n",
    "    read_expr(r'is_pianist(charlie) & is_english(charlie) & plays(charlie, sonata)'),\n",
    "    \n",
    "    \"Lydia and George admire each other\":\n",
    "    read_expr(r'admires(lydia, george) & admires(george, lydia)'),\n",
    "}\n",
    "\n",
    "# Display the parsed predicate-argument formulae\n",
    "for text, semrep in sentences1.items():\n",
    "    print(f'{text}: {semrep}')"
   ]
  },
  {
   "cell_type": "code",
   "execution_count": null,
   "metadata": {},
   "outputs": [],
   "source": []
  },
  {
   "cell_type": "code",
   "execution_count": null,
   "metadata": {},
   "outputs": [],
   "source": []
  },
  {
   "cell_type": "code",
   "execution_count": 9,
   "metadata": {},
   "outputs": [
    {
     "data": {
      "text/markdown": [
       "\"Lydia likes George but Lydia doesn't like Alex\": $(likes(lydia,george)\\ \\land\\ -likes(lydia,alex))$"
      ],
      "text/plain": [
       "<IPython.core.display.Markdown object>"
      ]
     },
     "metadata": {},
     "output_type": "display_data"
    },
    {
     "data": {
      "text/markdown": [
       "\"Lydia likes herself and so does George\": $(likes(lydia,lydia)\\ \\land\\ likes(george,george))$"
      ],
      "text/plain": [
       "<IPython.core.display.Markdown object>"
      ]
     },
     "metadata": {},
     "output_type": "display_data"
    },
    {
     "data": {
      "text/markdown": [
       "\"Charlie is an English pianist who plays a sonata\": $(is_pianist(charlie)\\ \\land\\ is_english(charlie)\\ \\land\\ plays(charlie,sonata))$"
      ],
      "text/plain": [
       "<IPython.core.display.Markdown object>"
      ]
     },
     "metadata": {},
     "output_type": "display_data"
    },
    {
     "data": {
      "text/markdown": [
       "\"Lydia and George admire each other\": $(admires(lydia,george)\\ \\land\\ admires(george,lydia))$"
      ],
      "text/plain": [
       "<IPython.core.display.Markdown object>"
      ]
     },
     "metadata": {},
     "output_type": "display_data"
    }
   ],
   "source": [
    "import nltk\n",
    "from nltk.sem import Expression\n",
    "\n",
    "# Initialize read_expr using Expression.fromstring\n",
    "read_expr = Expression.fromstring\n",
    "\n",
    "sentences1 = {\n",
    "    # Lydia likes George but Lydia doesn't like Alex\n",
    "    \"Lydia likes George but Lydia doesn't like Alex\": \n",
    "    read_expr(r'likes(lydia, george) & -likes(lydia, alex)'),\n",
    "    \n",
    "    # Lydia likes herself and so does George\n",
    "    \"Lydia likes herself and so does George\":\n",
    "    read_expr(r'likes(lydia, lydia) & likes(george, george)'),\n",
    "    \n",
    "    # Charlie is an English pianist who plays a sonata\n",
    "    \"Charlie is an English pianist who plays a sonata\":\n",
    "    read_expr(r'is_pianist(charlie) & is_english(charlie) & plays(charlie, sonata)'),\n",
    "    \n",
    "    # Lydia and George admire each other\n",
    "    \"Lydia and George admire each other\":\n",
    "    read_expr(r'admires(lydia, george) & admires(george, lydia)'),\n",
    "}\n",
    "\n",
    "# Now, let's display the translations\n",
    "for text, semrep in sentences1.items():\n",
    "    display_translation(text, semrep)"
   ]
  },
  {
   "cell_type": "markdown",
   "metadata": {},
   "source": [
    "# New 19.09.2024"
   ]
  },
  {
   "cell_type": "code",
   "execution_count": null,
   "metadata": {},
   "outputs": [],
   "source": [
    "1. \"Lydia likes George but Lydia doesn't like Alex\":\n",
    "   Predicate: L(x, y) (x likes y)\n",
    "   Constant: Lydia, George, Alex\n",
    "   Formula: L(Lydia, George) ∧ ¬L(Lydia, Alex)\n",
    "2. \"Lydia likes herself and so does George\":\n",
    "   Predicate: L(x, x) (x likes themselves)\n",
    "   Constants: Lydia, George\n",
    "   Formula: L(Lydia, Lydia) ∧ L(George, George)\n",
    "3. \"Charlie is an English pianist who plays a sonata\":\n",
    "   Predicates: E(x) (x is English), P(x) (x is pianist), S(x) (x plays a sonata)\n",
    "   Constant: Charlie\n",
    "   Formula: E(Charlie) ∧ P(Charlie) ∧ S(Charlie)\n",
    "4. \"Lydia and George admire each other\":\n",
    "   Predicate: A(x,y) (x admires y)\n",
    "   Constants: Lydia, George\n",
    "   Formula: A(Lydia, George) ∧ A(Lydia, George)"
   ]
  },
  {
   "cell_type": "code",
   "execution_count": null,
   "metadata": {},
   "outputs": [],
   "source": [
    "sentences1 = {\n",
    "    \"Lydia likes George but Lydia doesn't like Alex\": \n",
    "    read_expr(r'L(Lydia, George) & -L(Lydia, Alex)'),\n",
    "    \n",
    "    \"Lydia likes herself and so does George\":\n",
    "    read_expr(r'L(Lydia, Lydia) & L(George, George)'),\n",
    "    \n",
    "    \"Charlie is an English pianist who plays a sonata\":\n",
    "    read_expr(r'E(Charlie) & P(Charlie) & S(Charlie)'),\n",
    "    \n",
    "    \"Lydia and George admire each other\":\n",
    "    read_expr(r'A(Lydia, George) & A(George, Lydia)'),\n",
    "}\n",
    "\n",
    "for text, semrep in sentences1.items():\n",
    "    display_translation(text, semrep)"
   ]
  },
  {
   "cell_type": "markdown",
   "metadata": {},
   "source": [
    "### 4. First order logic with quantifiers\n",
    "\n",
    "Translate the following sentences into quantified formulas of First Order Logic and verify that they parse with `Expression.fromstring()`. Briefly discuss any difficulties you encounter. **[4 + 1 marks]**"
   ]
  },
  {
   "cell_type": "code",
   "execution_count": 6,
   "metadata": {
    "scrolled": true
   },
   "outputs": [
    {
     "data": {
      "text/markdown": [
       "\"Charlie knows a woman who likes George\": $\\exists\\ w.(woman(w)\\ \\land\\ knows(charlie,w)\\ \\land\\ likes(w,george))$"
      ],
      "text/plain": [
       "<IPython.core.display.Markdown object>"
      ]
     },
     "metadata": {},
     "output_type": "display_data"
    },
    {
     "data": {
      "text/markdown": [
       "\"George admires everybody and Lydia admires nobody\": $(\\forall\\ x.admires(george,x)\\ \\land\\ -\\exists\\ y.admires(lydia,y))$"
      ],
      "text/plain": [
       "<IPython.core.display.Markdown object>"
      ]
     },
     "metadata": {},
     "output_type": "display_data"
    },
    {
     "data": {
      "text/markdown": [
       "\"Nobody admires everybody\": $-\\exists\\ x.\\forall\\ y.admires(x,y)$"
      ],
      "text/plain": [
       "<IPython.core.display.Markdown object>"
      ]
     },
     "metadata": {},
     "output_type": "display_data"
    },
    {
     "data": {
      "text/markdown": [
       "\"Exactly one musician plays everything Alex wrote\": $\\exists\\ m.(musician(m)\\ \\land\\ \\forall\\ e.(wrote(alex,e)\\ \\rightarrow\\ plays(m,e))\\ \\land\\ \\forall\\ n.((musician(n)\\ \\land\\ \\forall\\ e.(wrote(alex,e)\\ \\rightarrow\\ plays(n,e)))\\ \\rightarrow\\ (m\\ =\\ n)))$"
      ],
      "text/plain": [
       "<IPython.core.display.Markdown object>"
      ]
     },
     "metadata": {},
     "output_type": "display_data"
    }
   ],
   "source": [
    "sentences2 = { \n",
    "    \"Charlie knows a woman who likes George\": \n",
    "    read_expr('exists w. (woman(w) & knows(charlie, w) & likes(w, george))'),\n",
    "    \n",
    "    \"George admires everybody and Lydia admires nobody\": \n",
    "    read_expr('forall x. admires(george, x) & not exists y. admires(lydia, y)'),\n",
    "    \n",
    "    \"Nobody admires everybody\": \n",
    "    read_expr('not exists x. forall y. admires(x, y)'),\n",
    "    \n",
    "    \"Exactly one musician plays everything Alex wrote\": \n",
    "    read_expr('exists m. (musician(m) & forall e. (wrote(alex, e) -> plays(m, e)) & forall n. ((musician(n) & forall e. (wrote(alex, e) -> plays(n, e))) -> m = n))')\n",
    "}\n",
    "\n",
    "# Display the translations\n",
    "for text, semrep in sentences2.items():\n",
    "    display_translation(text, semrep)"
   ]
  },
  {
   "cell_type": "markdown",
   "metadata": {},
   "source": [
    "*Difficulties encountered:* "
   ]
  },
  {
   "cell_type": "markdown",
   "metadata": {},
   "source": [
    "1) Quantifiers and Scope: In natural language, phrases like \"everybody,\" \"nobody,\" or \"exactly one\" imply complex logical structures involving quantifiers. Careful attention must be paid to correctly represent the meaning of these phrases in logic, especially in cases where both existential ∃ and universal∀ quantifiers are involved.\n",
    "\n",
    "2) Uniqueness: The phrase \"exactly one\" in the fourth sentence requires expressing both existence and uniqueness. This involves a combination of existential quantification and a condition ensuring that no other individual satisfies the same predicate.\n",
    "\n",
    "3) Negation: Sentences involving negation, such as \"nobody admires everybody,\" need careful placement of the negation operator ¬, as natural language negation can often be ambiguous or vague when translated into strict logical terms.\n",
    "\n",
    "The provided translations should parse correctly when passed through read_expr, and they capture the intended meaning of the original sentences as best as possible within the constraints of formal logic.\n"
   ]
  },
  {
   "cell_type": "code",
   "execution_count": null,
   "metadata": {},
   "outputs": [],
   "source": []
  },
  {
   "cell_type": "code",
   "execution_count": 7,
   "metadata": {},
   "outputs": [
    {
     "name": "stderr",
     "output_type": "stream",
     "text": [
      "[nltk_data] Downloading package punkt to C:\\Users\\Min\n",
      "[nltk_data]     Dator\\AppData\\Roaming\\nltk_data...\n",
      "[nltk_data]   Package punkt is already up-to-date!\n",
      "[nltk_data] Downloading package propbank to C:\\Users\\Min\n",
      "[nltk_data]     Dator\\AppData\\Roaming\\nltk_data...\n",
      "[nltk_data]   Package propbank is already up-to-date!\n"
     ]
    },
    {
     "data": {
      "text/markdown": [
       "\"Charlie knows a woman who likes George\": $\\exists\\ x.(Woman(x)\\ \\land\\ Knows(Charlie,x)\\ \\land\\ Likes(x,George))$"
      ],
      "text/plain": [
       "<IPython.core.display.Markdown object>"
      ]
     },
     "metadata": {},
     "output_type": "display_data"
    },
    {
     "data": {
      "text/markdown": [
       "\"George admires everybody and Lydia admires nobody\": $(\\forall\\ x.(Person(x)\\ \\rightarrow\\ Admires(George,x))\\ \\land\\ -\\exists\\ y.(Person(y)\\ \\land\\ Admires(Lydia,y)))$"
      ],
      "text/plain": [
       "<IPython.core.display.Markdown object>"
      ]
     },
     "metadata": {},
     "output_type": "display_data"
    },
    {
     "data": {
      "text/markdown": [
       "\"Nobody admires everybody\": $-\\exists\\ x.(Person(x)\\ \\land\\ \\forall\\ y.(Person(y)\\ \\rightarrow\\ Admires(x,y)))$"
      ],
      "text/plain": [
       "<IPython.core.display.Markdown object>"
      ]
     },
     "metadata": {},
     "output_type": "display_data"
    },
    {
     "data": {
      "text/markdown": [
       "\"Exactly one musician plays everything Alex wrote\": $(\\exists\\ x.(Musician(x)\\ \\land\\ \\forall\\ y.(WroteByAlex(y)\\ \\rightarrow\\ Plays(x,y)))\\ \\land\\ -\\exists\\ z.((Musician(z)\\ \\land\\ -(z\\ =\\ x))\\ \\rightarrow\\ \\forall\\ w.(WroteByAlex(w)\\ \\rightarrow\\ -Plays(z,w))))$"
      ],
      "text/plain": [
       "<IPython.core.display.Markdown object>"
      ]
     },
     "metadata": {},
     "output_type": "display_data"
    }
   ],
   "source": [
    "import nltk\n",
    "from utils import display_translation  \n",
    "\n",
    "nltk.download('punkt')\n",
    "nltk.download('propbank')\n",
    "\n",
    "read_expr = nltk.sem.Expression.fromstring\n",
    "\n",
    "sentences2 = {\n",
    "    \"Charlie knows a woman who likes George\":\n",
    "    read_expr(r'exists x. (Woman(x) & Knows(Charlie, x) & Likes(x, George))'),\n",
    "    \n",
    "    \"George admires everybody and Lydia admires nobody\":\n",
    "    read_expr(r'all x. (Person(x) -> Admires(George, x)) & -exists y. (Person(y) & Admires(Lydia, y))'),\n",
    "    \n",
    "    \"Nobody admires everybody\":\n",
    "    read_expr(r'-exists x. (Person(x) & all y. (Person(y) -> Admires(x, y)))'),\n",
    "    \n",
    "    \"Exactly one musician plays everything Alex wrote\":\n",
    "    read_expr(r'exists x. (Musician(x) & all y. (WroteByAlex(y) -> Plays(x, y))) & -exists z. (Musician(z) & z != x -> all w. (WroteByAlex(w) -> -Plays(z, w)))'),\n",
    "}\n",
    "\n",
    "for text, semrep in sentences2.items():\n",
    "    display_translation(text, semrep)"
   ]
  },
  {
   "cell_type": "code",
   "execution_count": null,
   "metadata": {},
   "outputs": [],
   "source": []
  },
  {
   "cell_type": "markdown",
   "metadata": {},
   "source": [
    "# New 19.09.2024"
   ]
  },
  {
   "cell_type": "markdown",
   "metadata": {},
   "source": [
    "Translating the sentences into quantified formula of First Order Logic involves introducing quantifiers(existential and universal) to capture the statemetn about individuals and their relationships. Consider the following:\n",
    "1. \"Charlie knows a woman who likes George\":\n",
    "   Existential quantifier: There exists some woman\n",
    "   Predicate: K(x, y)(x knows y), W(x)(x is a woman), L(x, y)(x likes y)\n",
    "   Constants: Charlie, George\n",
    "   Variable: w(for woman)\n",
    "   Formula: ∃w(W(w) ∧ K(Charlie, w) ∧ L(w, George))\n",
    "2. \"George admires everybody and Lydia admires nobody\":\n",
    "   Universal quantifier: For all individuals\n",
    "   Predicates: A (x, y) (x admires y)\n",
    "   Constants: George, Lydia\n",
    "   Variables: P(for people)o\n",
    "   Formula: ∀p(A(George, p) ∧ ¬∃p(A(Lydia, p)))\n",
    "3. \"Nobody admires everybody\":\n",
    "   Universal and existential quantifiers: For all individuals, there does not exist\n",
    "   Predicates: A(x, y) (x admires y)\n",
    "   variables: p, q (for people)\n",
    "   formula: ∀p ¬∃q(A(p, q))   \n",
    "4. \"Exactly one musician plays everything Alex wrote\":\n",
    "   Existetial quantifier: There exists one musician\n",
    "   Universal quantifier: for everything\n",
    "   Predicates: M(x) (x is a musician), P(x, y)(x plays y) W(x) (x wrote something)\n",
    "   Constant: Alex\n",
    "   Variables: m(for musician), s(for something)\n",
    "   Formula: ∃m ∀s((M(m) ∧ W(Alex, s)) -> P(m, s)) ∧ ¬∃m′∀s′((M(m′) ∧ W(Alex, s′)) -> p(m′,s′))\n"
   ]
  },
  {
   "cell_type": "code",
   "execution_count": null,
   "metadata": {},
   "outputs": [],
   "source": [
    "from nltk.sem.logic import LogicParser"
   ]
  },
  {
   "cell_type": "code",
   "execution_count": null,
   "metadata": {},
   "outputs": [],
   "source": [
    "sentences2 = {\n",
    "    \"Charlie knows a woman who likes George\":\n",
    "    read_expr('exists x (W(x) & K(Charlie, x) & L(x, George))'),\n",
    "    \n",
    "    \"George admires everybody and Lydia admires nobody\":\n",
    "    read_expr('forall p (A(George, p)) & -exists p(A(Lydia, p))'),\n",
    "\n",
    "    \"Nobody admires everybody\":\n",
    "    read_expr('forall p -exists q (A(p, q))'),\n",
    "    \n",
    "    \"Exactly one musician plays everything Alex wrote\":    \n",
    "    read_expr('exists m (forall s ((M(m) & W(Alex, s)) -> P(m, s))) & -exists m (forall s ((M(m) & W(Alex, s)) -> P(m, s)))'),\n",
    "    #read_expr('exists m (forall s ((M(m) & W(Alex, s)) -> P(m, s))) & -exists m (forall s ((M(m) & W(Alex, s)) -> P(m, s)))'),\n",
    "         \n",
    "} \n",
    "\n",
    "for text, semrep in sentences2.items():\n",
    "    display_translation(text, semrep) "
   ]
  },
  {
   "cell_type": "markdown",
   "metadata": {},
   "source": [
    "*Difficulties encountered:*"
   ]
  },
  {
   "cell_type": "markdown",
   "metadata": {},
   "source": [
    "### 5. Valuation of first order logic\n",
    "\n",
    "We observe a world with entities Lydia, George, Alex, Charlie and Bertie, sonata, etude, prelude, waltz, scherzo.\n",
    "\n",
    "1. Lydia likes Lydia, George, Alex and Charlie. George likes Lydia, Bertie and George. Alex likes Alex. Charlie likes Lydia, George, Alex, Charlie and Bertie. Bertie likes Alex.\n",
    "2. Lydia, George, Alex, Charlie and Bertie are English.\n",
    "3. Charlie and Bertie are pianists.\n",
    "4. Charlie plays a sonata, an etude and a waltz. Bertie plays a waltz and a scherzo. Lydia plays an etude, a prelude and a waltz.\n",
    "5. Lydia admires Lydia, Charlie and Bertie. George admires Lydia, George, Alex, Charlie and Bertie. Alex admires Lydia, Alex and Bertie. Charlie admires George and Bertie. Bertie admires Lydia, George, Alex, Charlie and Bertie.\n",
    "6. Lydia knows Lydia, George, Alex, Charlie and Bertie. George knows Lydia, George and Bertie. Alex knows Lydia, Alex and Bertie. Charlie knows George, Charlie and Bertie. Bertie knows Lydia, George, Alex, Charlie and Bertie.\n",
    "7. Lydia, Alex and Charlie are women.\n",
    "8. George and Bertie are men.\n",
    "9. Alex wrote a sonata, an etude an a waltz.\n",
    "10. Lydia, Alex, Charlie and Bertie are musicians.\n",
    "\n",
    "Translate this informal description of the world into a model and evaluate the formulae from Questions 3 and 4 in this model. Briefly comment on the answers you get **[3 + 2 marks]**."
   ]
  },
  {
   "cell_type": "code",
   "execution_count": 90,
   "metadata": {},
   "outputs": [
    {
     "name": "stdout",
     "output_type": "stream",
     "text": [
      "Lydia likes George but Lydia doesn't like Alex: Undefined\n"
     ]
    },
    {
     "data": {
      "text/markdown": [
       "$(likes(l,g)\\ \\land\\ ~likes(l,a))$"
      ],
      "text/plain": [
       "<IPython.core.display.Markdown object>"
      ]
     },
     "metadata": {},
     "output_type": "display_data"
    },
    {
     "data": {
      "text/markdown": [
       "----"
      ],
      "text/plain": [
       "<IPython.core.display.Markdown object>"
      ]
     },
     "metadata": {},
     "output_type": "display_data"
    },
    {
     "name": "stdout",
     "output_type": "stream",
     "text": [
      "Lydia likes herself and so does George: Undefined\n"
     ]
    },
    {
     "data": {
      "text/markdown": [
       "$(likes(l,l)\\ \\land\\ likes(g,g))$"
      ],
      "text/plain": [
       "<IPython.core.display.Markdown object>"
      ]
     },
     "metadata": {},
     "output_type": "display_data"
    },
    {
     "data": {
      "text/markdown": [
       "----"
      ],
      "text/plain": [
       "<IPython.core.display.Markdown object>"
      ]
     },
     "metadata": {},
     "output_type": "display_data"
    },
    {
     "name": "stdout",
     "output_type": "stream",
     "text": [
      "Charlie is an English pianist who plays a sonata: Undefined\n"
     ]
    },
    {
     "data": {
      "text/markdown": [
       "$(english(c)\\ \\land\\ pianist(c)\\ \\land\\ plays(c,s))$"
      ],
      "text/plain": [
       "<IPython.core.display.Markdown object>"
      ]
     },
     "metadata": {},
     "output_type": "display_data"
    },
    {
     "data": {
      "text/markdown": [
       "----"
      ],
      "text/plain": [
       "<IPython.core.display.Markdown object>"
      ]
     },
     "metadata": {},
     "output_type": "display_data"
    },
    {
     "name": "stdout",
     "output_type": "stream",
     "text": [
      "Lydia and George admire each other: Undefined\n"
     ]
    },
    {
     "data": {
      "text/markdown": [
       "$(admires(l,g)\\ \\land\\ admires(g,l))$"
      ],
      "text/plain": [
       "<IPython.core.display.Markdown object>"
      ]
     },
     "metadata": {},
     "output_type": "display_data"
    },
    {
     "data": {
      "text/markdown": [
       "----"
      ],
      "text/plain": [
       "<IPython.core.display.Markdown object>"
      ]
     },
     "metadata": {},
     "output_type": "display_data"
    },
    {
     "name": "stdout",
     "output_type": "stream",
     "text": [
      "Charlie knows a woman who likes George: Undefined\n"
     ]
    },
    {
     "data": {
      "text/markdown": [
       "$\\exists\\ w.(woman(w)\\ \\land\\ likes(w,g)\\ \\land\\ knows(c,w))$"
      ],
      "text/plain": [
       "<IPython.core.display.Markdown object>"
      ]
     },
     "metadata": {},
     "output_type": "display_data"
    },
    {
     "data": {
      "text/markdown": [
       "----"
      ],
      "text/plain": [
       "<IPython.core.display.Markdown object>"
      ]
     },
     "metadata": {},
     "output_type": "display_data"
    },
    {
     "name": "stdout",
     "output_type": "stream",
     "text": [
      "George admires everybody and Lydia admires nobody: Undefined\n"
     ]
    },
    {
     "data": {
      "text/markdown": [
       "$None$"
      ],
      "text/plain": [
       "<IPython.core.display.Markdown object>"
      ]
     },
     "metadata": {},
     "output_type": "display_data"
    },
    {
     "data": {
      "text/markdown": [
       "----"
      ],
      "text/plain": [
       "<IPython.core.display.Markdown object>"
      ]
     },
     "metadata": {},
     "output_type": "display_data"
    },
    {
     "name": "stdout",
     "output_type": "stream",
     "text": [
      "Nobody admires everybody: Undefined\n"
     ]
    },
    {
     "data": {
      "text/markdown": [
       "$None$"
      ],
      "text/plain": [
       "<IPython.core.display.Markdown object>"
      ]
     },
     "metadata": {},
     "output_type": "display_data"
    },
    {
     "data": {
      "text/markdown": [
       "----"
      ],
      "text/plain": [
       "<IPython.core.display.Markdown object>"
      ]
     },
     "metadata": {},
     "output_type": "display_data"
    },
    {
     "name": "stdout",
     "output_type": "stream",
     "text": [
      "Exactly one musician plays everything Alex wrote: Undefined\n"
     ]
    },
    {
     "data": {
      "text/markdown": [
       "$\\exists\\ m.(musician(m)\\ \\land\\ \\forall\\ z.(wrote(a,z)\\ \\rightarrow\\ plays(m,z))\\ \\land\\ \\forall\\ m2.((musician(m2)\\ \\land\\ \\forall\\ z.(wrote(a,z)\\ \\rightarrow\\ plays(m2,z)))\\ \\rightarrow\\ (m2\\ =\\ m)))$"
      ],
      "text/plain": [
       "<IPython.core.display.Markdown object>"
      ]
     },
     "metadata": {},
     "output_type": "display_data"
    },
    {
     "data": {
      "text/markdown": [
       "----"
      ],
      "text/plain": [
       "<IPython.core.display.Markdown object>"
      ]
     },
     "metadata": {},
     "output_type": "display_data"
    }
   ],
   "source": [
    "entities = set(['b', 'a', 'g', 'p','t','e','h','r','so','u', 'sc', 'l','w','c'])\n",
    "assignments = \"\"\"\n",
    "Lydia => l\n",
    "George => g\n",
    "Alex => a\n",
    "Charlie => c\n",
    "Bertie => b\n",
    "sonata => so\n",
    "etude => e\n",
    "waltz => w\n",
    "scherzo => sc\n",
    "likes => {(l, l),(l, g), (l, a), (l, c), (g, l), (g, b), (g,g), (a,a), (c, l), (c, g), (c, a), (c, c), (c, b), (b, a)}\n",
    "english => {l, g, a, c, b}\n",
    "pianist => {c, b}\n",
    "plays => {(c, so), (c, e), (c, w), (b, w), (b, sc), (l, e), (l, p), (l, w)}\n",
    "admires => {(l, l), (l, c), (l, b), (g, l), (g, g), (g, a), (g, c), (g, b), (a, l), (a, a), (c, g), (c, b), (b, l), (b, g), (b, a), (b, c), (b, b)}\n",
    "knows => {(l, l), (l, g), (l, a), (l, c), (l, b), (g, l), (g, g), (g, b), (a, l), (a, a), (a, b), (c, g), (c, c), (c, b), (b, l), (b, g), (b, g), (b, a), (b, c), (b, b)}\n",
    "woman => {l, a, c}\n",
    "man => {g, b}\n",
    "wrote => {(a, so), (a, c), (a, w)}\n",
    "musician => {l, a, c, b}\n",
    "\"\"\"\n",
    "\n",
    "#Create the valuation\n",
    "val = Valuation.fromstring(assignments)\n",
    "model = Model(entities, val)\n",
    "\n",
    "# Define the assignment\n",
    "g = nltk.Assignment(entities)\n",
    "\n",
    "#Sentences from question 3\n",
    "for text, semrep in sentences1.items():\n",
    "    print(f\"{text}: {model.evaluate(str(semrep), g)}\")\n",
    "    display_latex(semrep)\n",
    "    display(Markdown('----'))\n",
    "#Sentences from question 4\n",
    "for text, semrep in sentences2.items():\n",
    "    print(f\"{text}: {model.evaluate(str(semrep), g)}\")\n",
    "    display_latex(semrep)\n",
    "    display(Markdown('----'))"
   ]
  },
  {
   "cell_type": "code",
   "execution_count": null,
   "metadata": {},
   "outputs": [],
   "source": []
  },
  {
   "cell_type": "code",
   "execution_count": null,
   "metadata": {},
   "outputs": [],
   "source": []
  },
  {
   "cell_type": "code",
   "execution_count": null,
   "metadata": {},
   "outputs": [],
   "source": []
  },
  {
   "cell_type": "code",
   "execution_count": null,
   "metadata": {},
   "outputs": [],
   "source": []
  },
  {
   "cell_type": "code",
   "execution_count": null,
   "metadata": {},
   "outputs": [],
   "source": []
  },
  {
   "cell_type": "code",
   "execution_count": null,
   "metadata": {},
   "outputs": [],
   "source": []
  },
  {
   "cell_type": "code",
   "execution_count": null,
   "metadata": {},
   "outputs": [],
   "source": []
  },
  {
   "cell_type": "code",
   "execution_count": null,
   "metadata": {},
   "outputs": [],
   "source": []
  },
  {
   "cell_type": "code",
   "execution_count": 50,
   "metadata": {},
   "outputs": [
    {
     "name": "stdout",
     "output_type": "stream",
     "text": [
      "Error in valuation creation: list index out of range\n",
      "Error creating model: 'NoneType' object has no attribute 'domain'\n",
      "Evaluating: Lydia likes George but Lydia doesn't like Alex\n",
      "Error evaluating: 'NoneType' object has no attribute 'evaluate'\n"
     ]
    },
    {
     "data": {
      "text/markdown": [
       "$(likes(Lydia,George)\\ \\land\\ -likes(Lydia,Alex))$"
      ],
      "text/plain": [
       "<IPython.core.display.Markdown object>"
      ]
     },
     "metadata": {},
     "output_type": "display_data"
    },
    {
     "data": {
      "text/markdown": [
       "----"
      ],
      "text/plain": [
       "<IPython.core.display.Markdown object>"
      ]
     },
     "metadata": {},
     "output_type": "display_data"
    },
    {
     "name": "stdout",
     "output_type": "stream",
     "text": [
      "Evaluating: Lydia likes herself and so does George\n",
      "Error evaluating: 'NoneType' object has no attribute 'evaluate'\n"
     ]
    },
    {
     "data": {
      "text/markdown": [
       "$(likes(Lydia,Lydia)\\ \\land\\ likes(George,George))$"
      ],
      "text/plain": [
       "<IPython.core.display.Markdown object>"
      ]
     },
     "metadata": {},
     "output_type": "display_data"
    },
    {
     "data": {
      "text/markdown": [
       "----"
      ],
      "text/plain": [
       "<IPython.core.display.Markdown object>"
      ]
     },
     "metadata": {},
     "output_type": "display_data"
    },
    {
     "name": "stdout",
     "output_type": "stream",
     "text": [
      "Evaluating: Charlie is an English pianist who plays a sonata\n",
      "Error evaluating: 'NoneType' object has no attribute 'evaluate'\n"
     ]
    },
    {
     "data": {
      "text/markdown": [
       "$(english(Charlie)\\ \\land\\ pianist(Charlie)\\ \\land\\ plays(Charlie,sonata))$"
      ],
      "text/plain": [
       "<IPython.core.display.Markdown object>"
      ]
     },
     "metadata": {},
     "output_type": "display_data"
    },
    {
     "data": {
      "text/markdown": [
       "----"
      ],
      "text/plain": [
       "<IPython.core.display.Markdown object>"
      ]
     },
     "metadata": {},
     "output_type": "display_data"
    },
    {
     "name": "stdout",
     "output_type": "stream",
     "text": [
      "Evaluating: Lydia and George admire each other\n",
      "Error evaluating: 'NoneType' object has no attribute 'evaluate'\n"
     ]
    },
    {
     "data": {
      "text/markdown": [
       "$(admires(Lydia,George)\\ \\land\\ admires(George,Lydia))$"
      ],
      "text/plain": [
       "<IPython.core.display.Markdown object>"
      ]
     },
     "metadata": {},
     "output_type": "display_data"
    },
    {
     "data": {
      "text/markdown": [
       "----"
      ],
      "text/plain": [
       "<IPython.core.display.Markdown object>"
      ]
     },
     "metadata": {},
     "output_type": "display_data"
    },
    {
     "name": "stdout",
     "output_type": "stream",
     "text": [
      "Evaluating: Charlie knows a woman who likes George\n",
      "Error evaluating: 'NoneType' object has no attribute 'evaluate'\n"
     ]
    },
    {
     "data": {
      "text/markdown": [
       "$\\exists\\ w.(woman(w)\\ \\land\\ likes(w,George)\\ \\land\\ knows(Charlie,w))$"
      ],
      "text/plain": [
       "<IPython.core.display.Markdown object>"
      ]
     },
     "metadata": {},
     "output_type": "display_data"
    },
    {
     "data": {
      "text/markdown": [
       "----"
      ],
      "text/plain": [
       "<IPython.core.display.Markdown object>"
      ]
     },
     "metadata": {},
     "output_type": "display_data"
    },
    {
     "name": "stdout",
     "output_type": "stream",
     "text": [
      "Evaluating: George admires everybody and Lydia admires nobody\n",
      "Error evaluating: 'NoneType' object has no attribute 'evaluate'\n"
     ]
    },
    {
     "data": {
      "text/markdown": [
       "$(\\forall\\ x.admires(George,x)\\ \\land\\ -\\exists\\ y.admires(Lydia,y))$"
      ],
      "text/plain": [
       "<IPython.core.display.Markdown object>"
      ]
     },
     "metadata": {},
     "output_type": "display_data"
    },
    {
     "data": {
      "text/markdown": [
       "----"
      ],
      "text/plain": [
       "<IPython.core.display.Markdown object>"
      ]
     },
     "metadata": {},
     "output_type": "display_data"
    },
    {
     "name": "stdout",
     "output_type": "stream",
     "text": [
      "Evaluating: Nobody admires everybody\n",
      "Error evaluating: 'NoneType' object has no attribute 'evaluate'\n"
     ]
    },
    {
     "data": {
      "text/markdown": [
       "$-\\exists\\ x.\\forall\\ y.admires(x,y)$"
      ],
      "text/plain": [
       "<IPython.core.display.Markdown object>"
      ]
     },
     "metadata": {},
     "output_type": "display_data"
    },
    {
     "data": {
      "text/markdown": [
       "----"
      ],
      "text/plain": [
       "<IPython.core.display.Markdown object>"
      ]
     },
     "metadata": {},
     "output_type": "display_data"
    },
    {
     "name": "stdout",
     "output_type": "stream",
     "text": [
      "Evaluating: Exactly one musician plays everything Alex wrote\n",
      "Error evaluating: 'NoneType' object has no attribute 'evaluate'\n"
     ]
    },
    {
     "data": {
      "text/markdown": [
       "$\\exists\\ m.(musician(m)\\ \\land\\ \\forall\\ z.(wrote(Alex,z)\\ \\rightarrow\\ plays(m,z))\\ \\land\\ \\forall\\ m2.((musician(m2)\\ \\land\\ \\forall\\ z.(wrote(Alex,z)\\ \\rightarrow\\ plays(m2,z)))\\ \\rightarrow\\ (m2\\ =\\ m)))$"
      ],
      "text/plain": [
       "<IPython.core.display.Markdown object>"
      ]
     },
     "metadata": {},
     "output_type": "display_data"
    },
    {
     "data": {
      "text/markdown": [
       "----"
      ],
      "text/plain": [
       "<IPython.core.display.Markdown object>"
      ]
     },
     "metadata": {},
     "output_type": "display_data"
    }
   ],
   "source": [
    "import nltk\n",
    "from nltk.sem import Valuation, Model, Assignment\n",
    "from nltk.sem import Expression\n",
    "from utils import display_latex, display, Markdown\n",
    "\n",
    "# Define the entities in the world\n",
    "entities = set(['l', 'g', 'a', 'c', 'b', 's', 'e', 'p', 'w', 'z'])  # Correct symbols\n",
    "\n",
    "# Valuation: Correct symbol names\n",
    "assign = \"\"\"\n",
    "Lydia = l\n",
    "George = g\n",
    "Alex = a\n",
    "Charlie = c\n",
    "Bertie = b\n",
    "sonata = s\n",
    "etude = e\n",
    "prelude = p\n",
    "waltz = w\n",
    "scherzo = z\n",
    "\n",
    "likes = {(l, l), (l, g), (l, a), (l, c), (g, l), (g, b), (g, g), \n",
    "         (a, a), (c, l), (c, g), (c, a), (c, c), (c, b), (b, a)}\n",
    "\n",
    "admires = {(l, l), (l, c), (l, b), (g, l), (g, g), (g, a), \n",
    "           (g, c), (g, b), (a, l), (a, a), (a, b), (c, g), (c, b), \n",
    "           (b, l), (b, g), (b, a), (b, c), (b, b)}\n",
    "\n",
    "knows = {(l, l), (l, g), (l, a), (l, c), (l, b), (g, l), (g, g), \n",
    "         (g, b), (a, l), (a, a), (a, b), (c, g), (c, c), (c, b), \n",
    "         (b, l), (b, g), (b, a), (b, c), (b, b)}\n",
    "\n",
    "pianist = {c, b}\n",
    "musician = {l, a, c, b}\n",
    "wrote = {(a, s), (a, e), (a, w)}\n",
    "plays = {(c, s), (c, e), (c, w), (b, w), (b, z), (l, e), (l, p), (l, w)}\n",
    "\n",
    "woman = {l, a, c}\n",
    "man = {g, b}\n",
    "english = {l, g, a, c, b}\n",
    "\"\"\"\n",
    "\n",
    "# Create the valuation object\n",
    "try:\n",
    "    val2 = nltk.Valuation.fromstring(assign)\n",
    "except Exception as e:\n",
    "    print(f\"Error in valuation creation: {e}\")\n",
    "\n",
    "# Create the assignment and model\n",
    "g2 = nltk.Assignment(entities)\n",
    "try:\n",
    "    m2 = nltk.Model(entities, val2)\n",
    "except Exception as e:\n",
    "    print(f\"Error creating model: {e}\")\n",
    "\n",
    "# Define the sentences from Question 3 and 4\n",
    "\n",
    "# Sentences from Question 3: Predicate logic without quantifiers\n",
    "sentences1 = {\n",
    "    \"Lydia likes George but Lydia doesn't like Alex\": \n",
    "    read_expr(r'likes(Lydia, George) & not likes(Lydia, Alex)'),\n",
    "    \n",
    "    \"Lydia likes herself and so does George\":\n",
    "    read_expr(r'likes(Lydia, Lydia) & likes(George, George)'),\n",
    "    \n",
    "    \"Charlie is an English pianist who plays a sonata\":\n",
    "    read_expr(r'english(Charlie) & pianist(Charlie) & plays(Charlie, sonata)'),\n",
    "    \n",
    "    \"Lydia and George admire each other\":\n",
    "    read_expr(r'admires(Lydia, George) & admires(George, Lydia)'),\n",
    "}\n",
    "\n",
    "# Sentences from Question 4: Predicate logic with quantifiers\n",
    "sentences2 = {\n",
    "    \"Charlie knows a woman who likes George\":\n",
    "    read_expr(r'exists w. (woman(w) & likes(w, George) & knows(Charlie, w))'),\n",
    "    \n",
    "    \"George admires everybody and Lydia admires nobody\":\n",
    "    read_expr(r'all x. admires(George, x) & not exists y. admires(Lydia, y)'),\n",
    "\n",
    "    \"Nobody admires everybody\":\n",
    "    read_expr(r'not exists x. (all y. admires(x, y))'),\n",
    "    \n",
    "    \"Exactly one musician plays everything Alex wrote\":\n",
    "    read_expr(r'exists m. (musician(m) & all z. (wrote(Alex, z) -> plays(m, z)) '\n",
    "              r'& all m2. ((musician(m2) & all z. (wrote(Alex, z) -> plays(m2, z))) -> m2 = m))'),\n",
    "}\n",
    "\n",
    "# Evaluate sentences from Question 3\n",
    "for text, semrep in sentences1.items():\n",
    "    print(f\"Evaluating: {text}\")\n",
    "    try:\n",
    "        result = m2.evaluate(str(semrep), g2)\n",
    "        print(f\"Result: {result}\")\n",
    "    except Exception as e:\n",
    "        print(f\"Error evaluating: {e}\")\n",
    "    display_latex(semrep)\n",
    "    display(Markdown('----'))\n",
    "\n",
    "# Evaluate sentences from Question 4\n",
    "for text, semrep in sentences2.items():\n",
    "    print(f\"Evaluating: {text}\")\n",
    "    try:\n",
    "        result = m2.evaluate(str(semrep), g2)\n",
    "        print(f\"Result: {result}\")\n",
    "    except Exception as e:\n",
    "        print(f\"Error evaluating: {e}\")\n",
    "    display_latex(semrep)\n",
    "    display(Markdown('----'))"
   ]
  },
  {
   "cell_type": "code",
   "execution_count": null,
   "metadata": {},
   "outputs": [],
   "source": []
  },
  {
   "cell_type": "code",
   "execution_count": 51,
   "metadata": {},
   "outputs": [
    {
     "name": "stdout",
     "output_type": "stream",
     "text": [
      "Error in valuation creation: list index out of range\n",
      "Error creating model: 'NoneType' object has no attribute 'domain'\n",
      "Evaluating: Lydia likes George but Lydia doesn't like Alex\n",
      "Error evaluating: 'NoneType' object has no attribute 'evaluate'\n"
     ]
    },
    {
     "data": {
      "text/markdown": [
       "$(likes(Lydia,George)\\ \\land\\ -likes(Lydia,Alex))$"
      ],
      "text/plain": [
       "<IPython.core.display.Markdown object>"
      ]
     },
     "metadata": {},
     "output_type": "display_data"
    },
    {
     "data": {
      "text/markdown": [
       "----"
      ],
      "text/plain": [
       "<IPython.core.display.Markdown object>"
      ]
     },
     "metadata": {},
     "output_type": "display_data"
    },
    {
     "name": "stdout",
     "output_type": "stream",
     "text": [
      "Evaluating: Lydia likes herself and so does George\n",
      "Error evaluating: 'NoneType' object has no attribute 'evaluate'\n"
     ]
    },
    {
     "data": {
      "text/markdown": [
       "$(likes(Lydia,Lydia)\\ \\land\\ likes(George,George))$"
      ],
      "text/plain": [
       "<IPython.core.display.Markdown object>"
      ]
     },
     "metadata": {},
     "output_type": "display_data"
    },
    {
     "data": {
      "text/markdown": [
       "----"
      ],
      "text/plain": [
       "<IPython.core.display.Markdown object>"
      ]
     },
     "metadata": {},
     "output_type": "display_data"
    },
    {
     "name": "stdout",
     "output_type": "stream",
     "text": [
      "Evaluating: Charlie is an English pianist who plays a sonata\n",
      "Error evaluating: 'NoneType' object has no attribute 'evaluate'\n"
     ]
    },
    {
     "data": {
      "text/markdown": [
       "$(english(Charlie)\\ \\land\\ pianist(Charlie)\\ \\land\\ plays(Charlie,sonata))$"
      ],
      "text/plain": [
       "<IPython.core.display.Markdown object>"
      ]
     },
     "metadata": {},
     "output_type": "display_data"
    },
    {
     "data": {
      "text/markdown": [
       "----"
      ],
      "text/plain": [
       "<IPython.core.display.Markdown object>"
      ]
     },
     "metadata": {},
     "output_type": "display_data"
    },
    {
     "name": "stdout",
     "output_type": "stream",
     "text": [
      "Evaluating: Lydia and George admire each other\n",
      "Error evaluating: 'NoneType' object has no attribute 'evaluate'\n"
     ]
    },
    {
     "data": {
      "text/markdown": [
       "$(admires(Lydia,George)\\ \\land\\ admires(George,Lydia))$"
      ],
      "text/plain": [
       "<IPython.core.display.Markdown object>"
      ]
     },
     "metadata": {},
     "output_type": "display_data"
    },
    {
     "data": {
      "text/markdown": [
       "----"
      ],
      "text/plain": [
       "<IPython.core.display.Markdown object>"
      ]
     },
     "metadata": {},
     "output_type": "display_data"
    },
    {
     "name": "stdout",
     "output_type": "stream",
     "text": [
      "Evaluating: Charlie knows a woman who likes George\n",
      "Error evaluating: 'NoneType' object has no attribute 'evaluate'\n"
     ]
    },
    {
     "data": {
      "text/markdown": [
       "$\\exists\\ w.(woman(w)\\ \\land\\ likes(w,George)\\ \\land\\ knows(Charlie,w))$"
      ],
      "text/plain": [
       "<IPython.core.display.Markdown object>"
      ]
     },
     "metadata": {},
     "output_type": "display_data"
    },
    {
     "data": {
      "text/markdown": [
       "----"
      ],
      "text/plain": [
       "<IPython.core.display.Markdown object>"
      ]
     },
     "metadata": {},
     "output_type": "display_data"
    },
    {
     "name": "stdout",
     "output_type": "stream",
     "text": [
      "Evaluating: George admires everybody and Lydia admires nobody\n",
      "Error evaluating: 'NoneType' object has no attribute 'evaluate'\n"
     ]
    },
    {
     "data": {
      "text/markdown": [
       "$(\\forall\\ x.admires(George,x)\\ \\land\\ -\\exists\\ y.admires(Lydia,y))$"
      ],
      "text/plain": [
       "<IPython.core.display.Markdown object>"
      ]
     },
     "metadata": {},
     "output_type": "display_data"
    },
    {
     "data": {
      "text/markdown": [
       "----"
      ],
      "text/plain": [
       "<IPython.core.display.Markdown object>"
      ]
     },
     "metadata": {},
     "output_type": "display_data"
    },
    {
     "name": "stdout",
     "output_type": "stream",
     "text": [
      "Evaluating: Nobody admires everybody\n",
      "Error evaluating: 'NoneType' object has no attribute 'evaluate'\n"
     ]
    },
    {
     "data": {
      "text/markdown": [
       "$-\\exists\\ x.\\forall\\ y.admires(x,y)$"
      ],
      "text/plain": [
       "<IPython.core.display.Markdown object>"
      ]
     },
     "metadata": {},
     "output_type": "display_data"
    },
    {
     "data": {
      "text/markdown": [
       "----"
      ],
      "text/plain": [
       "<IPython.core.display.Markdown object>"
      ]
     },
     "metadata": {},
     "output_type": "display_data"
    },
    {
     "name": "stdout",
     "output_type": "stream",
     "text": [
      "Evaluating: Exactly one musician plays everything Alex wrote\n",
      "Error evaluating: 'NoneType' object has no attribute 'evaluate'\n"
     ]
    },
    {
     "data": {
      "text/markdown": [
       "$\\exists\\ m.(musician(m)\\ \\land\\ \\forall\\ z.(wrote(Alex,z)\\ \\rightarrow\\ plays(m,z))\\ \\land\\ \\forall\\ m2.((musician(m2)\\ \\land\\ \\forall\\ z.(wrote(Alex,z)\\ \\rightarrow\\ plays(m2,z)))\\ \\rightarrow\\ (m2\\ =\\ m)))$"
      ],
      "text/plain": [
       "<IPython.core.display.Markdown object>"
      ]
     },
     "metadata": {},
     "output_type": "display_data"
    },
    {
     "data": {
      "text/markdown": [
       "----"
      ],
      "text/plain": [
       "<IPython.core.display.Markdown object>"
      ]
     },
     "metadata": {},
     "output_type": "display_data"
    }
   ],
   "source": [
    "import nltk\n",
    "from nltk.sem import Valuation, Model, Assignment\n",
    "from nltk.sem import Expression\n",
    "from utils import display_latex, display, Markdown\n",
    "\n",
    "# Define the entities in the world\n",
    "entities = set(['l', 'g', 'a', 'c', 'b', 's', 'e', 'p', 'w', 'z'])  # Correct symbols\n",
    "\n",
    "# Valuation: Ensure the symbols match exactly\n",
    "assign = \"\"\"\n",
    "Lydia = l\n",
    "George = g\n",
    "Alex = a\n",
    "Charlie = c\n",
    "Bertie = b\n",
    "sonata = s\n",
    "etude = e\n",
    "prelude = p\n",
    "waltz = w\n",
    "scherzo = z\n",
    "\n",
    "likes = {(l, l), (l, g), (l, a), (l, c), (g, l), (g, b), (g, g), \n",
    "         (a, a), (c, l), (c, g), (c, a), (c, c), (c, b), (b, a)}\n",
    "\n",
    "admires = {(l, l), (l, c), (l, b), (g, l), (g, g), (g, a), \n",
    "           (g, c), (g, b), (a, l), (a, a), (a, b), (c, g), (c, b), \n",
    "           (b, l), (b, g), (b, a), (b, c), (b, b)}\n",
    "\n",
    "knows = {(l, l), (l, g), (l, a), (l, c), (l, b), (g, l), (g, g), \n",
    "         (g, b), (a, l), (a, a), (a, b), (c, g), (c, c), (c, b), \n",
    "         (b, l), (b, g), (b, a), (b, c), (b, b)}\n",
    "\n",
    "pianist = {c, b}\n",
    "musician = {l, a, c, b}\n",
    "wrote = {(a, s), (a, e), (a, w)}\n",
    "plays = {(c, s), (c, e), (c, w), (b, w), (b, z), (l, e), (l, p), (l, w)}\n",
    "\n",
    "woman = {l, a, c}\n",
    "man = {g, b}\n",
    "english = {l, g, a, c, b}\n",
    "\"\"\"\n",
    "\n",
    "# Create the valuation object\n",
    "try:\n",
    "    val2 = nltk.Valuation.fromstring(assign)\n",
    "except Exception as e:\n",
    "    print(f\"Error in valuation creation: {e}\")\n",
    "\n",
    "# Create the assignment and model\n",
    "g2 = nltk.Assignment(entities)\n",
    "try:\n",
    "    m2 = nltk.Model(entities, val2)\n",
    "except Exception as e:\n",
    "    print(f\"Error creating model: {e}\")\n",
    "\n",
    "# Define the sentences from Question 3 and 4\n",
    "\n",
    "# Sentences from Question 3: Predicate logic without quantifiers\n",
    "sentences1 = {\n",
    "    \"Lydia likes George but Lydia doesn't like Alex\": \n",
    "    read_expr(r'likes(Lydia, George) & not likes(Lydia, Alex)'),\n",
    "    \n",
    "    \"Lydia likes herself and so does George\":\n",
    "    read_expr(r'likes(Lydia, Lydia) & likes(George, George)'),\n",
    "    \n",
    "    \"Charlie is an English pianist who plays a sonata\":\n",
    "    read_expr(r'english(Charlie) & pianist(Charlie) & plays(Charlie, sonata)'),\n",
    "    \n",
    "    \"Lydia and George admire each other\":\n",
    "    read_expr(r'admires(Lydia, George) & admires(George, Lydia)'),\n",
    "}\n",
    "\n",
    "# Sentences from Question 4: Predicate logic with quantifiers\n",
    "sentences2 = {\n",
    "    \"Charlie knows a woman who likes George\":\n",
    "    read_expr(r'exists w. (woman(w) & likes(w, George) & knows(Charlie, w))'),\n",
    "    \n",
    "    \"George admires everybody and Lydia admires nobody\":\n",
    "    read_expr(r'all x. admires(George, x) & not exists y. admires(Lydia, y)'),\n",
    "\n",
    "    \"Nobody admires everybody\":\n",
    "    read_expr(r'not exists x. (all y. admires(x, y))'),\n",
    "    \n",
    "    \"Exactly one musician plays everything Alex wrote\":\n",
    "    read_expr(r'exists m. (musician(m) & all z. (wrote(Alex, z) -> plays(m, z)) '\n",
    "              r'& all m2. ((musician(m2) & all z. (wrote(Alex, z) -> plays(m2, z))) -> m2 = m))'),\n",
    "}\n",
    "\n",
    "# Evaluate sentences from Question 3\n",
    "for text, semrep in sentences1.items():\n",
    "    print(f\"Evaluating: {text}\")\n",
    "    try:\n",
    "        result = m2.evaluate(str(semrep), g2)\n",
    "        print(f\"Result: {result}\")\n",
    "    except Exception as e:\n",
    "        print(f\"Error evaluating: {e}\")\n",
    "    display_latex(semrep)\n",
    "    display(Markdown('----'))\n",
    "\n",
    "# Evaluate sentences from Question 4\n",
    "for text, semrep in sentences2.items():\n",
    "    print(f\"Evaluating: {text}\")\n",
    "    try:\n",
    "        result = m2.evaluate(str(semrep), g2)\n",
    "        print(f\"Result: {result}\")\n",
    "    except Exception as e:\n",
    "        print(f\"Error evaluating: {e}\")\n",
    "    display_latex(semrep)\n",
    "    display(Markdown('----'))"
   ]
  },
  {
   "cell_type": "code",
   "execution_count": null,
   "metadata": {},
   "outputs": [],
   "source": []
  },
  {
   "cell_type": "code",
   "execution_count": 52,
   "metadata": {},
   "outputs": [
    {
     "name": "stdout",
     "output_type": "stream",
     "text": [
      "Error in valuation creation: list index out of range\n",
      "Error creating model: 'NoneType' object has no attribute 'domain'\n",
      "Evaluating: Lydia likes George but Lydia doesn't like Alex\n",
      "Error evaluating: 'NoneType' object has no attribute 'evaluate'\n"
     ]
    },
    {
     "data": {
      "text/markdown": [
       "$(likes(Lydia,George)\\ \\land\\ -likes(Lydia,Alex))$"
      ],
      "text/plain": [
       "<IPython.core.display.Markdown object>"
      ]
     },
     "metadata": {},
     "output_type": "display_data"
    },
    {
     "data": {
      "text/markdown": [
       "----"
      ],
      "text/plain": [
       "<IPython.core.display.Markdown object>"
      ]
     },
     "metadata": {},
     "output_type": "display_data"
    },
    {
     "name": "stdout",
     "output_type": "stream",
     "text": [
      "Evaluating: Lydia likes herself and so does George\n",
      "Error evaluating: 'NoneType' object has no attribute 'evaluate'\n"
     ]
    },
    {
     "data": {
      "text/markdown": [
       "$(likes(Lydia,Lydia)\\ \\land\\ likes(George,George))$"
      ],
      "text/plain": [
       "<IPython.core.display.Markdown object>"
      ]
     },
     "metadata": {},
     "output_type": "display_data"
    },
    {
     "data": {
      "text/markdown": [
       "----"
      ],
      "text/plain": [
       "<IPython.core.display.Markdown object>"
      ]
     },
     "metadata": {},
     "output_type": "display_data"
    },
    {
     "name": "stdout",
     "output_type": "stream",
     "text": [
      "Evaluating: Charlie is an English pianist who plays a sonata\n",
      "Error evaluating: 'NoneType' object has no attribute 'evaluate'\n"
     ]
    },
    {
     "data": {
      "text/markdown": [
       "$(english(Charlie)\\ \\land\\ pianist(Charlie)\\ \\land\\ plays(Charlie,sonata))$"
      ],
      "text/plain": [
       "<IPython.core.display.Markdown object>"
      ]
     },
     "metadata": {},
     "output_type": "display_data"
    },
    {
     "data": {
      "text/markdown": [
       "----"
      ],
      "text/plain": [
       "<IPython.core.display.Markdown object>"
      ]
     },
     "metadata": {},
     "output_type": "display_data"
    },
    {
     "name": "stdout",
     "output_type": "stream",
     "text": [
      "Evaluating: Lydia and George admire each other\n",
      "Error evaluating: 'NoneType' object has no attribute 'evaluate'\n"
     ]
    },
    {
     "data": {
      "text/markdown": [
       "$(admires(Lydia,George)\\ \\land\\ admires(George,Lydia))$"
      ],
      "text/plain": [
       "<IPython.core.display.Markdown object>"
      ]
     },
     "metadata": {},
     "output_type": "display_data"
    },
    {
     "data": {
      "text/markdown": [
       "----"
      ],
      "text/plain": [
       "<IPython.core.display.Markdown object>"
      ]
     },
     "metadata": {},
     "output_type": "display_data"
    },
    {
     "name": "stdout",
     "output_type": "stream",
     "text": [
      "Evaluating: Charlie knows a woman who likes George\n",
      "Error evaluating: 'NoneType' object has no attribute 'evaluate'\n"
     ]
    },
    {
     "data": {
      "text/markdown": [
       "$\\exists\\ w.(woman(w)\\ \\land\\ likes(w,George)\\ \\land\\ knows(Charlie,w))$"
      ],
      "text/plain": [
       "<IPython.core.display.Markdown object>"
      ]
     },
     "metadata": {},
     "output_type": "display_data"
    },
    {
     "data": {
      "text/markdown": [
       "----"
      ],
      "text/plain": [
       "<IPython.core.display.Markdown object>"
      ]
     },
     "metadata": {},
     "output_type": "display_data"
    },
    {
     "name": "stdout",
     "output_type": "stream",
     "text": [
      "Evaluating: George admires everybody and Lydia admires nobody\n",
      "Error evaluating: 'NoneType' object has no attribute 'evaluate'\n"
     ]
    },
    {
     "data": {
      "text/markdown": [
       "$(\\forall\\ x.admires(George,x)\\ \\land\\ -\\exists\\ y.admires(Lydia,y))$"
      ],
      "text/plain": [
       "<IPython.core.display.Markdown object>"
      ]
     },
     "metadata": {},
     "output_type": "display_data"
    },
    {
     "data": {
      "text/markdown": [
       "----"
      ],
      "text/plain": [
       "<IPython.core.display.Markdown object>"
      ]
     },
     "metadata": {},
     "output_type": "display_data"
    },
    {
     "name": "stdout",
     "output_type": "stream",
     "text": [
      "Evaluating: Nobody admires everybody\n",
      "Error evaluating: 'NoneType' object has no attribute 'evaluate'\n"
     ]
    },
    {
     "data": {
      "text/markdown": [
       "$-\\exists\\ x.\\forall\\ y.admires(x,y)$"
      ],
      "text/plain": [
       "<IPython.core.display.Markdown object>"
      ]
     },
     "metadata": {},
     "output_type": "display_data"
    },
    {
     "data": {
      "text/markdown": [
       "----"
      ],
      "text/plain": [
       "<IPython.core.display.Markdown object>"
      ]
     },
     "metadata": {},
     "output_type": "display_data"
    },
    {
     "name": "stdout",
     "output_type": "stream",
     "text": [
      "Evaluating: Exactly one musician plays everything Alex wrote\n",
      "Error evaluating: 'NoneType' object has no attribute 'evaluate'\n"
     ]
    },
    {
     "data": {
      "text/markdown": [
       "$\\exists\\ m.(musician(m)\\ \\land\\ \\forall\\ z.(wrote(Alex,z)\\ \\rightarrow\\ plays(m,z))\\ \\land\\ \\forall\\ m2.((musician(m2)\\ \\land\\ \\forall\\ z.(wrote(Alex,z)\\ \\rightarrow\\ plays(m2,z)))\\ \\rightarrow\\ (m2\\ =\\ m)))$"
      ],
      "text/plain": [
       "<IPython.core.display.Markdown object>"
      ]
     },
     "metadata": {},
     "output_type": "display_data"
    },
    {
     "data": {
      "text/markdown": [
       "----"
      ],
      "text/plain": [
       "<IPython.core.display.Markdown object>"
      ]
     },
     "metadata": {},
     "output_type": "display_data"
    }
   ],
   "source": [
    "import nltk\n",
    "from nltk.sem import Valuation, Model, Assignment\n",
    "from nltk.sem import Expression\n",
    "from utils import display_latex, display, Markdown\n",
    "\n",
    "# Define the entities in the world\n",
    "entities = {'l', 'g', 'a', 'c', 'b', 's', 'e', 'p', 'w', 'z'}  # Correct symbols\n",
    "\n",
    "# Valuation: Ensure the symbols match exactly\n",
    "assign = \"\"\"\n",
    "Lydia = l\n",
    "George = g\n",
    "Alex = a\n",
    "Charlie = c\n",
    "Bertie = b\n",
    "sonata = s\n",
    "etude = e\n",
    "prelude = p\n",
    "waltz = w\n",
    "scherzo = z\n",
    "\n",
    "likes = {(l, g), (l, a), (l, c), (g, l), (g, b), (g, g), (a, a), (c, l), (c, g), (c, a), (c, b), (b, a)}\n",
    "\n",
    "admires = {(l, l), (l, c), (l, b), (g, l), (g, g), (g, a), (g, c), (g, b), (a, l), (a, a), (a, b), (c, g), (c, b), (b, l), (b, g), (b, a), (b, c), (b, b)}\n",
    "\n",
    "knows = {(l, l), (l, g), (l, a), (l, c), (l, b), (g, l), (g, g), (g, b), (a, l), (a, a), (a, b), (c, g), (c, c), (c, b), (b, l), (b, g), (b, a), (b, c), (b, b)}\n",
    "\n",
    "pianist = {c, b}\n",
    "musician = {l, a, c, b}\n",
    "wrote = {(a, s), (a, e), (a, w)}\n",
    "plays = {(c, s), (c, e), (c, w), (b, w), (b, z), (l, e), (l, p), (l, w)}\n",
    "\n",
    "woman = {l, a, c}\n",
    "man = {g, b}\n",
    "english = {l, g, a, c, b}\n",
    "\"\"\"\n",
    "\n",
    "# Create the valuation object\n",
    "try:\n",
    "    val2 = nltk.Valuation.fromstring(assign)\n",
    "except Exception as e:\n",
    "    print(f\"Error in valuation creation: {e}\")\n",
    "\n",
    "# Create the assignment and model\n",
    "g2 = nltk.Assignment(entities)\n",
    "try:\n",
    "    m2 = nltk.Model(entities, val2)\n",
    "except Exception as e:\n",
    "    print(f\"Error creating model: {e}\")\n",
    "\n",
    "# Define the sentences from Question 3 and 4\n",
    "\n",
    "# Sentences from Question 3: Predicate logic without quantifiers\n",
    "sentences1 = {\n",
    "    \"Lydia likes George but Lydia doesn't like Alex\": \n",
    "    Expression.fromstring('likes(Lydia, George) & not likes(Lydia, Alex)'),\n",
    "    \n",
    "    \"Lydia likes herself and so does George\":\n",
    "    Expression.fromstring('likes(Lydia, Lydia) & likes(George, George)'),\n",
    "    \n",
    "    \"Charlie is an English pianist who plays a sonata\":\n",
    "    Expression.fromstring('english(Charlie) & pianist(Charlie) & plays(Charlie, sonata)'),\n",
    "    \n",
    "    \"Lydia and George admire each other\":\n",
    "    Expression.fromstring('admires(Lydia, George) & admires(George, Lydia)'),\n",
    "}\n",
    "\n",
    "# Sentences from Question 4: Predicate logic with quantifiers\n",
    "sentences2 = {\n",
    "    \"Charlie knows a woman who likes George\":\n",
    "    Expression.fromstring('exists w. (woman(w) & likes(w, George) & knows(Charlie, w))'),\n",
    "    \n",
    "    \"George admires everybody and Lydia admires nobody\":\n",
    "    Expression.fromstring('all x. admires(George, x) & not exists y. admires(Lydia, y)'),\n",
    "\n",
    "    \"Nobody admires everybody\":\n",
    "    Expression.fromstring('not exists x. (all y. admires(x, y))'),\n",
    "    \n",
    "    \"Exactly one musician plays everything Alex wrote\":\n",
    "    Expression.fromstring('exists m. (musician(m) & all z. (wrote(Alex, z) -> plays(m, z)) '\n",
    "                          'and all m2. ((musician(m2) & all z. (wrote(Alex, z) -> plays(m2, z))) -> m2 = m))'),\n",
    "}\n",
    "\n",
    "# Evaluate sentences from Question 3\n",
    "for text, semrep in sentences1.items():\n",
    "    print(f\"Evaluating: {text}\")\n",
    "    try:\n",
    "        result = m2.evaluate(str(semrep), g2)\n",
    "        print(f\"Result: {result}\")\n",
    "    except Exception as e:\n",
    "        print(f\"Error evaluating: {e}\")\n",
    "    display_latex(semrep)\n",
    "    display(Markdown('----'))\n",
    "\n",
    "# Evaluate sentences from Question 4\n",
    "for text, semrep in sentences2.items():\n",
    "    print(f\"Evaluating: {text}\")\n",
    "    try:\n",
    "        result = m2.evaluate(str(semrep), g2)\n",
    "        print(f\"Result: {result}\")\n",
    "    except Exception as e:\n",
    "        print(f\"Error evaluating: {e}\")\n",
    "    display_latex(semrep)\n",
    "    display(Markdown('----'))"
   ]
  },
  {
   "cell_type": "code",
   "execution_count": null,
   "metadata": {},
   "outputs": [],
   "source": []
  },
  {
   "cell_type": "code",
   "execution_count": 53,
   "metadata": {},
   "outputs": [
    {
     "name": "stdout",
     "output_type": "stream",
     "text": [
      "Error in valuation creation: list index out of range\n",
      "Error creating model: 'NoneType' object has no attribute 'domain'\n",
      "Evaluating: Lydia likes George but Lydia doesn't like Alex\n",
      "Error evaluating: 'NoneType' object has no attribute 'evaluate'\n"
     ]
    },
    {
     "data": {
      "text/markdown": [
       "$(likes(Lydia,George)\\ \\land\\ -likes(Lydia,Alex))$"
      ],
      "text/plain": [
       "<IPython.core.display.Markdown object>"
      ]
     },
     "metadata": {},
     "output_type": "display_data"
    },
    {
     "data": {
      "text/markdown": [
       "----"
      ],
      "text/plain": [
       "<IPython.core.display.Markdown object>"
      ]
     },
     "metadata": {},
     "output_type": "display_data"
    },
    {
     "name": "stdout",
     "output_type": "stream",
     "text": [
      "Evaluating: Lydia likes herself and so does George\n",
      "Error evaluating: 'NoneType' object has no attribute 'evaluate'\n"
     ]
    },
    {
     "data": {
      "text/markdown": [
       "$(likes(Lydia,Lydia)\\ \\land\\ likes(George,George))$"
      ],
      "text/plain": [
       "<IPython.core.display.Markdown object>"
      ]
     },
     "metadata": {},
     "output_type": "display_data"
    },
    {
     "data": {
      "text/markdown": [
       "----"
      ],
      "text/plain": [
       "<IPython.core.display.Markdown object>"
      ]
     },
     "metadata": {},
     "output_type": "display_data"
    },
    {
     "name": "stdout",
     "output_type": "stream",
     "text": [
      "Evaluating: Charlie is an English pianist who plays a sonata\n",
      "Error evaluating: 'NoneType' object has no attribute 'evaluate'\n"
     ]
    },
    {
     "data": {
      "text/markdown": [
       "$(english(Charlie)\\ \\land\\ pianist(Charlie)\\ \\land\\ plays(Charlie,sonata))$"
      ],
      "text/plain": [
       "<IPython.core.display.Markdown object>"
      ]
     },
     "metadata": {},
     "output_type": "display_data"
    },
    {
     "data": {
      "text/markdown": [
       "----"
      ],
      "text/plain": [
       "<IPython.core.display.Markdown object>"
      ]
     },
     "metadata": {},
     "output_type": "display_data"
    },
    {
     "name": "stdout",
     "output_type": "stream",
     "text": [
      "Evaluating: Lydia and George admire each other\n",
      "Error evaluating: 'NoneType' object has no attribute 'evaluate'\n"
     ]
    },
    {
     "data": {
      "text/markdown": [
       "$(admires(Lydia,George)\\ \\land\\ admires(George,Lydia))$"
      ],
      "text/plain": [
       "<IPython.core.display.Markdown object>"
      ]
     },
     "metadata": {},
     "output_type": "display_data"
    },
    {
     "data": {
      "text/markdown": [
       "----"
      ],
      "text/plain": [
       "<IPython.core.display.Markdown object>"
      ]
     },
     "metadata": {},
     "output_type": "display_data"
    },
    {
     "name": "stdout",
     "output_type": "stream",
     "text": [
      "Evaluating: Charlie knows a woman who likes George\n",
      "Error evaluating: 'NoneType' object has no attribute 'evaluate'\n"
     ]
    },
    {
     "data": {
      "text/markdown": [
       "$\\exists\\ w.(woman(w)\\ \\land\\ likes(w,George)\\ \\land\\ knows(Charlie,w))$"
      ],
      "text/plain": [
       "<IPython.core.display.Markdown object>"
      ]
     },
     "metadata": {},
     "output_type": "display_data"
    },
    {
     "data": {
      "text/markdown": [
       "----"
      ],
      "text/plain": [
       "<IPython.core.display.Markdown object>"
      ]
     },
     "metadata": {},
     "output_type": "display_data"
    },
    {
     "name": "stdout",
     "output_type": "stream",
     "text": [
      "Evaluating: George admires everybody and Lydia admires nobody\n",
      "Error evaluating: 'NoneType' object has no attribute 'evaluate'\n"
     ]
    },
    {
     "data": {
      "text/markdown": [
       "$(\\forall\\ x.admires(George,x)\\ \\land\\ -\\exists\\ y.admires(Lydia,y))$"
      ],
      "text/plain": [
       "<IPython.core.display.Markdown object>"
      ]
     },
     "metadata": {},
     "output_type": "display_data"
    },
    {
     "data": {
      "text/markdown": [
       "----"
      ],
      "text/plain": [
       "<IPython.core.display.Markdown object>"
      ]
     },
     "metadata": {},
     "output_type": "display_data"
    },
    {
     "name": "stdout",
     "output_type": "stream",
     "text": [
      "Evaluating: Nobody admires everybody\n",
      "Error evaluating: 'NoneType' object has no attribute 'evaluate'\n"
     ]
    },
    {
     "data": {
      "text/markdown": [
       "$-\\exists\\ x.\\forall\\ y.admires(x,y)$"
      ],
      "text/plain": [
       "<IPython.core.display.Markdown object>"
      ]
     },
     "metadata": {},
     "output_type": "display_data"
    },
    {
     "data": {
      "text/markdown": [
       "----"
      ],
      "text/plain": [
       "<IPython.core.display.Markdown object>"
      ]
     },
     "metadata": {},
     "output_type": "display_data"
    },
    {
     "name": "stdout",
     "output_type": "stream",
     "text": [
      "Evaluating: Exactly one musician plays everything Alex wrote\n",
      "Error evaluating: 'NoneType' object has no attribute 'evaluate'\n"
     ]
    },
    {
     "data": {
      "text/markdown": [
       "$\\exists\\ m.(musician(m)\\ \\land\\ \\forall\\ z.(wrote(Alex,z)\\ \\rightarrow\\ plays(m,z))\\ \\land\\ \\forall\\ m2.((musician(m2)\\ \\land\\ \\forall\\ z.(wrote(Alex,z)\\ \\rightarrow\\ plays(m2,z)))\\ \\rightarrow\\ (m2\\ =\\ m)))$"
      ],
      "text/plain": [
       "<IPython.core.display.Markdown object>"
      ]
     },
     "metadata": {},
     "output_type": "display_data"
    },
    {
     "data": {
      "text/markdown": [
       "----"
      ],
      "text/plain": [
       "<IPython.core.display.Markdown object>"
      ]
     },
     "metadata": {},
     "output_type": "display_data"
    }
   ],
   "source": [
    "import nltk\n",
    "from nltk.sem import Valuation, Model, Assignment\n",
    "from nltk.sem import Expression\n",
    "from utils import display_latex, display, Markdown\n",
    "\n",
    "# Define the entities in the world\n",
    "entities = {'l', 'g', 'a', 'c', 'b', 's', 'e', 'p', 'w', 'z'}  # Correct symbols\n",
    "\n",
    "# Valuation: Ensure the symbols match exactly\n",
    "assign = \"\"\"\n",
    "Lydia = l\n",
    "George = g\n",
    "Alex = a\n",
    "Charlie = c\n",
    "Bertie = b\n",
    "sonata = s\n",
    "etude = e\n",
    "prelude = p\n",
    "waltz = w\n",
    "scherzo = z\n",
    "\n",
    "likes = {(l, g), (l, a), (l, c), (g, l), (g, b), (g, g), (a, a), (c, l), (c, g), (c, a), (c, b), (b, a)}\n",
    "\n",
    "admires = {(l, l), (l, c), (l, b), (g, l), (g, g), (g, a), (g, c), (g, b), (a, l), (a, a), (a, b), (c, g), (c, b), (b, l), (b, g), (b, a), (b, c), (b, b)}\n",
    "\n",
    "knows = {(l, l), (l, g), (l, a), (l, c), (l, b), (g, l), (g, g), (g, b), (a, l), (a, a), (a, b), (c, g), (c, c), (c, b), (b, l), (b, g), (b, a), (b, c), (b, b)}\n",
    "\n",
    "pianist = {c, b}\n",
    "musician = {l, a, c, b}\n",
    "wrote = {(a, s), (a, e), (a, w)}\n",
    "plays = {(c, s), (c, e), (c, w), (b, w), (b, z), (l, e), (l, p), (l, w)}\n",
    "\n",
    "woman = {l, a, c}\n",
    "man = {g, b}\n",
    "english = {l, g, a, c, b}\n",
    "\"\"\"\n",
    "\n",
    "# Create the valuation object\n",
    "try:\n",
    "    val2 = nltk.Valuation.fromstring(assign)\n",
    "except Exception as e:\n",
    "    print(f\"Error in valuation creation: {e}\")\n",
    "\n",
    "# Create the assignment and model\n",
    "g2 = nltk.Assignment(entities)\n",
    "try:\n",
    "    m2 = nltk.Model(entities, val2)\n",
    "except Exception as e:\n",
    "    print(f\"Error creating model: {e}\")\n",
    "\n",
    "# Define the sentences from Question 3 and 4\n",
    "\n",
    "# Sentences from Question 3: Predicate logic without quantifiers\n",
    "sentences1 = {\n",
    "    \"Lydia likes George but Lydia doesn't like Alex\": \n",
    "    Expression.fromstring('likes(Lydia, George) & not likes(Lydia, Alex)'),\n",
    "    \n",
    "    \"Lydia likes herself and so does George\":\n",
    "    Expression.fromstring('likes(Lydia, Lydia) & likes(George, George)'),\n",
    "    \n",
    "    \"Charlie is an English pianist who plays a sonata\":\n",
    "    Expression.fromstring('english(Charlie) & pianist(Charlie) & plays(Charlie, sonata)'),\n",
    "    \n",
    "    \"Lydia and George admire each other\":\n",
    "    Expression.fromstring('admires(Lydia, George) & admires(George, Lydia)'),\n",
    "}\n",
    "\n",
    "# Sentences from Question 4: Predicate logic with quantifiers\n",
    "sentences2 = {\n",
    "    \"Charlie knows a woman who likes George\":\n",
    "    Expression.fromstring('exists w. (woman(w) & likes(w, George) & knows(Charlie, w))'),\n",
    "    \n",
    "    \"George admires everybody and Lydia admires nobody\":\n",
    "    Expression.fromstring('all x. admires(George, x) & not exists y. admires(Lydia, y)'),\n",
    "\n",
    "    \"Nobody admires everybody\":\n",
    "    Expression.fromstring('not exists x. (all y. admires(x, y))'),\n",
    "    \n",
    "    \"Exactly one musician plays everything Alex wrote\":\n",
    "    Expression.fromstring('exists m. (musician(m) & all z. (wrote(Alex, z) -> plays(m, z)) '\n",
    "                          'and all m2. ((musician(m2) & all z. (wrote(Alex, z) -> plays(m2, z))) -> m2 = m))'),\n",
    "}\n",
    "\n",
    "# Evaluate sentences from Question 3\n",
    "for text, semrep in sentences1.items():\n",
    "    print(f\"Evaluating: {text}\")\n",
    "    try:\n",
    "        result = m2.evaluate(str(semrep), g2)\n",
    "        print(f\"Result: {result}\")\n",
    "    except Exception as e:\n",
    "        print(f\"Error evaluating: {e}\")\n",
    "    display_latex(semrep)\n",
    "    display(Markdown('----'))\n",
    "\n",
    "# Evaluate sentences from Question 4\n",
    "for text, semrep in sentences2.items():\n",
    "    print(f\"Evaluating: {text}\")\n",
    "    try:\n",
    "        result = m2.evaluate(str(semrep), g2)\n",
    "        print(f\"Result: {result}\")\n",
    "    except Exception as e:\n",
    "        print(f\"Error evaluating: {e}\")\n",
    "    display_latex(semrep)\n",
    "    display(Markdown('----'))"
   ]
  },
  {
   "cell_type": "code",
   "execution_count": null,
   "metadata": {},
   "outputs": [],
   "source": []
  },
  {
   "cell_type": "code",
   "execution_count": 54,
   "metadata": {},
   "outputs": [
    {
     "name": "stdout",
     "output_type": "stream",
     "text": [
      "Error in valuation creation: list index out of range\n",
      "Error creating model: 'NoneType' object has no attribute 'domain'\n",
      "Evaluating: Lydia likes George but Lydia doesn't like Alex\n",
      "Error evaluating: 'NoneType' object has no attribute 'evaluate'\n"
     ]
    },
    {
     "data": {
      "text/markdown": [
       "$(likes(Lydia,George)\\ \\land\\ -likes(Lydia,Alex))$"
      ],
      "text/plain": [
       "<IPython.core.display.Markdown object>"
      ]
     },
     "metadata": {},
     "output_type": "display_data"
    },
    {
     "data": {
      "text/markdown": [
       "----"
      ],
      "text/plain": [
       "<IPython.core.display.Markdown object>"
      ]
     },
     "metadata": {},
     "output_type": "display_data"
    },
    {
     "name": "stdout",
     "output_type": "stream",
     "text": [
      "Evaluating: Lydia likes herself and so does George\n",
      "Error evaluating: 'NoneType' object has no attribute 'evaluate'\n"
     ]
    },
    {
     "data": {
      "text/markdown": [
       "$(likes(Lydia,Lydia)\\ \\land\\ likes(George,George))$"
      ],
      "text/plain": [
       "<IPython.core.display.Markdown object>"
      ]
     },
     "metadata": {},
     "output_type": "display_data"
    },
    {
     "data": {
      "text/markdown": [
       "----"
      ],
      "text/plain": [
       "<IPython.core.display.Markdown object>"
      ]
     },
     "metadata": {},
     "output_type": "display_data"
    },
    {
     "name": "stdout",
     "output_type": "stream",
     "text": [
      "Evaluating: Charlie is an English pianist who plays a sonata\n",
      "Error evaluating: 'NoneType' object has no attribute 'evaluate'\n"
     ]
    },
    {
     "data": {
      "text/markdown": [
       "$(english(Charlie)\\ \\land\\ pianist(Charlie)\\ \\land\\ plays(Charlie,sonata))$"
      ],
      "text/plain": [
       "<IPython.core.display.Markdown object>"
      ]
     },
     "metadata": {},
     "output_type": "display_data"
    },
    {
     "data": {
      "text/markdown": [
       "----"
      ],
      "text/plain": [
       "<IPython.core.display.Markdown object>"
      ]
     },
     "metadata": {},
     "output_type": "display_data"
    },
    {
     "name": "stdout",
     "output_type": "stream",
     "text": [
      "Evaluating: Lydia and George admire each other\n",
      "Error evaluating: 'NoneType' object has no attribute 'evaluate'\n"
     ]
    },
    {
     "data": {
      "text/markdown": [
       "$(admires(Lydia,George)\\ \\land\\ admires(George,Lydia))$"
      ],
      "text/plain": [
       "<IPython.core.display.Markdown object>"
      ]
     },
     "metadata": {},
     "output_type": "display_data"
    },
    {
     "data": {
      "text/markdown": [
       "----"
      ],
      "text/plain": [
       "<IPython.core.display.Markdown object>"
      ]
     },
     "metadata": {},
     "output_type": "display_data"
    },
    {
     "name": "stdout",
     "output_type": "stream",
     "text": [
      "Evaluating: Charlie knows a woman who likes George\n",
      "Error evaluating: 'NoneType' object has no attribute 'evaluate'\n"
     ]
    },
    {
     "data": {
      "text/markdown": [
       "$\\exists\\ w.(woman(w)\\ \\land\\ likes(w,George)\\ \\land\\ knows(Charlie,w))$"
      ],
      "text/plain": [
       "<IPython.core.display.Markdown object>"
      ]
     },
     "metadata": {},
     "output_type": "display_data"
    },
    {
     "data": {
      "text/markdown": [
       "----"
      ],
      "text/plain": [
       "<IPython.core.display.Markdown object>"
      ]
     },
     "metadata": {},
     "output_type": "display_data"
    },
    {
     "name": "stdout",
     "output_type": "stream",
     "text": [
      "Evaluating: George admires everybody and Lydia admires nobody\n",
      "Error evaluating: 'NoneType' object has no attribute 'evaluate'\n"
     ]
    },
    {
     "data": {
      "text/markdown": [
       "$(\\forall\\ x.admires(George,x)\\ \\land\\ -\\exists\\ y.admires(Lydia,y))$"
      ],
      "text/plain": [
       "<IPython.core.display.Markdown object>"
      ]
     },
     "metadata": {},
     "output_type": "display_data"
    },
    {
     "data": {
      "text/markdown": [
       "----"
      ],
      "text/plain": [
       "<IPython.core.display.Markdown object>"
      ]
     },
     "metadata": {},
     "output_type": "display_data"
    },
    {
     "name": "stdout",
     "output_type": "stream",
     "text": [
      "Evaluating: Nobody admires everybody\n",
      "Error evaluating: 'NoneType' object has no attribute 'evaluate'\n"
     ]
    },
    {
     "data": {
      "text/markdown": [
       "$-\\exists\\ x.\\forall\\ y.admires(x,y)$"
      ],
      "text/plain": [
       "<IPython.core.display.Markdown object>"
      ]
     },
     "metadata": {},
     "output_type": "display_data"
    },
    {
     "data": {
      "text/markdown": [
       "----"
      ],
      "text/plain": [
       "<IPython.core.display.Markdown object>"
      ]
     },
     "metadata": {},
     "output_type": "display_data"
    },
    {
     "name": "stdout",
     "output_type": "stream",
     "text": [
      "Evaluating: Exactly one musician plays everything Alex wrote\n",
      "Error evaluating: 'NoneType' object has no attribute 'evaluate'\n"
     ]
    },
    {
     "data": {
      "text/markdown": [
       "$\\exists\\ m.(musician(m)\\ \\land\\ \\forall\\ z.(wrote(Alex,z)\\ \\rightarrow\\ plays(m,z))\\ \\land\\ \\forall\\ m2.((musician(m2)\\ \\land\\ \\forall\\ z.(wrote(Alex,z)\\ \\rightarrow\\ plays(m2,z)))\\ \\rightarrow\\ (m2\\ =\\ m)))$"
      ],
      "text/plain": [
       "<IPython.core.display.Markdown object>"
      ]
     },
     "metadata": {},
     "output_type": "display_data"
    },
    {
     "data": {
      "text/markdown": [
       "----"
      ],
      "text/plain": [
       "<IPython.core.display.Markdown object>"
      ]
     },
     "metadata": {},
     "output_type": "display_data"
    }
   ],
   "source": [
    "import nltk\n",
    "from nltk.sem import Valuation, Model, Assignment\n",
    "from nltk.sem import Expression\n",
    "from utils import display_latex, display, Markdown\n",
    "\n",
    "# Define the entities in the world\n",
    "entities = {'l', 'g', 'a', 'c', 'b', 's', 'e', 'p', 'w', 'z'}  # Correct symbols\n",
    "\n",
    "# Valuation: Ensure the symbols match exactly\n",
    "assign = \"\"\"\n",
    "Lydia = l\n",
    "George = g\n",
    "Alex = a\n",
    "Charlie = c\n",
    "Bertie = b\n",
    "sonata = s\n",
    "etude = e\n",
    "prelude = p\n",
    "waltz = w\n",
    "scherzo = z\n",
    "\n",
    "likes = {(l, g), (l, a), (l, c), (g, l), (g, b), (g, g), (a, a), (c, l), (c, g), (c, a), (c, b), (b, a)}\n",
    "\n",
    "admires = {(l, l), (l, c), (l, b), (g, l), (g, g), (g, a), (g, c), (g, b), (a, l), (a, a), (a, b), (c, g), (c, b), (b, l), (b, g), (b, a), (b, c), (b, b)}\n",
    "\n",
    "knows = {(l, l), (l, g), (l, a), (l, c), (l, b), (g, l), (g, g), (g, b), (a, l), (a, a), (a, b), (c, g), (c, c), (c, b), (b, l), (b, g), (b, a), (b, c), (b, b)}\n",
    "\n",
    "pianist = {c, b}\n",
    "musician = {l, a, c, b}\n",
    "wrote = {(a, s), (a, e), (a, w)}\n",
    "plays = {(c, s), (c, e), (c, w), (b, w), (b, z), (l, e), (l, p), (l, w)}\n",
    "\n",
    "woman = {l, a, c}\n",
    "man = {g, b}\n",
    "english = {l, g, a, c, b}\n",
    "\"\"\"\n",
    "\n",
    "# Create the valuation object\n",
    "try:\n",
    "    val2 = nltk.Valuation.fromstring(assign)\n",
    "except Exception as e:\n",
    "    print(f\"Error in valuation creation: {e}\")\n",
    "\n",
    "# Create the assignment and model\n",
    "g2 = nltk.Assignment(entities)\n",
    "try:\n",
    "    m2 = nltk.Model(entities, val2)\n",
    "except Exception as e:\n",
    "    print(f\"Error creating model: {e}\")\n",
    "\n",
    "# Define the sentences from Question 3 and 4\n",
    "\n",
    "# Sentences from Question 3: Predicate logic without quantifiers\n",
    "sentences1 = {\n",
    "    \"Lydia likes George but Lydia doesn't like Alex\": \n",
    "    Expression.fromstring('likes(Lydia, George) & not likes(Lydia, Alex)'),\n",
    "    \n",
    "    \"Lydia likes herself and so does George\":\n",
    "    Expression.fromstring('likes(Lydia, Lydia) & likes(George, George)'),\n",
    "    \n",
    "    \"Charlie is an English pianist who plays a sonata\":\n",
    "    Expression.fromstring('english(Charlie) & pianist(Charlie) & plays(Charlie, sonata)'),\n",
    "    \n",
    "    \"Lydia and George admire each other\":\n",
    "    Expression.fromstring('admires(Lydia, George) & admires(George, Lydia)'),\n",
    "}\n",
    "\n",
    "# Sentences from Question 4: Predicate logic with quantifiers\n",
    "sentences2 = {\n",
    "    \"Charlie knows a woman who likes George\":\n",
    "    Expression.fromstring('exists w. (woman(w) & likes(w, George) & knows(Charlie, w))'),\n",
    "    \n",
    "    \"George admires everybody and Lydia admires nobody\":\n",
    "    Expression.fromstring('all x. admires(George, x) & not exists y. admires(Lydia, y)'),\n",
    "\n",
    "    \"Nobody admires everybody\":\n",
    "    Expression.fromstring('not exists x. (all y. admires(x, y))'),\n",
    "    \n",
    "    \"Exactly one musician plays everything Alex wrote\":\n",
    "    Expression.fromstring('exists m. (musician(m) & all z. (wrote(Alex, z) -> plays(m, z)) '\n",
    "                          'and all m2. ((musician(m2) & all z. (wrote(Alex, z) -> plays(m2, z))) -> m2 = m))'),\n",
    "}\n",
    "\n",
    "# Evaluate sentences from Question 3\n",
    "for text, semrep in sentences1.items():\n",
    "    print(f\"Evaluating: {text}\")\n",
    "    try:\n",
    "        result = m2.evaluate(str(semrep), g2)\n",
    "        print(f\"Result: {result}\")\n",
    "    except Exception as e:\n",
    "        print(f\"Error evaluating: {e}\")\n",
    "    display_latex(semrep)\n",
    "    display(Markdown('----'))\n",
    "\n",
    "# Evaluate sentences from Question 4\n",
    "for text, semrep in sentences2.items():\n",
    "    print(f\"Evaluating: {text}\")\n",
    "    try:\n",
    "        result = m2.evaluate(str(semrep), g2)\n",
    "        print(f\"Result: {result}\")\n",
    "    except Exception as e:\n",
    "        print(f\"Error evaluating: {e}\")\n",
    "    display_latex(semrep)\n",
    "    display(Markdown('----'))"
   ]
  },
  {
   "cell_type": "code",
   "execution_count": null,
   "metadata": {},
   "outputs": [],
   "source": []
  },
  {
   "cell_type": "code",
   "execution_count": 73,
   "metadata": {},
   "outputs": [
    {
     "data": {
      "text/markdown": [
       "$????(pip)$"
      ],
      "text/plain": [
       "<IPython.core.display.Markdown object>"
      ]
     },
     "metadata": {},
     "output_type": "display_data"
    },
    {
     "data": {
      "text/markdown": [
       "$????(\\lambda\\ x.play(x,scherzo))$"
      ],
      "text/plain": [
       "<IPython.core.display.Markdown object>"
      ]
     },
     "metadata": {},
     "output_type": "display_data"
    },
    {
     "data": {
      "text/markdown": [
       "$????(\\lambda\\ x.play(x,etude))$"
      ],
      "text/plain": [
       "<IPython.core.display.Markdown object>"
      ]
     },
     "metadata": {},
     "output_type": "display_data"
    },
    {
     "data": {
      "text/markdown": [
       "$????(\\lambda\\ P.\\forall\\ x.(musician(x)\\ \\rightarrow\\ P(x)))$"
      ],
      "text/plain": [
       "<IPython.core.display.Markdown object>"
      ]
     },
     "metadata": {},
     "output_type": "display_data"
    }
   ],
   "source": [
    "e1 = read_expr(r'????')\n",
    "e2 = read_expr(r'pip')\n",
    "e3 = nltk.sem.ApplicationExpression(e1, e2) \n",
    "display_latex(e3.simplify())\n",
    "# Result: like(pip, rob)\n",
    "\n",
    "e1 = read_expr(r'????')\n",
    "e2 = read_expr(r'\\x.play(x, scherzo)')\n",
    "e3 = nltk.sem.ApplicationExpression(e1, e2)\n",
    "display_latex(e3.simplify())\n",
    "# Result: play(pip, scherzo)\n",
    "\n",
    "e1 = read_expr(r'????')\n",
    "e2 = read_expr(r'\\x.play(x, etude)')\n",
    "e3 = nltk.sem.ApplicationExpression(e1, e2) \n",
    "display_latex(e3.simplify())\n",
    "# Result: exists x.(woman(x) & play(x, etude))\n",
    "\n",
    "e1 = read_expr(r'????')\n",
    "e2 = read_expr(r'\\P.all x. (musician(x) -> P(x))') \n",
    "e3 = nltk.sem.ApplicationExpression(e1, e2) \n",
    "display_latex(e3.simplify())\n",
    "# Result: \\x.all z2.(musician(z2) -> like(x, z2))"
   ]
  },
  {
   "cell_type": "code",
   "execution_count": null,
   "metadata": {},
   "outputs": [],
   "source": []
  },
  {
   "cell_type": "code",
   "execution_count": 158,
   "metadata": {},
   "outputs": [],
   "source": [
    "from nltk.grammar import FeatureGrammar"
   ]
  },
  {
   "cell_type": "code",
   "execution_count": 72,
   "metadata": {},
   "outputs": [
    {
     "data": {
      "text/markdown": [
       "$like(pip,rob)$"
      ],
      "text/plain": [
       "<IPython.core.display.Markdown object>"
      ]
     },
     "metadata": {},
     "output_type": "display_data"
    },
    {
     "data": {
      "text/markdown": [
       "$play(\\lambda\\ x.play(x,scherzo),scherzo)$"
      ],
      "text/plain": [
       "<IPython.core.display.Markdown object>"
      ]
     },
     "metadata": {},
     "output_type": "display_data"
    },
    {
     "data": {
      "text/markdown": [
       "$\\exists\\ x.(woman(x)\\ \\land\\ play(x,etude))$"
      ],
      "text/plain": [
       "<IPython.core.display.Markdown object>"
      ]
     },
     "metadata": {},
     "output_type": "display_data"
    },
    {
     "data": {
      "text/markdown": [
       "$\\lambda\\ x.\\forall\\ z_{2}.(\\forall\\ x.(musician(x)\\ \\rightarrow\\ z_{2}(x))\\ \\rightarrow\\ like(x,z_{2}))$"
      ],
      "text/plain": [
       "<IPython.core.display.Markdown object>"
      ]
     },
     "metadata": {},
     "output_type": "display_data"
    }
   ],
   "source": [
    "e1 = read_expr(r'\\x.like(x, rob)')\n",
    "e2 = read_expr(r'pip')\n",
    "e3 = nltk.sem.ApplicationExpression(e1, e2) \n",
    "display_latex(e3.simplify())\n",
    "# Result: like(pip, rob)\n",
    "\n",
    "e1 = read_expr(r'\\x.play(x, scherzo)')\n",
    "e2 = read_expr(r'\\x.play(x, scherzo)')\n",
    "e3 = nltk.sem.ApplicationExpression(e1, e2)\n",
    "display_latex(e3.simplify())\n",
    "# Result: play(pip, scherzo)\n",
    "\n",
    "e1 = read_expr(r'\\P.exists x.(woman(x) & P(x))')\n",
    "e2 = read_expr(r'\\x.play(x, etude)')\n",
    "e3 = nltk.sem.ApplicationExpression(e1, e2) \n",
    "display_latex(e3.simplify())\n",
    "# Result: exists x.(woman(x) & play(x, etude))\n",
    "\n",
    "e1 = read_expr(r'\\R.\\x.all z2.(R(z2) -> like(x, z2))')\n",
    "e2 = read_expr(r'\\P.all x. (musician(x) -> P(x))') \n",
    "e3 = nltk.sem.ApplicationExpression(e1, e2) \n",
    "display_latex(e3.simplify())\n",
    "# Result: \\x.all z2.(musician(z2) -> like(x, z2))\n",
    "\n"
   ]
  },
  {
   "cell_type": "code",
   "execution_count": null,
   "metadata": {},
   "outputs": [],
   "source": []
  },
  {
   "cell_type": "code",
   "execution_count": 70,
   "metadata": {},
   "outputs": [
    {
     "data": {
      "text/markdown": [
       "$like(pip,rob)$"
      ],
      "text/plain": [
       "<IPython.core.display.Markdown object>"
      ]
     },
     "metadata": {},
     "output_type": "display_data"
    },
    {
     "data": {
      "text/markdown": [
       "$like(pip,rob)$"
      ],
      "text/plain": [
       "<IPython.core.display.Markdown object>"
      ]
     },
     "metadata": {},
     "output_type": "display_data"
    },
    {
     "data": {
      "text/markdown": [
       "$pip(\\lambda\\ x.play(x,scherzo))$"
      ],
      "text/plain": [
       "<IPython.core.display.Markdown object>"
      ]
     },
     "metadata": {},
     "output_type": "display_data"
    },
    {
     "data": {
      "text/markdown": [
       "$play(pip,scherzo)$"
      ],
      "text/plain": [
       "<IPython.core.display.Markdown object>"
      ]
     },
     "metadata": {},
     "output_type": "display_data"
    },
    {
     "data": {
      "text/markdown": [
       "$\\exists\\ x.(woman(x)\\ \\land\\ play(x,etude))$"
      ],
      "text/plain": [
       "<IPython.core.display.Markdown object>"
      ]
     },
     "metadata": {},
     "output_type": "display_data"
    },
    {
     "data": {
      "text/markdown": [
       "$\\exists\\ x.(woman(x)\\ \\land\\ play(x,etude))$"
      ],
      "text/plain": [
       "<IPython.core.display.Markdown object>"
      ]
     },
     "metadata": {},
     "output_type": "display_data"
    },
    {
     "data": {
      "text/markdown": [
       "$\\lambda\\ x.\\forall\\ z_{2}.(\\forall\\ x.(musician(x)\\ \\rightarrow\\ z_{2}(x))\\ \\rightarrow\\ like(x,z_{2}))$"
      ],
      "text/plain": [
       "<IPython.core.display.Markdown object>"
      ]
     },
     "metadata": {},
     "output_type": "display_data"
    },
    {
     "data": {
      "text/markdown": [
       "$\\lambda\\ x.\\forall\\ z_{2}.(musician(z_{2})\\ \\rightarrow\\ like(x,z_{2}))$"
      ],
      "text/plain": [
       "<IPython.core.display.Markdown object>"
      ]
     },
     "metadata": {},
     "output_type": "display_data"
    }
   ],
   "source": [
    "from nltk.sem import Expression\n",
    "read_expr = Expression.fromstring\n",
    "\n",
    "# Example 1\n",
    "e1 = read_expr(r'\\x.like(x, rob)')\n",
    "e2 = read_expr(r'pip')\n",
    "e3 = nltk.sem.ApplicationExpression(e1, e2) \n",
    "display_latex(e3.simplify())\n",
    "# with result like(pip, rob).\n",
    "display_latex(read_expr(r\"like(pip,rob)\"))\n",
    "\n",
    "# Example 2\n",
    "e1 = read_expr(r'pip')\n",
    "e2 = read_expr(r'\\x.play(x, scherzo)')\n",
    "e3 = nltk.sem.ApplicationExpression(e1, e2)\n",
    "display_latex(e3.simplify())\n",
    "# with result play(pip, scherzo).\n",
    "display_latex(read_expr(r\"play(pip,scherzo)\"))\n",
    "\n",
    "# Example 3\n",
    "e1 = read_expr(r'\\P.exists x.(woman(x) & P(x))')\n",
    "e2 = read_expr(r'\\x.play(x, etude)')\n",
    "e3 = nltk.sem.ApplicationExpression(e1, e2) \n",
    "display_latex(e3.simplify())\n",
    "# with result exists x.(woman(x) & play(x, etude)).\n",
    "display_latex(read_expr(r\"exists x.(woman(x) & play(x,etude))\"))\n",
    "\n",
    "# Example 4\n",
    "e1 = read_expr(r'\\R.\\x.all z2.(R(z2) -> like(x, z2))')\n",
    "e2 = read_expr(r'\\P.all x. (musician(x) -> P(x))')\n",
    "e3 = nltk.sem.ApplicationExpression(e1, e2) \n",
    "display_latex(e3.simplify())\n",
    "# with result \\x.all z2.(musician(z2) -> like(x, z2)).\n",
    "display_latex(read_expr(r\"\\x.all z2.(musician(z2) -> like(x,z2))\"))"
   ]
  },
  {
   "cell_type": "code",
   "execution_count": null,
   "metadata": {},
   "outputs": [],
   "source": []
  },
  {
   "cell_type": "code",
   "execution_count": 71,
   "metadata": {},
   "outputs": [
    {
     "data": {
      "text/markdown": [
       "$like(pip,rob)$"
      ],
      "text/plain": [
       "<IPython.core.display.Markdown object>"
      ]
     },
     "metadata": {},
     "output_type": "display_data"
    },
    {
     "data": {
      "text/markdown": [
       "$pip(\\lambda\\ x.play(x,scherzo))$"
      ],
      "text/plain": [
       "<IPython.core.display.Markdown object>"
      ]
     },
     "metadata": {},
     "output_type": "display_data"
    },
    {
     "data": {
      "text/markdown": [
       "$\\exists\\ x.(woman(x)\\ \\land\\ play(x,etude))$"
      ],
      "text/plain": [
       "<IPython.core.display.Markdown object>"
      ]
     },
     "metadata": {},
     "output_type": "display_data"
    },
    {
     "data": {
      "text/markdown": [
       "$\\lambda\\ x.\\forall\\ z_{2}.(\\forall\\ x.(musician(x)\\ \\rightarrow\\ z_{2}(x))\\ \\rightarrow\\ like(x,z_{2}))$"
      ],
      "text/plain": [
       "<IPython.core.display.Markdown object>"
      ]
     },
     "metadata": {},
     "output_type": "display_data"
    }
   ],
   "source": [
    "from nltk.sem import Expression\n",
    "read_expr = Expression.fromstring\n",
    "\n",
    "\n",
    "e1 = read_expr(r'\\x.like(x, rob)')\n",
    "e2 = read_expr(r'pip')\n",
    "e3 = nltk.sem.ApplicationExpression(e1, e2)\n",
    "display_latex(e3.simplify())\n",
    "\n",
    "e1 = read_expr(r'pip')\n",
    "e2 = read_expr(r'\\x.play(x, scherzo)')\n",
    "e3 = nltk.sem.ApplicationExpression(e1, e2)\n",
    "display_latex(e3.simplify())\n",
    "\n",
    "e1 = read_expr(r'\\P.exists x.(woman(x) & P(x))')\n",
    "e2 = read_expr(r'\\x.play(x, etude)')\n",
    "e3 = nltk.sem.ApplicationExpression(e1, e2)\n",
    "display_latex(e3.simplify())\n",
    "\n",
    "e1 = read_expr(r'\\R.\\x.all z2.(R(z2) -> like(x, z2))')\n",
    "e2 = read_expr(r'\\P.all x. (musician(x) -> P(x))')\n",
    "e3 = nltk.sem.ApplicationExpression(e1, e2)\n",
    "display_latex(e3.simplify())"
   ]
  },
  {
   "cell_type": "code",
   "execution_count": null,
   "metadata": {},
   "outputs": [],
   "source": []
  },
  {
   "cell_type": "code",
   "execution_count": null,
   "metadata": {},
   "outputs": [],
   "source": []
  },
  {
   "cell_type": "code",
   "execution_count": null,
   "metadata": {},
   "outputs": [],
   "source": []
  },
  {
   "cell_type": "code",
   "execution_count": null,
   "metadata": {},
   "outputs": [],
   "source": []
  },
  {
   "cell_type": "code",
   "execution_count": 138,
   "metadata": {},
   "outputs": [
    {
     "name": "stdout",
     "output_type": "stream",
     "text": [
      "Evaluating sentences from Question 3:\n",
      "Sentence: Lydia likes George but Lydia doesn't like Alex\n",
      "Result: Undefined\n",
      "----\n",
      "Sentence: Lydia likes herself and so does George\n",
      "Result: Undefined\n",
      "----\n",
      "Sentence: Charlie is an English pianist who plays a sonata\n",
      "Result: Undefined\n",
      "----\n",
      "Sentence: Lydia and George admire each other\n",
      "Result: Undefined\n",
      "----\n",
      "Evaluating sentences from Question 4:\n",
      "Sentence: Charlie knows a woman who likes George\n",
      "Result: Undefined\n",
      "----\n",
      "Sentence: George admires everybody and Lydia admires nobody\n",
      "Result: Undefined\n",
      "----\n",
      "Sentence: Nobody admires everybody\n",
      "Result: True\n",
      "----\n",
      "Sentence: Exactly one musician plays everything Alex wrote\n",
      "Result: Undefined\n",
      "----\n"
     ]
    }
   ],
   "source": [
    "import nltk\n",
    "from nltk.sem import Valuation, Model, Assignment\n",
    "from nltk.sem.logic import Expression\n",
    "\n",
    "# Define entities and the world\n",
    "entities = set(['l', 'g', 'a', 'c', 'b', 'so', 'e', 'p', 'w', 'sc'])\n",
    "\n",
    "# Assignments of predicates and constants in the world\n",
    "assign = \"\"\"\n",
    "Lydia => l\n",
    "George => g\n",
    "Alex => a\n",
    "Charlie => c\n",
    "Bertie => b\n",
    "sonata => so\n",
    "etude => e\n",
    "prelude => p\n",
    "waltz => w\n",
    "scherzo => sc\n",
    "\n",
    "likes => {(l, g), (l, l), (g, l), (g, b), (a, a), (c, l), (c, g), (c, a), (c, c), (c, b), (b, a)}\n",
    "english => {l, g, a, c, b}\n",
    "pianist => {c, b}\n",
    "plays => {(c, so), (c, e), (c, w), (b, w), (b, sc), (l, e), (l, p), (l, w)}\n",
    "admires => {(l, l), (l, c), (l, b), (g, l), (g, g), (g, a), (g, c), (g, b), (a, l), (a, a), (a, b), (c, g), (c, b), (b, l), (b, g), (b, a), (b, c), (b, b)}\n",
    "knows => {(l, l), (l, g), (l, a), (l, c), (l, b), (g, l), (g, g), (g, b), (a, l), (a, a), (a, b), (c, g), (c, c), (c, b), (b, l), (b, g), (b, a), (b, c), (b, b)}\n",
    "woman => {l, a, c}\n",
    "man => {g, b}\n",
    "wrote => {(a, so), (a, e), (a, w)}\n",
    "musician => {l, a, c, b}\n",
    "\"\"\"\n",
    "\n",
    "# Create the valuation from the string\n",
    "val2 = Valuation.fromstring(assign)\n",
    "m2 = Model(entities, val2)\n",
    "g2 = Assignment(entities)\n",
    "\n",
    "# Define evaluation function\n",
    "def evaluate_expression(expression, model, assignment):\n",
    "    expr_str = str(expression)\n",
    "    return model.evaluate(expr_str, assignment)\n",
    "\n",
    "# Define sentences from question 3 and question 4\n",
    "sentences1 = {\n",
    "    \"Lydia likes George but Lydia doesn't like Alex\": Expression.fromstring('likes(l, g) and not likes(l, a)'),\n",
    "    \"Lydia likes herself and so does George\": Expression.fromstring('likes(l, l) and likes(g, g)'),\n",
    "    \"Charlie is an English pianist who plays a sonata\": Expression.fromstring('english(c) and pianist(c) and plays(c, so)'),\n",
    "    \"Lydia and George admire each other\": Expression.fromstring('admires(l, g) and admires(g, l)')\n",
    "}\n",
    "\n",
    "sentences2 = {\n",
    "    \"Charlie knows a woman who likes George\": Expression.fromstring('exists x (woman(x) and knows(c, x) and likes(x, g))'),\n",
    "    \"George admires everybody and Lydia admires nobody\": Expression.fromstring('forall x (admires(g, x)) and not exists y (admires(l, y))'),\n",
    "    \"Nobody admires everybody\": Expression.fromstring('not exists x (forall y (admires(x, y)))'),\n",
    "    \"Exactly one musician plays everything Alex wrote\": Expression.fromstring('exists x (musician(x) and forall y (wrote(a, y) -> plays(x, y)) and forall z (musician(z) and z != x -> not exists w (wrote(a, w) and not plays(z, w))))')\n",
    "}\n",
    "\n",
    "# Evaluate and print results for Question 3\n",
    "print(\"Evaluating sentences from Question 3:\")\n",
    "for text, expr in sentences1.items():\n",
    "    print(f\"Sentence: {text}\")\n",
    "    try:\n",
    "        result = evaluate_expression(expr, m2, g2)\n",
    "        print(f\"Result: {result}\")\n",
    "    except Exception as e:\n",
    "        print(f\"Error: {e}\")\n",
    "    print('----')\n",
    "\n",
    "# Evaluate and print results for Question 4\n",
    "print(\"Evaluating sentences from Question 4:\")\n",
    "for text, expr in sentences2.items():\n",
    "    print(f\"Sentence: {text}\")\n",
    "    try:\n",
    "        result = evaluate_expression(expr, m2, g2)\n",
    "        print(f\"Result: {result}\")\n",
    "    except Exception as e:\n",
    "        print(f\"Error: {e}\")\n",
    "    print('----')"
   ]
  },
  {
   "cell_type": "code",
   "execution_count": null,
   "metadata": {},
   "outputs": [],
   "source": []
  },
  {
   "cell_type": "code",
   "execution_count": null,
   "metadata": {},
   "outputs": [],
   "source": []
  },
  {
   "cell_type": "code",
   "execution_count": 56,
   "metadata": {},
   "outputs": [
    {
     "name": "stdout",
     "output_type": "stream",
     "text": [
      "Evaluating sentences from Question 3:\n",
      "Sentence: Lydia likes George but Lydia doesn't like Alex\n",
      "Result: Undefined\n",
      "----\n",
      "Sentence: Lydia likes herself and so does George\n",
      "Result: Undefined\n",
      "----\n",
      "Sentence: Charlie is an English pianist who plays a sonata\n",
      "Result: Undefined\n",
      "----\n",
      "Sentence: Lydia and George admire each other\n",
      "Result: Undefined\n",
      "----\n",
      "Evaluating sentences from Question 4:\n",
      "Sentence: Charlie knows a woman who likes George\n",
      "Result: Undefined\n",
      "----\n",
      "Sentence: George admires everybody and Lydia admires nobody\n",
      "Result: Undefined\n",
      "----\n",
      "Sentence: Nobody admires everybody\n",
      "Result: True\n",
      "----\n",
      "Sentence: Exactly one musician plays everything Alex wrote\n",
      "Result: Undefined\n",
      "----\n"
     ]
    }
   ],
   "source": [
    "import nltk\n",
    "from nltk.sem import Valuation, Model, Assignment\n",
    "from nltk.sem.logic import Expression\n",
    "\n",
    "# Define entities and the world\n",
    "entities = set(['l', 'g', 'a', 'c', 'b', 'so', 'e', 'p', 'w', 'sc'])\n",
    "\n",
    "# Assignments of predicates and constants in the world\n",
    "assign = \"\"\"\n",
    "Lydia => l\n",
    "George => g\n",
    "Alex => a\n",
    "Charlie => c\n",
    "Bertie => b\n",
    "sonata => so\n",
    "etude => e\n",
    "prelude => p\n",
    "waltz => w\n",
    "scherzo => sc\n",
    "\n",
    "likes => {(l, g), (l, l), (g, l), (g, b), (a, a), (c, l), (c, g), (c, a), (c, c), (c, b), (b, a)}\n",
    "english => {l, g, a, c, b}\n",
    "pianist => {c, b}\n",
    "plays => {(c, so), (c, e), (c, w), (b, w), (b, sc), (l, e), (l, p), (l, w)}\n",
    "admires => {(l, l), (l, c), (l, b), (g, l), (g, g), (g, a), (g, c), (g, b), (a, l), (a, a), (a, b), (c, g), (c, b), (b, l), (b, g), (b, a), (b, c), (b, b)}\n",
    "knows => {(l, l), (l, g), (l, a), (l, c), (l, b), (g, l), (g, g), (g, b), (a, l), (a, a), (a, b), (c, g), (c, c), (c, b), (b, l), (b, g), (b, a), (b, c), (b, b)}\n",
    "woman => {l, a, c}\n",
    "man => {g, b}\n",
    "wrote => {(a, so), (a, e), (a, w)}\n",
    "musician => {l, a, c, b}\n",
    "\"\"\"\n",
    "\n",
    "# Create the valuation from the string\n",
    "val2 = Valuation.fromstring(assign)\n",
    "m2 = Model(entities, val2)\n",
    "g2 = Assignment(entities)\n",
    "\n",
    "# Define evaluation function\n",
    "def evaluate_expression(expression, model, assignment):\n",
    "    expr_str = str(expression)\n",
    "    return model.evaluate(expr_str, assignment)\n",
    "\n",
    "# Define sentences from question 3 and question 4\n",
    "sentences1 = {\n",
    "    \"Lydia likes George but Lydia doesn't like Alex\": Expression.fromstring('likes(l, g) and not likes(l, a)'),\n",
    "    \"Lydia likes herself and so does George\": Expression.fromstring('likes(l, l) and likes(g, g)'),\n",
    "    \"Charlie is an English pianist who plays a sonata\": Expression.fromstring('english(c) and pianist(c) and plays(c, so)'),\n",
    "    \"Lydia and George admire each other\": Expression.fromstring('admires(l, g) and admires(g, l)')\n",
    "}\n",
    "\n",
    "sentences2 = {\n",
    "    \"Charlie knows a woman who likes George\": Expression.fromstring('exists x (woman(x) and knows(c, x) and likes(x, g))'),\n",
    "    \"George admires everybody and Lydia admires nobody\": Expression.fromstring('forall x (admires(g, x)) and not exists y (admires(l, y))'),\n",
    "    \"Nobody admires everybody\": Expression.fromstring('not exists x (forall y (admires(x, y)))'),\n",
    "    \"Exactly one musician plays everything Alex wrote\": Expression.fromstring('exists x (musician(x) and forall y (wrote(a, y) -> plays(x, y)) and forall z (musician(z) and z != x -> exists w (wrote(a, w) and not plays(z, w))))')\n",
    "}\n",
    "\n",
    "# Evaluate and print results for Question 3\n",
    "print(\"Evaluating sentences from Question 3:\")\n",
    "for text, expr in sentences1.items():\n",
    "    print(f\"Sentence: {text}\")\n",
    "    try:\n",
    "        result = evaluate_expression(expr, m2, g2)\n",
    "        print(f\"Result: {result}\")\n",
    "    except Exception as e:\n",
    "        print(f\"Error: {e}\")\n",
    "    print('----')\n",
    "\n",
    "# Evaluate and print results for Question 4\n",
    "print(\"Evaluating sentences from Question 4:\")\n",
    "for text, expr in sentences2.items():\n",
    "    print(f\"Sentence: {text}\")\n",
    "    try:\n",
    "        result = evaluate_expression(expr, m2, g2)\n",
    "        print(f\"Result: {result}\")\n",
    "    except Exception as e:\n",
    "        print(f\"Error: {e}\")\n",
    "    print('----')"
   ]
  },
  {
   "cell_type": "code",
   "execution_count": null,
   "metadata": {},
   "outputs": [],
   "source": []
  },
  {
   "cell_type": "code",
   "execution_count": 57,
   "metadata": {},
   "outputs": [
    {
     "name": "stdout",
     "output_type": "stream",
     "text": [
      "Evaluating sentences from Question 3:\n",
      "Lydia likes George but Lydia doesn't like Alex: Undefined\n",
      "----\n",
      "Lydia likes herself and so does George: Undefined\n",
      "----\n",
      "Charlie is an English pianist who plays a sonata: Undefined\n",
      "----\n",
      "Lydia and George admire each other: Undefined\n",
      "----\n",
      "Evaluating sentences from Question 4:\n",
      "Charlie knows a woman who likes George: Undefined\n",
      "----\n",
      "George admires everybody and Lydia admires nobody: Undefined\n",
      "----\n",
      "Nobody admires everybody: True\n",
      "----\n",
      "Exactly one musician plays everything Alex wrote: Undefined\n",
      "----\n"
     ]
    }
   ],
   "source": [
    "import nltk\n",
    "from nltk.sem import Valuation, Model, Assignment\n",
    "from nltk.sem import Expression\n",
    "\n",
    "# Initialize read_expr using Expression.fromstring\n",
    "read_expr = Expression.fromstring\n",
    "\n",
    "# Define entities\n",
    "entities = set(['b', 'a', 'g', 'c', 'l', 'p', 't', 'e', 'h', 'r', 'so', 'u', 'sc', 'w'])\n",
    "\n",
    "# Define the valuation assignments based on the world description\n",
    "assignments = \"\"\"\n",
    "Lydia => l\n",
    "George => g\n",
    "Alex => a\n",
    "Charlie => c\n",
    "Bertie => b\n",
    "sonata => so\n",
    "etude => e\n",
    "waltz => w\n",
    "scherzo => sc\n",
    "\n",
    "likes => {(l, l), (l, g), (l, a), (l, c), (g, l), (g, b), (g, g), (a, a), (c, l), (c, g), (c, a), (c, c), (c, b), (b, a)}\n",
    "english => {l, g, a, c, b}\n",
    "pianist => {c, b}\n",
    "plays => {(c, so), (c, e), (c, w), (b, w), (b, sc), (l, e), (l, p), (l, w)}\n",
    "admires => {(l, l), (l, c), (l, b), (g, l), (g, g), (g, a), (g, c), (g, b), (a, l), (a, a), (a, b), (c, g), (c, b), (b, l), (b, g), (b, a), (b, c), (b, b)}\n",
    "knows => {(l, l), (l, g), (l, a), (l, c), (l, b), (g, l), (g, g), (g, b), (a, l), (a, a), (a, b), (c, g), (c, c), (c, b), (b, l), (b, g), (b, a), (b, c), (b, b)}\n",
    "woman => {l, a, c}\n",
    "man => {g, b}\n",
    "wrote => {(a, so), (a, e), (a, w)}\n",
    "musician => {l, a, c, b}\n",
    "\"\"\"\n",
    "\n",
    "# Create the valuation and model\n",
    "val = Valuation.fromstring(assignments)\n",
    "model = Model(entities, val)\n",
    "\n",
    "# Define the assignment\n",
    "g = Assignment(entities)\n",
    "\n",
    "# Define sentences with corrected syntax\n",
    "sentences1 = {\n",
    "    \"Lydia likes George but Lydia doesn't like Alex\": read_expr('likes(l, g) and not likes(l, a)'),\n",
    "    \"Lydia likes herself and so does George\": read_expr('likes(l, l) and likes(g, g)'),\n",
    "    \"Charlie is an English pianist who plays a sonata\": read_expr('english(c) and pianist(c) and plays(c, so)'),\n",
    "    \"Lydia and George admire each other\": read_expr('admires(l, g) and admires(g, l)')\n",
    "}\n",
    "\n",
    "sentences2 = {\n",
    "    \"Charlie knows a woman who likes George\": read_expr('exists x (woman(x) and knows(c, x) and likes(x, g))'),\n",
    "    \"George admires everybody and Lydia admires nobody\": read_expr('forall x (admires(g, x)) and not exists y (admires(l, y))'),\n",
    "    \"Nobody admires everybody\": read_expr('not exists x (forall y (admires(x, y)))'),\n",
    "    \"Exactly one musician plays everything Alex wrote\": read_expr('exists x (musician(x) and forall y (wrote(a, y) -> plays(x, y)) and forall z (musician(z) and z != x -> exists w (wrote(a, w) and not plays(z, w))))')\n",
    "}\n",
    "\n",
    "# Evaluate and print results\n",
    "print(\"Evaluating sentences from Question 3:\")\n",
    "for text, semrep in sentences1.items():\n",
    "    try:\n",
    "        result = model.evaluate(str(semrep), g)\n",
    "        print(f\"{text}: {result}\")\n",
    "    except Exception as e:\n",
    "        print(f\"Error evaluating '{text}': {e}\")\n",
    "    print('----')\n",
    "\n",
    "print(\"Evaluating sentences from Question 4:\")\n",
    "for text, semrep in sentences2.items():\n",
    "    try:\n",
    "        result = model.evaluate(str(semrep), g)\n",
    "        print(f\"{text}: {result}\")\n",
    "    except Exception as e:\n",
    "        print(f\"Error evaluating '{text}': {e}\")\n",
    "    print('----')"
   ]
  },
  {
   "cell_type": "markdown",
   "metadata": {},
   "source": []
  },
  {
   "cell_type": "code",
   "execution_count": 58,
   "metadata": {},
   "outputs": [
    {
     "name": "stdout",
     "output_type": "stream",
     "text": [
      "Evaluating sentences from Question 3:\n",
      "Evaluating: (likes(l,g) & -likes(l,a))\n",
      "Lydia likes George but Lydia doesn't like Alex: Undefined\n",
      "----\n",
      "Evaluating: (likes(l,l) & likes(g,g))\n",
      "Lydia likes herself and so does George: Undefined\n",
      "----\n",
      "Evaluating: (english(c) & pianist(c) & plays(c,so))\n",
      "Charlie is an English pianist who plays a sonata: Undefined\n",
      "----\n",
      "Evaluating: (admires(l,g) & admires(g,l))\n",
      "Lydia and George admire each other: Undefined\n",
      "----\n",
      "Evaluating sentences from Question 4:\n",
      "Evaluating: exists x.(woman(x) & knows(c,x) & likes(x,g))\n",
      "Charlie knows a woman who likes George: Undefined\n",
      "----\n",
      "Evaluating: (all x.admires(g,x) & -exists y.admires(l,y))\n",
      "George admires everybody and Lydia admires nobody: Undefined\n",
      "----\n",
      "Evaluating: -exists x.all y.admires(x,y)\n",
      "Nobody admires everybody: True\n",
      "----\n",
      "Evaluating: exists x.(musician(x) & all y.(wrote(a,y) -> plays(x,y)) & all z.((musician(z) & -(z = x)) -> exists w.(wrote(a,w) & -plays(z,w))))\n",
      "Exactly one musician plays everything Alex wrote: Undefined\n",
      "----\n"
     ]
    }
   ],
   "source": [
    "import nltk\n",
    "from nltk.sem import Valuation, Model, Assignment\n",
    "from nltk.sem import Expression\n",
    "\n",
    "# Initialize read_expr using Expression.fromstring\n",
    "read_expr = Expression.fromstring\n",
    "\n",
    "# Define entities\n",
    "entities = set(['b', 'a', 'g', 'c', 'l', 'p', 't', 'e', 'h', 'r', 'so', 'u', 'sc', 'w'])\n",
    "\n",
    "# Define the valuation assignments based on the world description\n",
    "assignments = \"\"\"\n",
    "Lydia => l\n",
    "George => g\n",
    "Alex => a\n",
    "Charlie => c\n",
    "Bertie => b\n",
    "sonata => so\n",
    "etude => e\n",
    "waltz => w\n",
    "scherzo => sc\n",
    "\n",
    "likes => {(l, l), (l, g), (l, a), (l, c), (g, l), (g, b), (g, g), (a, a), (c, l), (c, g), (c, a), (c, c), (c, b), (b, a)}\n",
    "english => {l, g, a, c, b}\n",
    "pianist => {c, b}\n",
    "plays => {(c, so), (c, e), (c, w), (b, w), (b, sc), (l, e), (l, p), (l, w)}\n",
    "admires => {(l, l), (l, c), (l, b), (g, l), (g, g), (g, a), (g, c), (g, b), (a, l), (a, a), (a, b), (c, g), (c, b), (b, l), (b, g), (b, a), (b, c), (b, b)}\n",
    "knows => {(l, l), (l, g), (l, a), (l, c), (l, b), (g, l), (g, g), (g, b), (a, l), (a, a), (a, b), (c, g), (c, c), (c, b), (b, l), (b, g), (b, a), (b, c), (b, b)}\n",
    "woman => {l, a, c}\n",
    "man => {g, b}\n",
    "wrote => {(a, so), (a, e), (a, w)}\n",
    "musician => {l, a, c, b}\n",
    "\"\"\"\n",
    "\n",
    "# Create the valuation and model\n",
    "val = Valuation.fromstring(assignments)\n",
    "model = Model(entities, val)\n",
    "\n",
    "# Define the assignment\n",
    "g = Assignment(entities)\n",
    "\n",
    "# Define sentences with corrected syntax\n",
    "sentences1 = {\n",
    "    \"Lydia likes George but Lydia doesn't like Alex\": read_expr('likes(l, g) and not likes(l, a)'),\n",
    "    \"Lydia likes herself and so does George\": read_expr('likes(l, l) and likes(g, g)'),\n",
    "    \"Charlie is an English pianist who plays a sonata\": read_expr('english(c) and pianist(c) and plays(c, so)'),\n",
    "    \"Lydia and George admire each other\": read_expr('admires(l, g) and admires(g, l)')\n",
    "}\n",
    "\n",
    "sentences2 = {\n",
    "    \"Charlie knows a woman who likes George\": read_expr('exists x (woman(x) and knows(c, x) and likes(x, g))'),\n",
    "    \"George admires everybody and Lydia admires nobody\": read_expr('forall x (admires(g, x)) and not exists y (admires(l, y))'),\n",
    "    \"Nobody admires everybody\": read_expr('not exists x (forall y (admires(x, y)))'),\n",
    "    \"Exactly one musician plays everything Alex wrote\": read_expr('exists x (musician(x) and forall y (wrote(a, y) -> plays(x, y)) and forall z (musician(z) and z != x -> exists w (wrote(a, w) and not plays(z, w))))')\n",
    "}\n",
    "\n",
    "# Function to evaluate expressions directly using the model\n",
    "def evaluate_expression(expression, model, g):\n",
    "    try:\n",
    "        # Convert expression to string and evaluate using the model\n",
    "        expr_str = str(expression)\n",
    "        result = model.evaluate(expr_str, g)\n",
    "        return result\n",
    "    except Exception as e:\n",
    "        return f\"Error: {e}\"\n",
    "\n",
    "# Evaluate and print results for Question 3\n",
    "print(\"Evaluating sentences from Question 3:\")\n",
    "for text, semrep in sentences1.items():\n",
    "    print(f\"Evaluating: {semrep}\")\n",
    "    result = evaluate_expression(semrep, model, g)\n",
    "    print(f\"{text}: {result}\")\n",
    "    print('----')\n",
    "\n",
    "# Evaluate and print results for Question 4\n",
    "print(\"Evaluating sentences from Question 4:\")\n",
    "for text, semrep in sentences2.items():\n",
    "    print(f\"Evaluating: {semrep}\")\n",
    "    result = evaluate_expression(semrep, model, g)\n",
    "    print(f\"{text}: {result}\")\n",
    "    print('----')"
   ]
  },
  {
   "cell_type": "code",
   "execution_count": null,
   "metadata": {},
   "outputs": [],
   "source": []
  },
  {
   "cell_type": "code",
   "execution_count": 59,
   "metadata": {},
   "outputs": [
    {
     "name": "stdout",
     "output_type": "stream",
     "text": [
      "Evaluating sentences from Question 3:\n",
      "Evaluating: likes(l, g) and not likes(l, a)\n",
      "Lydia likes George but Lydia doesn't like Alex: Undefined\n",
      "----\n",
      "Evaluating: likes(l, l) and likes(g, g)\n",
      "Lydia likes herself and so does George: Undefined\n",
      "----\n",
      "Evaluating: english(c) and pianist(c) and plays(c, so)\n",
      "Charlie is an English pianist who plays a sonata: Undefined\n",
      "----\n",
      "Evaluating: admires(l, g) and admires(g, l)\n",
      "Lydia and George admire each other: Undefined\n",
      "----\n",
      "Evaluating sentences from Question 4:\n",
      "Evaluating: exists x (woman(x) and knows(c, x) and likes(x, g))\n",
      "Charlie knows a woman who likes George: Undefined\n",
      "----\n",
      "Evaluating: forall x (admires(g, x)) and not exists y (admires(l, y))\n",
      "George admires everybody and Lydia admires nobody: Undefined\n",
      "----\n",
      "Evaluating: not exists x (forall y (admires(x, y)))\n",
      "Nobody admires everybody: True\n",
      "----\n",
      "Evaluating: exists x (musician(x) and forall y (wrote(a, y) -> plays(x, y)) and forall z (musician(z) and z != x -> exists w (wrote(a, w) and not plays(z, w))))\n",
      "Exactly one musician plays everything Alex wrote: Undefined\n",
      "----\n"
     ]
    }
   ],
   "source": [
    "import nltk\n",
    "from nltk.sem import Valuation, Model, Assignment\n",
    "from nltk.sem import Expression\n",
    "\n",
    "# Initialize read_expr using Expression.fromstring\n",
    "read_expr = Expression.fromstring\n",
    "\n",
    "# Define entities\n",
    "entities = set(['b', 'a', 'g', 'c', 'l', 'p', 't', 'e', 'h', 'r', 'so', 'u', 'sc', 'w'])\n",
    "\n",
    "# Define the valuation assignments based on the world description\n",
    "assignments = \"\"\"\n",
    "Lydia => l\n",
    "George => g\n",
    "Alex => a\n",
    "Charlie => c\n",
    "Bertie => b\n",
    "sonata => so\n",
    "etude => e\n",
    "waltz => w\n",
    "scherzo => sc\n",
    "\n",
    "likes => {(l, l), (l, g), (l, a), (l, c), (g, l), (g, b), (g, g), (a, a), (c, l), (c, g), (c, a), (c, c), (c, b), (b, a)}\n",
    "english => {l, g, a, c, b}\n",
    "pianist => {c, b}\n",
    "plays => {(c, so), (c, e), (c, w), (b, w), (b, sc), (l, e), (l, p), (l, w)}\n",
    "admires => {(l, l), (l, c), (l, b), (g, l), (g, g), (g, a), (g, c), (g, b), (a, l), (a, a), (a, b), (c, g), (c, b), (b, l), (b, g), (b, a), (b, c), (b, b)}\n",
    "knows => {(l, l), (l, g), (l, a), (l, c), (l, b), (g, l), (g, g), (g, b), (a, l), (a, a), (a, b), (c, g), (c, c), (c, b), (b, l), (b, g), (b, a), (b, c), (b, b)}\n",
    "woman => {l, a, c}\n",
    "man => {g, b}\n",
    "wrote => {(a, so), (a, e), (a, w)}\n",
    "musician => {l, a, c, b}\n",
    "\"\"\"\n",
    "\n",
    "# Create the valuation and model\n",
    "val = Valuation.fromstring(assignments)\n",
    "model = Model(entities, val)\n",
    "\n",
    "# Define the assignment\n",
    "g = Assignment(entities)\n",
    "\n",
    "# Define sentences with corrected syntax\n",
    "sentences1 = {\n",
    "    \"Lydia likes George but Lydia doesn't like Alex\": 'likes(l, g) and not likes(l, a)',\n",
    "    \"Lydia likes herself and so does George\": 'likes(l, l) and likes(g, g)',\n",
    "    \"Charlie is an English pianist who plays a sonata\": 'english(c) and pianist(c) and plays(c, so)',\n",
    "    \"Lydia and George admire each other\": 'admires(l, g) and admires(g, l)'\n",
    "}\n",
    "\n",
    "sentences2 = {\n",
    "    \"Charlie knows a woman who likes George\": 'exists x (woman(x) and knows(c, x) and likes(x, g))',\n",
    "    \"George admires everybody and Lydia admires nobody\": 'forall x (admires(g, x)) and not exists y (admires(l, y))',\n",
    "    \"Nobody admires everybody\": 'not exists x (forall y (admires(x, y)))',\n",
    "    \"Exactly one musician plays everything Alex wrote\": 'exists x (musician(x) and forall y (wrote(a, y) -> plays(x, y)) and forall z (musician(z) and z != x -> exists w (wrote(a, w) and not plays(z, w))))'\n",
    "}\n",
    "\n",
    "# Function to evaluate expressions directly using the model\n",
    "def evaluate_expression(expression_str, model, g):\n",
    "    try:\n",
    "        # Convert expression to string and evaluate using the model\n",
    "        result = model.evaluate(expression_str, g)\n",
    "        return result\n",
    "    except Exception as e:\n",
    "        return f\"Error: {e}\"\n",
    "\n",
    "# Evaluate and print results for Question 3\n",
    "print(\"Evaluating sentences from Question 3:\")\n",
    "for text, expr_str in sentences1.items():\n",
    "    print(f\"Evaluating: {expr_str}\")\n",
    "    result = evaluate_expression(expr_str, model, g)\n",
    "    print(f\"{text}: {result}\")\n",
    "    print('----')\n",
    "\n",
    "# Evaluate and print results for Question 4\n",
    "print(\"Evaluating sentences from Question 4:\")\n",
    "for text, expr_str in sentences2.items():\n",
    "    print(f\"Evaluating: {expr_str}\")\n",
    "    result = evaluate_expression(expr_str, model, g)\n",
    "    print(f\"{text}: {result}\")\n",
    "    print('----')"
   ]
  },
  {
   "cell_type": "code",
   "execution_count": null,
   "metadata": {},
   "outputs": [],
   "source": []
  },
  {
   "cell_type": "markdown",
   "metadata": {},
   "source": [
    "#"
   ]
  },
  {
   "cell_type": "code",
   "execution_count": 60,
   "metadata": {},
   "outputs": [
    {
     "name": "stdout",
     "output_type": "stream",
     "text": [
      "Evaluating sentences from Question 3:\n",
      "Lydia likes George but Lydia doesn't like Alex: Undefined\n",
      "----\n",
      "Lydia likes herself and so does George: Undefined\n",
      "----\n",
      "Charlie is an English pianist who plays a sonata: Undefined\n",
      "----\n",
      "Lydia and George admire each other: Undefined\n",
      "----\n",
      "Evaluating sentences from Question 4:\n",
      "Charlie knows a woman who likes George: Undefined\n",
      "----\n",
      "George admires everybody and Lydia admires nobody: Undefined\n",
      "----\n",
      "Nobody admires everybody: True\n",
      "----\n",
      "Exactly one musician plays everything Alex wrote: Undefined\n",
      "----\n"
     ]
    }
   ],
   "source": [
    "import nltk\n",
    "from nltk.sem import Valuation, Model, Assignment\n",
    "from nltk.sem import Expression\n",
    "\n",
    "# Initialize read_expr using Expression.fromstring\n",
    "read_expr = Expression.fromstring\n",
    "\n",
    "# Define entities\n",
    "entities = set(['b', 'a', 'g', 'c', 'l', 'p', 't', 'e', 'h', 'r', 'so', 'u', 'sc', 'w'])\n",
    "\n",
    "# Define the valuation assignments based on the world description\n",
    "assignments = \"\"\"\n",
    "Lydia => l\n",
    "George => g\n",
    "Alex => a\n",
    "Charlie => c\n",
    "Bertie => b\n",
    "sonata => so\n",
    "etude => e\n",
    "waltz => w\n",
    "scherzo => sc\n",
    "\n",
    "likes => {(l, l), (l, g), (l, a), (l, c), (g, l), (g, b), (g, g), (a, a), (c, l), (c, g), (c, a), (c, c), (c, b), (b, a)}\n",
    "english => {l, g, a, c, b}\n",
    "pianist => {c, b}\n",
    "plays => {(c, so), (c, e), (c, w), (b, w), (b, sc), (l, e), (l, p), (l, w)}\n",
    "admires => {(l, l), (l, c), (l, b), (g, l), (g, g), (g, a), (g, c), (g, b), (a, l), (a, a), (a, b), (c, g), (c, b), (b, l), (b, g), (b, a), (b, c), (b, b)}\n",
    "knows => {(l, l), (l, g), (l, a), (l, c), (l, b), (g, l), (g, g), (g, b), (a, l), (a, a), (a, b), (c, g), (c, c), (c, b), (b, l), (b, g), (b, a), (b, c), (b, b)}\n",
    "woman => {l, a, c}\n",
    "man => {g, b}\n",
    "wrote => {(a, so), (a, e), (a, w)}\n",
    "musician => {l, a, c, b}\n",
    "\"\"\"\n",
    "\n",
    "# Create the valuation and model\n",
    "val = Valuation.fromstring(assignments)\n",
    "model = Model(entities, val)\n",
    "\n",
    "# Define the assignment\n",
    "g = Assignment(entities)\n",
    "\n",
    "# Define sentences with corrected syntax\n",
    "sentences1 = {\n",
    "    \"Lydia likes George but Lydia doesn't like Alex\": read_expr('likes(l, g) and not likes(l, a)'),\n",
    "    \"Lydia likes herself and so does George\": read_expr('likes(l, l) and likes(g, g)'),\n",
    "    \"Charlie is an English pianist who plays a sonata\": read_expr('english(c) and pianist(c) and plays(c, so)'),\n",
    "    \"Lydia and George admire each other\": read_expr('admires(l, g) and admires(g, l)')\n",
    "}\n",
    "\n",
    "sentences2 = {\n",
    "    \"Charlie knows a woman who likes George\": read_expr('exists x (woman(x) and knows(c, x) and likes(x, g))'),\n",
    "    \"George admires everybody and Lydia admires nobody\": read_expr('forall x (admires(g, x)) and not exists y (admires(l, y))'),\n",
    "    \"Nobody admires everybody\": read_expr('not exists x (forall y (admires(x, y)))'),\n",
    "    \"Exactly one musician plays everything Alex wrote\": read_expr('exists x (musician(x) and forall y (wrote(a, y) -> plays(x, y)) and forall z (musician(z) and z != x -> exists w (wrote(a, w) and not plays(z, w))))')\n",
    "}\n",
    "\n",
    "# Evaluate and print results\n",
    "print(\"Evaluating sentences from Question 3:\")\n",
    "for text, semrep in sentences1.items():\n",
    "    try:\n",
    "        # Convert the expression to string and evaluate\n",
    "        result = model.evaluate(str(semrep), g)\n",
    "        print(f\"{text}: {result}\")\n",
    "    except Exception as e:\n",
    "        print(f\"Error evaluating '{text}': {e}\")\n",
    "    print('----')\n",
    "\n",
    "print(\"Evaluating sentences from Question 4:\")\n",
    "for text, semrep in sentences2.items():\n",
    "    try:\n",
    "        # Convert the expression to string and evaluate\n",
    "        result = model.evaluate(str(semrep), g)\n",
    "        print(f\"{text}: {result}\")\n",
    "    except Exception as e:\n",
    "        print(f\"Error evaluating '{text}': {e}\")\n",
    "    print('----')"
   ]
  },
  {
   "cell_type": "code",
   "execution_count": null,
   "metadata": {},
   "outputs": [],
   "source": []
  },
  {
   "cell_type": "code",
   "execution_count": 61,
   "metadata": {},
   "outputs": [
    {
     "name": "stdout",
     "output_type": "stream",
     "text": [
      "Evaluating sentences from Question 3:\n",
      "Evaluating: (likes(l,g) & -likes(l,a))\n",
      "Lydia likes George but Lydia doesn't like Alex: Undefined\n",
      "----\n",
      "Evaluating: (likes(l,l) & likes(g,g))\n",
      "Lydia likes herself and so does George: Undefined\n",
      "----\n",
      "Evaluating: (english(c) & pianist(c) & plays(c,so))\n",
      "Charlie is an English pianist who plays a sonata: Undefined\n",
      "----\n",
      "Evaluating: (admires(l,g) & admires(g,l))\n",
      "Lydia and George admire each other: Undefined\n",
      "----\n",
      "Evaluating sentences from Question 4:\n",
      "Evaluating: exists x.(woman(x) & knows(c,x) & likes(x,g))\n",
      "Charlie knows a woman who likes George: Undefined\n",
      "----\n",
      "Evaluating: (all x.admires(g,x) & -exists y.admires(l,y))\n",
      "George admires everybody and Lydia admires nobody: Undefined\n",
      "----\n",
      "Evaluating: -exists x.all y.admires(x,y)\n",
      "Nobody admires everybody: True\n",
      "----\n",
      "Evaluating: exists x.(musician(x) & all y.(wrote(a,y) -> plays(x,y)) & all z.((musician(z) & -(z = x)) -> exists w.(wrote(a,w) & -plays(z,w))))\n",
      "Exactly one musician plays everything Alex wrote: Undefined\n",
      "----\n"
     ]
    }
   ],
   "source": [
    "import nltk\n",
    "from nltk.sem import Valuation, Model, Assignment\n",
    "from nltk.sem import Expression\n",
    "\n",
    "# Initialize read_expr using Expression.fromstring\n",
    "read_expr = Expression.fromstring\n",
    "\n",
    "# Define entities\n",
    "entities = set(['b', 'a', 'g', 'c', 'l', 'p', 't', 'e', 'h', 'r', 'so', 'u', 'sc', 'w'])\n",
    "\n",
    "# Define the valuation assignments based on the world description\n",
    "assignments = \"\"\"\n",
    "Lydia => l\n",
    "George => g\n",
    "Alex => a\n",
    "Charlie => c\n",
    "Bertie => b\n",
    "sonata => so\n",
    "etude => e\n",
    "waltz => w\n",
    "scherzo => sc\n",
    "\n",
    "likes => {(l, l), (l, g), (l, a), (l, c), (g, l), (g, b), (g, g), (a, a), (c, l), (c, g), (c, a), (c, c), (c, b), (b, a)}\n",
    "english => {l, g, a, c, b}\n",
    "pianist => {c, b}\n",
    "plays => {(c, so), (c, e), (c, w), (b, w), (b, sc), (l, e), (l, p), (l, w)}\n",
    "admires => {(l, l), (l, c), (l, b), (g, l), (g, g), (g, a), (g, c), (g, b), (a, l), (a, a), (a, b), (c, g), (c, b), (b, l), (b, g), (b, a), (b, c), (b, b)}\n",
    "knows => {(l, l), (l, g), (l, a), (l, c), (l, b), (g, l), (g, g), (g, b), (a, l), (a, a), (a, b), (c, g), (c, c), (c, b), (b, l), (b, g), (b, a), (b, c), (b, b)}\n",
    "woman => {l, a, c}\n",
    "man => {g, b}\n",
    "wrote => {(a, so), (a, e), (a, w)}\n",
    "musician => {l, a, c, b}\n",
    "\"\"\"\n",
    "\n",
    "# Create the valuation and model\n",
    "val = Valuation.fromstring(assignments)\n",
    "model = Model(entities, val)\n",
    "\n",
    "# Define the assignment\n",
    "g = Assignment(entities)\n",
    "\n",
    "# Define sentences with corrected syntax\n",
    "sentences1 = {\n",
    "    \"Lydia likes George but Lydia doesn't like Alex\": read_expr('likes(l, g) and not likes(l, a)'),\n",
    "    \"Lydia likes herself and so does George\": read_expr('likes(l, l) and likes(g, g)'),\n",
    "    \"Charlie is an English pianist who plays a sonata\": read_expr('english(c) and pianist(c) and plays(c, so)'),\n",
    "    \"Lydia and George admire each other\": read_expr('admires(l, g) and admires(g, l)')\n",
    "}\n",
    "\n",
    "sentences2 = {\n",
    "    \"Charlie knows a woman who likes George\": read_expr('exists x (woman(x) and knows(c, x) and likes(x, g))'),\n",
    "    \"George admires everybody and Lydia admires nobody\": read_expr('forall x (admires(g, x)) and not exists y (admires(l, y))'),\n",
    "    \"Nobody admires everybody\": read_expr('not exists x (forall y (admires(x, y)))'),\n",
    "    \"Exactly one musician plays everything Alex wrote\": read_expr('exists x (musician(x) and forall y (wrote(a, y) -> plays(x, y)) and forall z (musician(z) and z != x -> exists w (wrote(a, w) and not plays(z, w))))')\n",
    "}\n",
    "\n",
    "# Evaluate and print results\n",
    "print(\"Evaluating sentences from Question 3:\")\n",
    "for text, semrep in sentences1.items():\n",
    "    try:\n",
    "        # Print the expression being evaluated\n",
    "        print(f\"Evaluating: {str(semrep)}\")\n",
    "        result = model.evaluate(str(semrep), g)\n",
    "        print(f\"{text}: {result}\")\n",
    "    except Exception as e:\n",
    "        print(f\"Error evaluating '{text}': {e}\")\n",
    "    print('----')\n",
    "\n",
    "print(\"Evaluating sentences from Question 4:\")\n",
    "for text, semrep in sentences2.items():\n",
    "    try:\n",
    "        # Print the expression being evaluated\n",
    "        print(f\"Evaluating: {str(semrep)}\")\n",
    "        result = model.evaluate(str(semrep), g)\n",
    "        print(f\"{text}: {result}\")\n",
    "    except Exception as e:\n",
    "        print(f\"Error evaluating '{text}': {e}\")\n",
    "    print('----')"
   ]
  },
  {
   "cell_type": "code",
   "execution_count": null,
   "metadata": {},
   "outputs": [],
   "source": []
  },
  {
   "cell_type": "code",
   "execution_count": null,
   "metadata": {},
   "outputs": [],
   "source": []
  },
  {
   "cell_type": "code",
   "execution_count": null,
   "metadata": {},
   "outputs": [],
   "source": []
  },
  {
   "cell_type": "code",
   "execution_count": 62,
   "metadata": {},
   "outputs": [
    {
     "name": "stdout",
     "output_type": "stream",
     "text": [
      "Evaluating sentences from Question 3:\n",
      "Lydia likes George but Lydia doesn't like Alex: Undefined\n",
      "----\n",
      "Lydia likes herself and so does George: Undefined\n",
      "----\n",
      "Charlie is an English pianist who plays a sonata: Undefined\n",
      "----\n",
      "Lydia and George admire each other: Undefined\n",
      "----\n",
      "Evaluating sentences from Question 4:\n",
      "Charlie knows a woman who likes George: Undefined\n",
      "----\n",
      "George admires everybody and Lydia admires nobody: Undefined\n",
      "----\n",
      "Nobody admires everybody: True\n",
      "----\n",
      "Exactly one musician plays everything Alex wrote: Undefined\n",
      "----\n"
     ]
    }
   ],
   "source": [
    "import nltk\n",
    "from nltk.sem import Valuation, Model, Assignment\n",
    "from nltk.sem import Expression\n",
    "\n",
    "# Initialize read_expr using Expression.fromstring\n",
    "read_expr = Expression.fromstring\n",
    "\n",
    "# Define entities\n",
    "entities = set(['b', 'a', 'g', 'p', 't', 'e', 'h', 'r', 'so', 'u', 'sc', 'l', 'w', 'c'])\n",
    "\n",
    "# Define the valuation assignments based on the world description\n",
    "assignments = \"\"\"\n",
    "Lydia => l\n",
    "George => g\n",
    "Alex => a\n",
    "Charlie => c\n",
    "Bertie => b\n",
    "sonata => so\n",
    "etude => e\n",
    "waltz => w\n",
    "scherzo => sc\n",
    "\n",
    "likes => {(l, l), (l, g), (l, a), (l, c), (g, l), (g, b), (g, g), (a, a), (c, l), (c, g), (c, a), (c, c), (c, b), (b, a)}\n",
    "english => {l, g, a, c, b}\n",
    "pianist => {c, b}\n",
    "plays => {(c, so), (c, e), (c, w), (b, w), (b, sc), (l, e), (l, p), (l, w)}\n",
    "admires => {(l, l), (l, c), (l, b), (g, l), (g, g), (g, a), (g, c), (g, b), (a, l), (a, a), (c, g), (c, b), (b, l), (b, g), (b, a), (b, c), (b, b)}\n",
    "knows => {(l, l), (l, g), (l, a), (l, c), (l, b), (g, l), (g, g), (g, b), (a, l), (a, a), (a, b), (c, g), (c, c), (c, b), (b, l), (b, g), (b, a), (b, c), (b, b)}\n",
    "woman => {l, a, c}\n",
    "man => {g, b}\n",
    "wrote => {(a, so), (a, e), (a, w)}\n",
    "musician => {l, a, c, b}\n",
    "\"\"\"\n",
    "\n",
    "# Create the valuation and model\n",
    "val = Valuation.fromstring(assignments)\n",
    "model = Model(entities, val)\n",
    "\n",
    "# Define the assignment\n",
    "g = Assignment(entities)\n",
    "\n",
    "# Sentences from question 3\n",
    "print(\"Evaluating sentences from Question 3:\")\n",
    "for text, semrep in sentences1.items():\n",
    "    try:\n",
    "        result = model.evaluate(str(semrep), g)\n",
    "        print(f\"{text}: {result}\")\n",
    "    except Exception as e:\n",
    "        print(f\"Error evaluating '{text}': {e}\")\n",
    "    print('----')\n",
    "\n",
    "# Sentences from question 4\n",
    "print(\"Evaluating sentences from Question 4:\")\n",
    "for text, semrep in sentences2.items():\n",
    "    try:\n",
    "        result = model.evaluate(str(semrep), g)\n",
    "        print(f\"{text}: {result}\")\n",
    "    except Exception as e:\n",
    "        print(f\"Error evaluating '{text}': {e}\")\n",
    "    print('----')"
   ]
  },
  {
   "cell_type": "code",
   "execution_count": null,
   "metadata": {},
   "outputs": [],
   "source": []
  },
  {
   "cell_type": "code",
   "execution_count": 63,
   "metadata": {},
   "outputs": [
    {
     "name": "stdout",
     "output_type": "stream",
     "text": [
      "Evaluating sentences from Question 3:\n",
      "Lydia likes George but Lydia doesn't like Alex: Undefined\n",
      "----\n",
      "Lydia likes herself and so does George: Undefined\n",
      "----\n",
      "Charlie is an English pianist who plays a sonata: Undefined\n",
      "----\n",
      "Lydia and George admire each other: Undefined\n",
      "----\n",
      "Evaluating sentences from Question 4:\n",
      "Charlie knows a woman who likes George: Undefined\n",
      "----\n",
      "George admires everybody and Lydia admires nobody: Undefined\n",
      "----\n",
      "Nobody admires everybody: True\n",
      "----\n",
      "Exactly one musician plays everything Alex wrote: Undefined\n",
      "----\n"
     ]
    }
   ],
   "source": [
    "import nltk\n",
    "from nltk.sem import Valuation, Model, Assignment\n",
    "from nltk.sem import Expression\n",
    "\n",
    "# Initialize read_expr using Expression.fromstring\n",
    "read_expr = Expression.fromstring\n",
    "\n",
    "# Define entities and valuation\n",
    "entities = set(['l', 'g', 'a', 'c', 'b', 'so', 'e', 'p', 'w', 'sc'])\n",
    "\n",
    "# Valuation of the world\n",
    "assignments = \"\"\"\n",
    "Lydia => l\n",
    "George => g\n",
    "Alex => a\n",
    "Charlie => c\n",
    "Bertie => b\n",
    "sonata => so\n",
    "etude => e\n",
    "waltz => w\n",
    "scherzo => sc\n",
    "prelude => p\n",
    "\n",
    "likes => {(l, l), (l, g), (l, a), (l, c), (g, l), (g, b), (g, g), (a, a), (c, l), (c, g), (c, a), (c, c), (c, b), (b, a)}\n",
    "english => {l, g, a, c, b}\n",
    "pianist => {c, b}\n",
    "plays => {(c, so), (c, e), (c, w), (b, w), (b, sc), (l, e), (l, p), (l, w)}\n",
    "admires => {(l, l), (l, c), (l, b), (g, l), (g, g), (g, a), (g, c), (g, b), (a, l), (a, a), (c, g), (c, b), (b, l), (b, g), (b, a), (b, c), (b, b)}\n",
    "knows => {(l, l), (l, g), (l, a), (l, c), (l, b), (g, l), (g, g), (g, b), (a, l), (a, a), (a, b), (c, g), (c, c), (c, b), (b, l), (b, g), (b, a), (b, c), (b, b)}\n",
    "woman => {l, a, c}\n",
    "man => {g, b}\n",
    "wrote => {(a, so), (a, e), (a, w)}\n",
    "musician => {l, a, c, b}\n",
    "\"\"\"\n",
    "\n",
    "# Create the valuation and model\n",
    "val = Valuation.fromstring(assignments)\n",
    "model = Model(entities, val)\n",
    "assignment = Assignment(entities)\n",
    "# Define the assignment\n",
    "g = Assignment(entities)\n",
    "\n",
    "# Sentences from question 3\n",
    "print(\"Evaluating sentences from Question 3:\")\n",
    "for text, semrep in sentences1.items():\n",
    "    try:\n",
    "        result = model.evaluate(str(semrep), g)\n",
    "        print(f\"{text}: {result}\")\n",
    "    except Exception as e:\n",
    "        print(f\"Error evaluating '{text}': {e}\")\n",
    "    print('----')\n",
    "\n",
    "# Sentences from question 4\n",
    "print(\"Evaluating sentences from Question 4:\")\n",
    "for text, semrep in sentences2.items():\n",
    "    try:\n",
    "        result = model.evaluate(str(semrep), g)\n",
    "        print(f\"{text}: {result}\")\n",
    "    except Exception as e:\n",
    "        print(f\"Error evaluating '{text}': {e}\")\n",
    "    print('----')"
   ]
  },
  {
   "cell_type": "code",
   "execution_count": null,
   "metadata": {},
   "outputs": [],
   "source": []
  },
  {
   "cell_type": "code",
   "execution_count": 33,
   "metadata": {},
   "outputs": [
    {
     "name": "stdout",
     "output_type": "stream",
     "text": [
      "Evaluating sentences from Question 3:\n",
      "Lydia likes George but Lydia doesn't like Alex: Undefined\n",
      "----\n",
      "Lydia likes herself and so does George: Undefined\n",
      "----\n",
      "Charlie is an English pianist who plays a sonata: Undefined\n",
      "----\n",
      "Lydia and George admire each other: Undefined\n",
      "----\n",
      "Evaluating sentences from Question 4:\n",
      "Charlie knows a woman who likes George: Undefined\n",
      "----\n",
      "George admires everybody and Lydia admires nobody: Undefined\n",
      "----\n",
      "Nobody admires everybody: True\n",
      "----\n",
      "Exactly one musician plays everything Alex wrote: Undefined\n",
      "----\n"
     ]
    }
   ],
   "source": [
    "import nltk\n",
    "from nltk.sem import Valuation, Model, Assignment\n",
    "from nltk.sem import Expression\n",
    "\n",
    "# Initialize read_expr using Expression.fromstring\n",
    "read_expr = Expression.fromstring\n",
    "\n",
    "# Define entities and valuation\n",
    "entities = set(['l', 'g', 'a', 'c', 'b', 'so', 'e', 'p', 'w', 'sc'])\n",
    "\n",
    "# Valuation of the world\n",
    "assignments = \"\"\"\n",
    "Lydia => l\n",
    "George => g\n",
    "Alex => a\n",
    "Charlie => c\n",
    "Bertie => b\n",
    "sonata => so\n",
    "etude => e\n",
    "waltz => w\n",
    "scherzo => sc\n",
    "prelude => p\n",
    "\n",
    "likes => {(l, l), (l, g), (l, a), (l, c), (g, l), (g, b), (g, g), (a, a), (c, l), (c, g), (c, a), (c, c), (c, b), (b, a)}\n",
    "english => {l, g, a, c, b}\n",
    "pianist => {c, b}\n",
    "plays => {(c, so), (c, e), (c, w), (b, w), (b, sc), (l, e), (l, p), (l, w)}\n",
    "admires => {(l, l), (l, c), (l, b), (g, l), (g, g), (g, a), (g, c), (g, b), (a, l), (a, a), (c, g), (c, b), (b, l), (b, g), (b, a), (b, c), (b, b)}\n",
    "knows => {(l, l), (l, g), (l, a), (l, c), (l, b), (g, l), (g, g), (g, b), (a, l), (a, a), (a, b), (c, g), (c, c), (c, b), (b, l), (b, g), (b, a), (b, c), (b, b)}\n",
    "woman => {l, a, c}\n",
    "man => {g, b}\n",
    "wrote => {(a, so), (a, e), (a, w)}\n",
    "musician => {l, a, c, b}\n",
    "\"\"\"\n",
    "\n",
    "# Create the valuation and model\n",
    "val = Valuation.fromstring(assignments)\n",
    "model = Model(entities, val)\n",
    "g = Assignment(entities)\n",
    "\n",
    "# Define sentences from Question 3\n",
    "sentences1 = {\n",
    "    'Lydia likes George but Lydia doesn\\'t like Alex': read_expr('(likes(l, g) & -likes(l, a))'),\n",
    "    'Lydia likes herself and so does George': read_expr('(likes(l, l) & likes(g, g))'),\n",
    "    'Charlie is an English pianist who plays a sonata': read_expr('(english(c) & pianist(c) & plays(c, so))'),\n",
    "    'Lydia and George admire each other': read_expr('(admires(l, g) & admires(g, l))')\n",
    "}\n",
    "\n",
    "# Define sentences from Question 4\n",
    "sentences2 = {\n",
    "    'Charlie knows a woman who likes George': read_expr('exists x. (woman(x) & likes(x, g) & knows(c, x))'),\n",
    "    'George admires everybody and Lydia admires nobody': read_expr('(forall x. admires(g, x)) & -(exists y. admires(l, y))'),\n",
    "    'Nobody admires everybody': read_expr('-(exists x. forall y. admires(x, y))'),\n",
    "    'Exactly one musician plays everything Alex wrote': read_expr('exists x. (musician(x) & forall y. (wrote(a, y) -> plays(x, y)) & forall z. (musician(z) & z != x -> exists w. wrote(a, w) & -plays(z, w)))')\n",
    "}\n",
    "\n",
    "# Evaluate sentences from Question 3\n",
    "print(\"Evaluating sentences from Question 3:\")\n",
    "for text, semrep in sentences1.items():\n",
    "    try:\n",
    "        result = model.evaluate(str(semrep), g)\n",
    "        print(f\"{text}: {result}\")\n",
    "    except Exception as e:\n",
    "        print(f\"Error evaluating '{text}': {e}\")\n",
    "    print('----')\n",
    "\n",
    "# Evaluate sentences from Question 4\n",
    "print(\"Evaluating sentences from Question 4:\")\n",
    "for text, semrep in sentences2.items():\n",
    "    try:\n",
    "        result = model.evaluate(str(semrep), g)\n",
    "        print(f\"{text}: {result}\")\n",
    "    except Exception as e:\n",
    "        print(f\"Error evaluating '{text}': {e}\")\n",
    "    print('----')"
   ]
  },
  {
   "cell_type": "markdown",
   "metadata": {
    "scrolled": true
   },
   "source": []
  },
  {
   "cell_type": "code",
   "execution_count": null,
   "metadata": {},
   "outputs": [],
   "source": []
  },
  {
   "cell_type": "code",
   "execution_count": 71,
   "metadata": {},
   "outputs": [
    {
     "name": "stdout",
     "output_type": "stream",
     "text": [
      "Evaluating sentences from Question 3:\n",
      "Lydia likes George but Lydia doesn't like Alex: Undefined\n",
      "----\n",
      "Lydia likes herself and so does George: Undefined\n",
      "----\n",
      "Charlie is an English pianist who plays a sonata: Undefined\n",
      "----\n",
      "Lydia and George admire each other: Undefined\n",
      "----\n",
      "Evaluating sentences from Question 4:\n",
      "Charlie knows a woman who likes George: Undefined\n",
      "----\n",
      "George admires everybody and Lydia admires nobody: Undefined\n",
      "----\n",
      "Nobody admires everybody: Undefined\n",
      "----\n",
      "Exactly one musician plays everything Alex wrote: Undefined\n",
      "----\n"
     ]
    }
   ],
   "source": [
    "import nltk\n",
    "from nltk.sem import Valuation, Model, Assignment\n",
    "from nltk.sem import Expression\n",
    "\n",
    "# Initialize read_expr using Expression.fromstring\n",
    "read_expr = Expression.fromstring\n",
    "\n",
    "# Define entities and valuation\n",
    "entities = set(['l', 'g', 'a', 'c', 'b', 'so', 'e', 'p', 'w', 'sc'])\n",
    "\n",
    "# Valuation of the world\n",
    "assignments = \"\"\"\n",
    "Lydia => l\n",
    "George => g\n",
    "Alex => a\n",
    "Charlie => c\n",
    "Bertie => b\n",
    "sonata => so\n",
    "etude => e\n",
    "waltz => w\n",
    "scherzo => sc\n",
    "prelude => p\n",
    "\n",
    "likes => {(l, l), (l, g), (l, a), (l, c), (g, l), (g, b), (g, g), (a, a), (c, l), (c, g), (c, a), (c, c), (c, b), (b, a)}\n",
    "english => {l, g, a, c, b}\n",
    "pianist => {c, b}\n",
    "plays => {(c, so), (c, e), (c, w), (b, w), (b, sc), (l, e), (l, p), (l, w)}\n",
    "admires => {(l, l), (l, c), (l, b), (g, l), (g, g), (g, a), (g, c), (g, b), (a, l), (a, a), (c, g), (c, b), (b, l), (b, g), (b, a), (b, c), (b, b)}\n",
    "knows => {(l, l), (l, g), (l, a), (l, c), (l, b), (g, l), (g, g), (g, b), (a, l), (a, a), (a, b), (c, g), (c, c), (c, b), (b, l), (b, g), (b, a), (b, c), (b, b)}\n",
    "woman => {l, a, c}\n",
    "man => {g, b}\n",
    "wrote => {(a, so), (a, e), (a, w)}\n",
    "musician => {l, a, c, b}\n",
    "\"\"\"\n",
    "\n",
    "# Create the valuation and model\n",
    "val = Valuation.fromstring(assignments)\n",
    "model = Model(entities, val)\n",
    "g = Assignment(entities)\n",
    "\n",
    "# Define sentences from Question 3\n",
    "sentences1 = {\n",
    "    'Lydia likes George but Lydia doesn\\'t like Alex': read_expr('(likes(l, g) & ~likes(l, a))'),\n",
    "    'Lydia likes herself and so does George': read_expr('(likes(l, l) & likes(g, g))'),\n",
    "    'Charlie is an English pianist who plays a sonata': read_expr('(english(c) & pianist(c) & plays(c, so))'),\n",
    "    'Lydia and George admire each other': read_expr('(admires(l, g) & admires(g, l))')\n",
    "}\n",
    "\n",
    "# Define sentences from Question 4\n",
    "sentences2 = {\n",
    "    'Charlie knows a woman who likes George': read_expr('exists x. (woman(x) & likes(x, g) & knows(c, x))'),\n",
    "    'George admires everybody and Lydia admires nobody': read_expr('(forall x. admires(g, x)) & ~(exists y. admires(l, y))'),\n",
    "    'Nobody admires everybody': read_expr('~(exists x. (forall y. admires(x, y)))'),\n",
    "    'Exactly one musician plays everything Alex wrote': read_expr('exists x. (musician(x) & forall y. (wrote(a, y) -> plays(x, y)) & forall z. (musician(z) & z != x -> exists w. (wrote(a, w) & ~plays(z, w))))')\n",
    "}\n",
    "\n",
    "# Evaluate sentences from Question 3\n",
    "print(\"Evaluating sentences from Question 3:\")\n",
    "for text, semrep in sentences1.items():\n",
    "    try:\n",
    "        result = model.evaluate(str(semrep), g)\n",
    "        print(f\"{text}: {result}\")\n",
    "    except Exception as e:\n",
    "        print(f\"Error evaluating '{text}': {e}\")\n",
    "    print('----')\n",
    "\n",
    "# Evaluate sentences from Question 4\n",
    "print(\"Evaluating sentences from Question 4:\")\n",
    "for text, semrep in sentences2.items():\n",
    "    try:\n",
    "        result = model.evaluate(str(semrep), g)\n",
    "        print(f\"{text}: {result}\")\n",
    "    except Exception as e:\n",
    "        print(f\"Error evaluating '{text}': {e}\")\n",
    "    print('----')"
   ]
  },
  {
   "cell_type": "code",
   "execution_count": null,
   "metadata": {},
   "outputs": [],
   "source": []
  },
  {
   "cell_type": "code",
   "execution_count": null,
   "metadata": {},
   "outputs": [],
   "source": []
  },
  {
   "cell_type": "code",
   "execution_count": null,
   "metadata": {},
   "outputs": [],
   "source": []
  },
  {
   "cell_type": "code",
   "execution_count": 72,
   "metadata": {},
   "outputs": [
    {
     "name": "stdout",
     "output_type": "stream",
     "text": [
      "Evaluating sentences from Question 3:\n",
      "Lydia likes George but Lydia doesn't like Alex: Undefined\n",
      "----\n",
      "Lydia likes herself and so does George: Undefined\n",
      "----\n",
      "Charlie is an English pianist who plays a sonata: Undefined\n",
      "----\n",
      "Lydia and George admire each other: Undefined\n",
      "----\n",
      "Evaluating sentences from Question 4:\n",
      "Charlie knows a woman who likes George: Undefined\n",
      "----\n",
      "George admires everybody and Lydia admires nobody: Undefined\n",
      "----\n",
      "Nobody admires everybody: Undefined\n",
      "----\n",
      "Exactly one musician plays everything Alex wrote: Undefined\n",
      "----\n"
     ]
    }
   ],
   "source": [
    "import nltk\n",
    "from nltk.sem import Valuation, Model, Assignment\n",
    "from nltk.sem import Expression\n",
    "\n",
    "# Initialize read_expr using Expression.fromstring\n",
    "read_expr = Expression.fromstring\n",
    "\n",
    "# Define entities and valuation\n",
    "entities = set(['l', 'g', 'a', 'c', 'b', 'so', 'e', 'p', 'w', 'sc'])\n",
    "\n",
    "# Valuation of the world\n",
    "assignments = \"\"\"\n",
    "Lydia => l\n",
    "George => g\n",
    "Alex => a\n",
    "Charlie => c\n",
    "Bertie => b\n",
    "sonata => so\n",
    "etude => e\n",
    "waltz => w\n",
    "scherzo => sc\n",
    "prelude => p\n",
    "\n",
    "likes => {(l, l), (l, g), (l, a), (l, c), (g, l), (g, b), (g, g), (a, a), (c, l), (c, g), (c, a), (c, c), (c, b), (b, a)}\n",
    "english => {l, g, a, c, b}\n",
    "pianist => {c, b}\n",
    "plays => {(c, so), (c, e), (c, w), (b, w), (b, sc), (l, e), (l, p), (l, w)}\n",
    "admires => {(l, l), (l, c), (l, b), (g, l), (g, g), (g, a), (g, c), (g, b), (a, l), (a, a), (c, g), (c, b), (b, l), (b, g), (b, a), (b, c), (b, b)}\n",
    "knows => {(l, l), (l, g), (l, a), (l, c), (l, b), (g, l), (g, g), (g, b), (a, l), (a, a), (a, b), (c, g), (c, c), (c, b), (b, l), (b, g), (b, a), (b, c), (b, b)}\n",
    "woman => {l, a, c}\n",
    "man => {g, b}\n",
    "wrote => {(a, so), (a, e), (a, w)}\n",
    "musician => {l, a, c, b}\n",
    "\"\"\"\n",
    "\n",
    "# Create the valuation and model\n",
    "val = Valuation.fromstring(assignments)\n",
    "model = Model(entities, val)\n",
    "g = Assignment(entities)\n",
    "\n",
    "# Define sentences from Question 3\n",
    "sentences1 = {\n",
    "    'Lydia likes George but Lydia doesn\\'t like Alex': read_expr('(likes(l, g) & ~likes(l, a))'),\n",
    "    'Lydia likes herself and so does George': read_expr('(likes(l, l) & likes(g, g))'),\n",
    "    'Charlie is an English pianist who plays a sonata': read_expr('(english(c) & pianist(c) & plays(c, so))'),\n",
    "    'Lydia and George admire each other': read_expr('(admires(l, g) & admires(g, l))')\n",
    "}\n",
    "\n",
    "# Define sentences from Question 4\n",
    "sentences2 = {\n",
    "    'Charlie knows a woman who likes George': read_expr('(exists x (woman(x) & knows(c, x) & likes(x, g)))'),\n",
    "    'George admires everybody and Lydia admires nobody': read_expr('(forall x (admires(g, x))) & ~(exists y (admires(l, y)))'),\n",
    "    'Nobody admires everybody': read_expr('~(exists x (forall y (admires(x, y))))'),\n",
    "    'Exactly one musician plays everything Alex wrote': read_expr('(exists x (musician(x) & forall y (wrote(a, y) -> plays(x, y)) & forall z (musician(z) & z != x -> exists w (wrote(a, w) & ~plays(z, w)))))')\n",
    "}\n",
    "\n",
    "# Evaluate sentences from Question 3\n",
    "print(\"Evaluating sentences from Question 3:\")\n",
    "for text, semrep in sentences1.items():\n",
    "    try:\n",
    "        result = model.evaluate(str(semrep), g)\n",
    "        print(f\"{text}: {result}\")\n",
    "    except Exception as e:\n",
    "        print(f\"Error evaluating '{text}': {e}\")\n",
    "    print('----')\n",
    "\n",
    "# Evaluate sentences from Question 4\n",
    "print(\"Evaluating sentences from Question 4:\")\n",
    "for text, semrep in sentences2.items():\n",
    "    try:\n",
    "        result = model.evaluate(str(semrep), g)\n",
    "        print(f\"{text}: {result}\")\n",
    "    except Exception as e:\n",
    "        print(f\"Error evaluating '{text}': {e}\")\n",
    "    print('----')"
   ]
  },
  {
   "cell_type": "code",
   "execution_count": null,
   "metadata": {},
   "outputs": [],
   "source": []
  },
  {
   "cell_type": "code",
   "execution_count": 64,
   "metadata": {},
   "outputs": [
    {
     "name": "stdout",
     "output_type": "stream",
     "text": [
      "Evaluating sentences from Question 3:\n",
      "Evaluating: Lydia likes George but Lydia doesn't like Alex\n",
      "Expression: (likes(l,g) & ~likes(l,a))\n",
      "Result: Undefined\n",
      "----\n",
      "Evaluating: Lydia likes herself and so does George\n",
      "Expression: (likes(l,l) & likes(g,g))\n",
      "Result: Undefined\n",
      "----\n",
      "Evaluating: Charlie is an English pianist who plays a sonata\n",
      "Expression: (english(c) & pianist(c) & plays(c,so))\n",
      "Result: Undefined\n",
      "----\n",
      "Evaluating: Lydia and George admire each other\n",
      "Expression: (admires(l,g) & admires(g,l))\n",
      "Result: Undefined\n",
      "----\n",
      "Evaluating sentences from Question 4:\n",
      "Evaluating: Charlie knows a woman who likes George\n",
      "Expression: exists x.(woman(x) & knows(c,x) & likes(x,g))\n",
      "Result: Undefined\n",
      "----\n",
      "Evaluating: George admires everybody and Lydia admires nobody\n",
      "Expression: (all x.admires(g,x) & ~(exists y.admires(l,y)))\n",
      "Result: Undefined\n",
      "----\n",
      "Evaluating: Nobody admires everybody\n",
      "Expression: ~(exists x.all y.admires(x,y))\n",
      "Result: Undefined\n",
      "----\n",
      "Evaluating: Exactly one musician plays everything Alex wrote\n",
      "Expression: exists x.(musician(x) & all y.(wrote(a,y) -> plays(x,y)) & all z.((musician(z) & -(z = x)) -> exists w.(wrote(a,w) & ~plays(z,w))))\n",
      "Result: Undefined\n",
      "----\n"
     ]
    }
   ],
   "source": [
    "import nltk\n",
    "from nltk.sem import Valuation, Model, Assignment\n",
    "from nltk.sem import Expression\n",
    "\n",
    "# Initialize read_expr using Expression.fromstring\n",
    "read_expr = Expression.fromstring\n",
    "\n",
    "# Define entities and valuation\n",
    "entities = set(['l', 'g', 'a', 'c', 'b', 'so', 'e', 'p', 'w', 'sc'])\n",
    "\n",
    "# Valuation of the world\n",
    "assignments = \"\"\"\n",
    "Lydia => l\n",
    "George => g\n",
    "Alex => a\n",
    "Charlie => c\n",
    "Bertie => b\n",
    "sonata => so\n",
    "etude => e\n",
    "waltz => w\n",
    "scherzo => sc\n",
    "prelude => p\n",
    "\n",
    "likes => {(l, l), (l, g), (l, a), (l, c), (g, l), (g, b), (g, g), (a, a), (c, l), (c, g), (c, a), (c, c), (c, b), (b, a)}\n",
    "english => {l, g, a, c, b}\n",
    "pianist => {c, b}\n",
    "plays => {(c, so), (c, e), (c, w), (b, w), (b, sc), (l, e), (l, p), (l, w)}\n",
    "admires => {(l, l), (l, c), (l, b), (g, l), (g, g), (g, a), (g, c), (g, b), (a, l), (a, a), (c, g), (c, b), (b, l), (b, g), (b, a), (b, c), (b, b)}\n",
    "knows => {(l, l), (l, g), (l, a), (l, c), (l, b), (g, l), (g, g), (g, b), (a, l), (a, a), (a, b), (c, g), (c, c), (c, b), (b, l), (b, g), (b, a), (b, c), (b, b)}\n",
    "woman => {l, a, c}\n",
    "man => {g, b}\n",
    "wrote => {(a, so), (a, e), (a, w)}\n",
    "musician => {l, a, c, b}\n",
    "\"\"\"\n",
    "\n",
    "# Create the valuation and model\n",
    "val = Valuation.fromstring(assignments)\n",
    "model = Model(entities, val)\n",
    "g = Assignment(entities)\n",
    "\n",
    "# Define sentences from Question 3\n",
    "sentences1 = {\n",
    "    'Lydia likes George but Lydia doesn\\'t like Alex': read_expr('(likes(l, g) & ~likes(l, a))'),\n",
    "    'Lydia likes herself and so does George': read_expr('(likes(l, l) & likes(g, g))'),\n",
    "    'Charlie is an English pianist who plays a sonata': read_expr('(english(c) & pianist(c) & plays(c, so))'),\n",
    "    'Lydia and George admire each other': read_expr('(admires(l, g) & admires(g, l))')\n",
    "}\n",
    "\n",
    "# Define sentences from Question 4\n",
    "sentences2 = {\n",
    "    'Charlie knows a woman who likes George': read_expr('(exists x (woman(x) & knows(c, x) & likes(x, g)))'),\n",
    "    'George admires everybody and Lydia admires nobody': read_expr('(forall x (admires(g, x))) & ~(exists y (admires(l, y)))'),\n",
    "    'Nobody admires everybody': read_expr('~(exists x (forall y (admires(x, y))))'),\n",
    "    'Exactly one musician plays everything Alex wrote': read_expr('(exists x (musician(x) & forall y (wrote(a, y) -> plays(x, y)) & forall z (musician(z) & z != x -> exists w (wrote(a, w) & ~plays(z, w)))))')\n",
    "}\n",
    "\n",
    "# Evaluate sentences from Question 3\n",
    "print(\"Evaluating sentences from Question 3:\")\n",
    "for text, semrep in sentences1.items():\n",
    "    print(f\"Evaluating: {text}\")\n",
    "    print(f\"Expression: {semrep}\")\n",
    "    try:\n",
    "        result = model.evaluate(str(semrep), g)\n",
    "        print(f\"Result: {result}\")\n",
    "    except Exception as e:\n",
    "        print(f\"Error: {e}\")\n",
    "    print('----')\n",
    "\n",
    "# Evaluate sentences from Question 4\n",
    "print(\"Evaluating sentences from Question 4:\")\n",
    "for text, semrep in sentences2.items():\n",
    "    print(f\"Evaluating: {text}\")\n",
    "    print(f\"Expression: {semrep}\")\n",
    "    try:\n",
    "        result = model.evaluate(str(semrep), g)\n",
    "        print(f\"Result: {result}\")\n",
    "    except Exception as e:\n",
    "        print(f\"Error: {e}\")\n",
    "    print('----')"
   ]
  },
  {
   "cell_type": "code",
   "execution_count": null,
   "metadata": {},
   "outputs": [],
   "source": []
  },
  {
   "cell_type": "code",
   "execution_count": 65,
   "metadata": {},
   "outputs": [
    {
     "name": "stdout",
     "output_type": "stream",
     "text": [
      "Evaluating sentences from Question 3:\n",
      "Lydia likes George but Lydia doesn't like Alex: Undefined\n"
     ]
    },
    {
     "data": {
      "text/markdown": [
       "**Expression:** (likes(l,g) & ~likes(l,a))"
      ],
      "text/plain": [
       "<IPython.core.display.Markdown object>"
      ]
     },
     "metadata": {},
     "output_type": "display_data"
    },
    {
     "data": {
      "text/markdown": [
       "**Result:** Undefined"
      ],
      "text/plain": [
       "<IPython.core.display.Markdown object>"
      ]
     },
     "metadata": {},
     "output_type": "display_data"
    },
    {
     "data": {
      "text/markdown": [
       "----"
      ],
      "text/plain": [
       "<IPython.core.display.Markdown object>"
      ]
     },
     "metadata": {},
     "output_type": "display_data"
    },
    {
     "name": "stdout",
     "output_type": "stream",
     "text": [
      "Lydia likes herself and so does George: Undefined\n"
     ]
    },
    {
     "data": {
      "text/markdown": [
       "**Expression:** (likes(l,l) & likes(g,g))"
      ],
      "text/plain": [
       "<IPython.core.display.Markdown object>"
      ]
     },
     "metadata": {},
     "output_type": "display_data"
    },
    {
     "data": {
      "text/markdown": [
       "**Result:** Undefined"
      ],
      "text/plain": [
       "<IPython.core.display.Markdown object>"
      ]
     },
     "metadata": {},
     "output_type": "display_data"
    },
    {
     "data": {
      "text/markdown": [
       "----"
      ],
      "text/plain": [
       "<IPython.core.display.Markdown object>"
      ]
     },
     "metadata": {},
     "output_type": "display_data"
    },
    {
     "name": "stdout",
     "output_type": "stream",
     "text": [
      "Charlie is an English pianist who plays a sonata: Undefined\n"
     ]
    },
    {
     "data": {
      "text/markdown": [
       "**Expression:** (english(c) & pianist(c) & plays(c,so))"
      ],
      "text/plain": [
       "<IPython.core.display.Markdown object>"
      ]
     },
     "metadata": {},
     "output_type": "display_data"
    },
    {
     "data": {
      "text/markdown": [
       "**Result:** Undefined"
      ],
      "text/plain": [
       "<IPython.core.display.Markdown object>"
      ]
     },
     "metadata": {},
     "output_type": "display_data"
    },
    {
     "data": {
      "text/markdown": [
       "----"
      ],
      "text/plain": [
       "<IPython.core.display.Markdown object>"
      ]
     },
     "metadata": {},
     "output_type": "display_data"
    },
    {
     "name": "stdout",
     "output_type": "stream",
     "text": [
      "Lydia and George admire each other: Undefined\n"
     ]
    },
    {
     "data": {
      "text/markdown": [
       "**Expression:** (admires(l,g) & admires(g,l))"
      ],
      "text/plain": [
       "<IPython.core.display.Markdown object>"
      ]
     },
     "metadata": {},
     "output_type": "display_data"
    },
    {
     "data": {
      "text/markdown": [
       "**Result:** Undefined"
      ],
      "text/plain": [
       "<IPython.core.display.Markdown object>"
      ]
     },
     "metadata": {},
     "output_type": "display_data"
    },
    {
     "data": {
      "text/markdown": [
       "----"
      ],
      "text/plain": [
       "<IPython.core.display.Markdown object>"
      ]
     },
     "metadata": {},
     "output_type": "display_data"
    },
    {
     "name": "stdout",
     "output_type": "stream",
     "text": [
      "Evaluating sentences from Question 4:\n",
      "Charlie knows a woman who likes George: Undefined\n"
     ]
    },
    {
     "data": {
      "text/markdown": [
       "**Expression:** exists x.(woman(x) & knows(c,x) & likes(x,g))"
      ],
      "text/plain": [
       "<IPython.core.display.Markdown object>"
      ]
     },
     "metadata": {},
     "output_type": "display_data"
    },
    {
     "data": {
      "text/markdown": [
       "**Result:** Undefined"
      ],
      "text/plain": [
       "<IPython.core.display.Markdown object>"
      ]
     },
     "metadata": {},
     "output_type": "display_data"
    },
    {
     "data": {
      "text/markdown": [
       "----"
      ],
      "text/plain": [
       "<IPython.core.display.Markdown object>"
      ]
     },
     "metadata": {},
     "output_type": "display_data"
    },
    {
     "name": "stdout",
     "output_type": "stream",
     "text": [
      "George admires everybody and Lydia admires nobody: Undefined\n"
     ]
    },
    {
     "data": {
      "text/markdown": [
       "**Expression:** (all x.admires(g,x) & ~(exists y.admires(l,y)))"
      ],
      "text/plain": [
       "<IPython.core.display.Markdown object>"
      ]
     },
     "metadata": {},
     "output_type": "display_data"
    },
    {
     "data": {
      "text/markdown": [
       "**Result:** Undefined"
      ],
      "text/plain": [
       "<IPython.core.display.Markdown object>"
      ]
     },
     "metadata": {},
     "output_type": "display_data"
    },
    {
     "data": {
      "text/markdown": [
       "----"
      ],
      "text/plain": [
       "<IPython.core.display.Markdown object>"
      ]
     },
     "metadata": {},
     "output_type": "display_data"
    },
    {
     "name": "stdout",
     "output_type": "stream",
     "text": [
      "Nobody admires everybody: Undefined\n"
     ]
    },
    {
     "data": {
      "text/markdown": [
       "**Expression:** ~(exists x.all y.admires(x,y))"
      ],
      "text/plain": [
       "<IPython.core.display.Markdown object>"
      ]
     },
     "metadata": {},
     "output_type": "display_data"
    },
    {
     "data": {
      "text/markdown": [
       "**Result:** Undefined"
      ],
      "text/plain": [
       "<IPython.core.display.Markdown object>"
      ]
     },
     "metadata": {},
     "output_type": "display_data"
    },
    {
     "data": {
      "text/markdown": [
       "----"
      ],
      "text/plain": [
       "<IPython.core.display.Markdown object>"
      ]
     },
     "metadata": {},
     "output_type": "display_data"
    },
    {
     "name": "stdout",
     "output_type": "stream",
     "text": [
      "Exactly one musician plays everything Alex wrote: Undefined\n"
     ]
    },
    {
     "data": {
      "text/markdown": [
       "**Expression:** exists x.(musician(x) & all y.(wrote(a,y) -> plays(x,y)) & all z.((musician(z) & -(z = x)) -> exists w.(wrote(a,w) & ~plays(z,w))))"
      ],
      "text/plain": [
       "<IPython.core.display.Markdown object>"
      ]
     },
     "metadata": {},
     "output_type": "display_data"
    },
    {
     "data": {
      "text/markdown": [
       "**Result:** Undefined"
      ],
      "text/plain": [
       "<IPython.core.display.Markdown object>"
      ]
     },
     "metadata": {},
     "output_type": "display_data"
    },
    {
     "data": {
      "text/markdown": [
       "----"
      ],
      "text/plain": [
       "<IPython.core.display.Markdown object>"
      ]
     },
     "metadata": {},
     "output_type": "display_data"
    }
   ],
   "source": [
    "import nltk\n",
    "from IPython.display import display, Markdown\n",
    "\n",
    "# Define entities for the model\n",
    "entities = set(['l', 'g', 'a', 'c', 'b', 'so', 'e', 'p', 'w', 'sc'])\n",
    "\n",
    "# Define the valuation string with correct predicates and values\n",
    "assign = \"\"\"\n",
    "likes => {(l, g), (l, a), (l, c), (g, l), (g, b), (g, g), (a, a), (c, l), (c, g), (c, a), (c, b), (b, a)}\n",
    "english => {l, g, a, c, b}\n",
    "pianist => {c, b}\n",
    "plays => {(c, so), (c, e), (c, w), (b, w), (b, sc), (l, e), (l, p), (l, w)}\n",
    "admires => {(l, l), (l, c), (l, b), (g, l), (g, g), (g, a), (g, c), (g, b), (a, l), (a, a), (c, g), (c, b), (b, l), (b, g), (b, a), (b, c), (b, b)}\n",
    "knows => {(l, l), (l, g), (l, a), (l, c), (l, b), (g, l), (g, g), (g, b), (a, l), (a, a), (a, b), (c, g), (c, c), (c, b), (b, l), (b, g), (b, a), (b, c), (b, b)}\n",
    "woman => {l, a, c}\n",
    "man => {g, b}\n",
    "wrote => {(a, so), (a, e), (a, w)}\n",
    "musician => {l, a, c, b}\n",
    "\"\"\"\n",
    "\n",
    "# Create the valuation and model\n",
    "val2 = nltk.Valuation.fromstring(assign)\n",
    "g2 = nltk.Assignment(entities)\n",
    "m2 = nltk.Model(entities, val2)\n",
    "\n",
    "# Define the expressions\n",
    "sentences1 = {\n",
    "    'Lydia likes George but Lydia doesn\\'t like Alex': nltk.Expression.fromstring('(likes(l, g) & ~likes(l, a))'),\n",
    "    'Lydia likes herself and so does George': nltk.Expression.fromstring('(likes(l, l) & likes(g, g))'),\n",
    "    'Charlie is an English pianist who plays a sonata': nltk.Expression.fromstring('(english(c) & pianist(c) & plays(c, so))'),\n",
    "    'Lydia and George admire each other': nltk.Expression.fromstring('(admires(l, g) & admires(g, l))')\n",
    "}\n",
    "\n",
    "sentences2 = {\n",
    "    'Charlie knows a woman who likes George': nltk.Expression.fromstring('(exists x (woman(x) & knows(c, x) & likes(x, g)))'),\n",
    "    'George admires everybody and Lydia admires nobody': nltk.Expression.fromstring('(forall x (admires(g, x))) & ~(exists y (admires(l, y)))'),\n",
    "    'Nobody admires everybody': nltk.Expression.fromstring('~(exists x (forall y (admires(x, y))))'),\n",
    "    'Exactly one musician plays everything Alex wrote': nltk.Expression.fromstring('(exists x (musician(x) & forall y (wrote(a, y) -> plays(x, y)) & forall z (musician(z) & z != x -> exists w (wrote(a, w) & ~plays(z, w)))))')\n",
    "}\n",
    "\n",
    "# Evaluate sentences from Question 3\n",
    "print(\"Evaluating sentences from Question 3:\")\n",
    "for text, semrep in sentences1.items():\n",
    "    try:\n",
    "        result = m2.evaluate(str(semrep), g2)\n",
    "        print(f\"{text}: {result}\")\n",
    "        display(Markdown(f\"**Expression:** {semrep}\"))\n",
    "        display(Markdown(f\"**Result:** {result}\"))\n",
    "    except Exception as e:\n",
    "        print(f\"Error evaluating '{text}': {e}\")\n",
    "    display(Markdown('----'))\n",
    "\n",
    "# Evaluate sentences from Question 4\n",
    "print(\"Evaluating sentences from Question 4:\")\n",
    "for text, semrep in sentences2.items():\n",
    "    try:\n",
    "        result = m2.evaluate(str(semrep), g2)\n",
    "        print(f\"{text}: {result}\")\n",
    "        display(Markdown(f\"**Expression:** {semrep}\"))\n",
    "        display(Markdown(f\"**Result:** {result}\"))\n",
    "    except Exception as e:\n",
    "        print(f\"Error evaluating '{text}': {e}\")\n",
    "    display(Markdown('----'))"
   ]
  },
  {
   "cell_type": "code",
   "execution_count": 66,
   "metadata": {},
   "outputs": [
    {
     "name": "stdout",
     "output_type": "stream",
     "text": [
      "Lydia likes George but Lydia doesn't like Alex: Undefined\n"
     ]
    },
    {
     "data": {
      "text/markdown": [
       "$(likes(l,g)\\ \\land\\ ~likes(l,a))$"
      ],
      "text/plain": [
       "<IPython.core.display.Markdown object>"
      ]
     },
     "metadata": {},
     "output_type": "display_data"
    },
    {
     "data": {
      "text/markdown": [
       "----"
      ],
      "text/plain": [
       "<IPython.core.display.Markdown object>"
      ]
     },
     "metadata": {},
     "output_type": "display_data"
    },
    {
     "name": "stdout",
     "output_type": "stream",
     "text": [
      "Lydia likes herself and so does George: Undefined\n"
     ]
    },
    {
     "data": {
      "text/markdown": [
       "$(likes(l,l)\\ \\land\\ likes(g,g))$"
      ],
      "text/plain": [
       "<IPython.core.display.Markdown object>"
      ]
     },
     "metadata": {},
     "output_type": "display_data"
    },
    {
     "data": {
      "text/markdown": [
       "----"
      ],
      "text/plain": [
       "<IPython.core.display.Markdown object>"
      ]
     },
     "metadata": {},
     "output_type": "display_data"
    },
    {
     "name": "stdout",
     "output_type": "stream",
     "text": [
      "Charlie is an English pianist who plays a sonata: Undefined\n"
     ]
    },
    {
     "data": {
      "text/markdown": [
       "$(english(c)\\ \\land\\ pianist(c)\\ \\land\\ plays(c,so))$"
      ],
      "text/plain": [
       "<IPython.core.display.Markdown object>"
      ]
     },
     "metadata": {},
     "output_type": "display_data"
    },
    {
     "data": {
      "text/markdown": [
       "----"
      ],
      "text/plain": [
       "<IPython.core.display.Markdown object>"
      ]
     },
     "metadata": {},
     "output_type": "display_data"
    },
    {
     "name": "stdout",
     "output_type": "stream",
     "text": [
      "Lydia and George admire each other: Undefined\n"
     ]
    },
    {
     "data": {
      "text/markdown": [
       "$(admires(l,g)\\ \\land\\ admires(g,l))$"
      ],
      "text/plain": [
       "<IPython.core.display.Markdown object>"
      ]
     },
     "metadata": {},
     "output_type": "display_data"
    },
    {
     "data": {
      "text/markdown": [
       "----"
      ],
      "text/plain": [
       "<IPython.core.display.Markdown object>"
      ]
     },
     "metadata": {},
     "output_type": "display_data"
    },
    {
     "name": "stdout",
     "output_type": "stream",
     "text": [
      "Charlie knows a woman who likes George: Undefined\n"
     ]
    },
    {
     "data": {
      "text/markdown": [
       "$\\exists\\ x.(woman(x)\\ \\land\\ knows(c,x)\\ \\land\\ likes(x,g))$"
      ],
      "text/plain": [
       "<IPython.core.display.Markdown object>"
      ]
     },
     "metadata": {},
     "output_type": "display_data"
    },
    {
     "data": {
      "text/markdown": [
       "----"
      ],
      "text/plain": [
       "<IPython.core.display.Markdown object>"
      ]
     },
     "metadata": {},
     "output_type": "display_data"
    },
    {
     "name": "stdout",
     "output_type": "stream",
     "text": [
      "George admires everybody and Lydia admires nobody: Undefined\n"
     ]
    },
    {
     "data": {
      "text/markdown": [
       "$(\\forall\\ x.admires(g,x)\\ \\land\\ ~(\\exists\\ y.admires(l,y)))$"
      ],
      "text/plain": [
       "<IPython.core.display.Markdown object>"
      ]
     },
     "metadata": {},
     "output_type": "display_data"
    },
    {
     "data": {
      "text/markdown": [
       "----"
      ],
      "text/plain": [
       "<IPython.core.display.Markdown object>"
      ]
     },
     "metadata": {},
     "output_type": "display_data"
    },
    {
     "name": "stdout",
     "output_type": "stream",
     "text": [
      "Nobody admires everybody: Undefined\n"
     ]
    },
    {
     "data": {
      "text/markdown": [
       "$~(\\exists\\ x.\\forall\\ y.admires(x,y))$"
      ],
      "text/plain": [
       "<IPython.core.display.Markdown object>"
      ]
     },
     "metadata": {},
     "output_type": "display_data"
    },
    {
     "data": {
      "text/markdown": [
       "----"
      ],
      "text/plain": [
       "<IPython.core.display.Markdown object>"
      ]
     },
     "metadata": {},
     "output_type": "display_data"
    },
    {
     "name": "stdout",
     "output_type": "stream",
     "text": [
      "Exactly one musician plays everything Alex wrote: Undefined\n"
     ]
    },
    {
     "data": {
      "text/markdown": [
       "$\\exists\\ x.(musician(x)\\ \\land\\ \\forall\\ y.(wrote(a,y)\\ \\rightarrow\\ plays(x,y))\\ \\land\\ \\forall\\ z.((musician(z)\\ \\land\\ -(z\\ =\\ x))\\ \\rightarrow\\ \\exists\\ w.(wrote(a,w)\\ \\land\\ ~plays(z,w))))$"
      ],
      "text/plain": [
       "<IPython.core.display.Markdown object>"
      ]
     },
     "metadata": {},
     "output_type": "display_data"
    },
    {
     "data": {
      "text/markdown": [
       "----"
      ],
      "text/plain": [
       "<IPython.core.display.Markdown object>"
      ]
     },
     "metadata": {},
     "output_type": "display_data"
    }
   ],
   "source": [
    "from nltk.sem import Valuation, Model\n",
    "from nltk.sem.logic import *\n",
    "entities = set(['b', 'a', 'g', 'p','t','e','h','r','so','u', 'sc', 'l','w','c'])\n",
    "assignments = \"\"\"\n",
    "Lydia => l\n",
    "George => g\n",
    "Alex => a\n",
    "Charlie => c\n",
    "Bertie => b\n",
    "sonata => so\n",
    "etude => e\n",
    "waltz => w\n",
    "scherzo => sc\n",
    "likes => {(l, l),(l, g), (l, a), (l, c), (g, l), (g, b), (g,g), (a,a), (c, l), (c, g), (c, a), (c, c), (c, b), (b, a)}\n",
    "english => {l, g, a, c, b}\n",
    "pianist => {c, b}\n",
    "plays => {(c, so), (c, e), (c, w), (b, w), (b, sc), (l, e), (l, p), (l, w)}\n",
    "admires => {(l, l), (l, c), (l, b), (g, l), (g, g), (g, a), (g, c), (g, b), (a, l), (a, a), (c, g), (c, b), (b, l), (b, g), (b, a), (b, c), (b, b)}\n",
    "knows => {(l, l), (l, g), (l, a), (l, c), (l, b), (g, l), (g, g), (g, b), (a, l), (a, a), (a, b), (c, g), (c, c), (c, b), (b, l), (b, g), (b, g), (b, a), (b, c), (b, b)}\n",
    "woman => {l, a, c}\n",
    "man => {g, b}\n",
    "wrote => {(a, so), (a, c), (a, w)}\n",
    "musician => {l, a, c, b}\n",
    "\"\"\"\n",
    "\n",
    "#Create the valuation\n",
    "val = Valuation.fromstring(assignments)\n",
    "model = Model(entities, val)\n",
    "\n",
    "# Define the assignment\n",
    "g = nltk.Assignment(entities)\n",
    "\n",
    "#Sentences from question 3\n",
    "for text, semrep in sentences1.items():\n",
    "    print(f\"{text}: {model.evaluate(str(semrep), g)}\")\n",
    "    display_latex(semrep)\n",
    "    display(Markdown('----'))\n",
    "#Sentences from question 4\n",
    "for text, semrep in sentences2.items():\n",
    "    print(f\"{text}: {model.evaluate(str(semrep), g)}\")\n",
    "    display_latex(semrep)\n",
    "    display(Markdown('----'))"
   ]
  },
  {
   "cell_type": "code",
   "execution_count": null,
   "metadata": {},
   "outputs": [],
   "source": []
  },
  {
   "cell_type": "code",
   "execution_count": null,
   "metadata": {},
   "outputs": [],
   "source": []
  },
  {
   "cell_type": "code",
   "execution_count": 67,
   "metadata": {},
   "outputs": [
    {
     "name": "stdout",
     "output_type": "stream",
     "text": [
      "Lydia likes George but Lydia doesn't like Alex: Undefined\n"
     ]
    },
    {
     "data": {
      "text/markdown": [
       "----"
      ],
      "text/plain": [
       "<IPython.core.display.Markdown object>"
      ]
     },
     "metadata": {},
     "output_type": "display_data"
    },
    {
     "name": "stdout",
     "output_type": "stream",
     "text": [
      "Lydia likes herself and so does George: Undefined\n"
     ]
    },
    {
     "data": {
      "text/markdown": [
       "----"
      ],
      "text/plain": [
       "<IPython.core.display.Markdown object>"
      ]
     },
     "metadata": {},
     "output_type": "display_data"
    },
    {
     "name": "stdout",
     "output_type": "stream",
     "text": [
      "Charlie is an English pianist who plays a sonata: Undefined\n"
     ]
    },
    {
     "data": {
      "text/markdown": [
       "----"
      ],
      "text/plain": [
       "<IPython.core.display.Markdown object>"
      ]
     },
     "metadata": {},
     "output_type": "display_data"
    },
    {
     "name": "stdout",
     "output_type": "stream",
     "text": [
      "Lydia and George admire each other: Undefined\n"
     ]
    },
    {
     "data": {
      "text/markdown": [
       "----"
      ],
      "text/plain": [
       "<IPython.core.display.Markdown object>"
      ]
     },
     "metadata": {},
     "output_type": "display_data"
    },
    {
     "name": "stdout",
     "output_type": "stream",
     "text": [
      "Charlie knows a woman who likes George: Undefined\n"
     ]
    },
    {
     "data": {
      "text/markdown": [
       "----"
      ],
      "text/plain": [
       "<IPython.core.display.Markdown object>"
      ]
     },
     "metadata": {},
     "output_type": "display_data"
    },
    {
     "name": "stdout",
     "output_type": "stream",
     "text": [
      "George admires everybody and Lydia admires nobody: Undefined\n"
     ]
    },
    {
     "data": {
      "text/markdown": [
       "----"
      ],
      "text/plain": [
       "<IPython.core.display.Markdown object>"
      ]
     },
     "metadata": {},
     "output_type": "display_data"
    },
    {
     "name": "stdout",
     "output_type": "stream",
     "text": [
      "Nobody admires everybody: True\n"
     ]
    },
    {
     "data": {
      "text/markdown": [
       "----"
      ],
      "text/plain": [
       "<IPython.core.display.Markdown object>"
      ]
     },
     "metadata": {},
     "output_type": "display_data"
    },
    {
     "name": "stdout",
     "output_type": "stream",
     "text": [
      "Exactly one musician plays everything Alex wrote: Undefined\n"
     ]
    },
    {
     "data": {
      "text/markdown": [
       "----"
      ],
      "text/plain": [
       "<IPython.core.display.Markdown object>"
      ]
     },
     "metadata": {},
     "output_type": "display_data"
    }
   ],
   "source": [
    "import nltk\n",
    "from nltk.sem import Valuation, Model\n",
    "from nltk.sem.logic import Expression\n",
    "from IPython.display import display, Markdown\n",
    "\n",
    "# Define entities and assignments for the valuation\n",
    "entities = set(['b', 'a', 'g', 'p', 't', 'e', 'h', 'r', 'so', 'u', 'sc', 'l', 'w', 'c'])\n",
    "assignments = \"\"\"\n",
    "Lydia => l\n",
    "George => g\n",
    "Alex => a\n",
    "Charlie => c\n",
    "Bertie => b\n",
    "sonata => so\n",
    "etude => e\n",
    "waltz => w\n",
    "scherzo => sc\n",
    "likes => {(l, l),(l, g), (l, a), (l, c), (g, l), (g, b), (g,g), (a,a), (c, l), (c, g), (c, a), (c, c), (c, b), (b, a)}\n",
    "english => {l, g, a, c, b}\n",
    "pianist => {c, b}\n",
    "plays => {(c, so), (c, e), (c, w), (b, w), (b, sc), (l, e), (l, p), (l, w)}\n",
    "admires => {(l, l), (l, c), (l, b), (g, l), (g, g), (g, a), (g, c), (g, b), (a, l), (a, a), (c, g), (c, b), (b, l), (b, g), (b, a), (b, c), (b, b)}\n",
    "knows => {(l, l), (l, g), (l, a), (l, c), (l, b), (g, l), (g, g), (g, b), (a, l), (a, a), (a, b), (c, g), (c, c), (c, b), (b, l), (b, g), (b, g), (b, a), (b, c), (b, b)}\n",
    "woman => {l, a, c}\n",
    "man => {g, b}\n",
    "wrote => {(a, so), (a, c), (a, w)}\n",
    "musician => {l, a, c, b}\n",
    "\"\"\"\n",
    "\n",
    "# Create the valuation\n",
    "val = Valuation.fromstring(assignments)\n",
    "model = Model(entities, val)\n",
    "\n",
    "# Define the assignment\n",
    "g = nltk.Assignment(entities)\n",
    "\n",
    "# Sentences from question 3\n",
    "sentences1 = {\n",
    "    \"Lydia likes George but Lydia doesn't like Alex\": Expression.fromstring('(likes(l, g) & -likes(l, a))'),\n",
    "    \"Lydia likes herself and so does George\": Expression.fromstring('(likes(l, l) & likes(g, g))'),\n",
    "    \"Charlie is an English pianist who plays a sonata\": Expression.fromstring('(english(c) & pianist(c) & plays(c, so))'),\n",
    "    \"Lydia and George admire each other\": Expression.fromstring('(admires(l, g) & admires(g, l))'),\n",
    "    \"Charlie knows a woman who likes George\": Expression.fromstring('exists x.(woman(x) & knows(c, x) & likes(x, g))')\n",
    "}\n",
    "\n",
    "# Sentences from question 4\n",
    "sentences2 = {\n",
    "    \"George admires everybody and Lydia admires nobody\": Expression.fromstring('(all x.(admires(g, x)) & -exists y.admires(l, y))'),\n",
    "    \"Nobody admires everybody\": Expression.fromstring('-exists x.all y.admires(x, y)'),\n",
    "    \"Exactly one musician plays everything Alex wrote\": Expression.fromstring('exists x.(musician(x) & all y.(wrote(a, y) -> plays(x, y)) & all z.((musician(z) & -(z = x)) -> exists w.(wrote(a, w) & plays(z, w))))')\n",
    "}\n",
    "\n",
    "# Evaluate the sentences\n",
    "for text, semrep in sentences1.items():\n",
    "    try:\n",
    "        result = model.evaluate(str(semrep), g)\n",
    "        print(f\"{text}: {result}\")\n",
    "        display(Markdown('----'))\n",
    "    except Exception as e:\n",
    "        print(f\"{text}: Error - {e}\")\n",
    "        display(Markdown('----'))\n",
    "\n",
    "for text, semrep in sentences2.items():\n",
    "    try:\n",
    "        result = model.evaluate(str(semrep), g)\n",
    "        print(f\"{text}: {result}\")\n",
    "        display(Markdown('----'))\n",
    "    except Exception as e:\n",
    "        print(f\"{text}: Error - {e}\")\n",
    "        display(Markdown('----'))"
   ]
  },
  {
   "cell_type": "code",
   "execution_count": null,
   "metadata": {},
   "outputs": [],
   "source": []
  },
  {
   "cell_type": "code",
   "execution_count": 68,
   "metadata": {},
   "outputs": [
    {
     "name": "stdout",
     "output_type": "stream",
     "text": [
      "Sentence: Lydia likes George but Lydia doesn't like Alex\n",
      "Undefined\n"
     ]
    },
    {
     "data": {
      "text/markdown": [
       "$(likes(l,g)\\ \\land\\ -likes(l,a))$"
      ],
      "text/plain": [
       "<IPython.core.display.Markdown object>"
      ]
     },
     "metadata": {},
     "output_type": "display_data"
    },
    {
     "data": {
      "text/markdown": [
       "----"
      ],
      "text/plain": [
       "<IPython.core.display.Markdown object>"
      ]
     },
     "metadata": {},
     "output_type": "display_data"
    },
    {
     "name": "stdout",
     "output_type": "stream",
     "text": [
      "Sentence: Lydia likes herself and so does George\n",
      "Undefined\n"
     ]
    },
    {
     "data": {
      "text/markdown": [
       "$(likes(l,l)\\ \\land\\ likes(g,g))$"
      ],
      "text/plain": [
       "<IPython.core.display.Markdown object>"
      ]
     },
     "metadata": {},
     "output_type": "display_data"
    },
    {
     "data": {
      "text/markdown": [
       "----"
      ],
      "text/plain": [
       "<IPython.core.display.Markdown object>"
      ]
     },
     "metadata": {},
     "output_type": "display_data"
    },
    {
     "name": "stdout",
     "output_type": "stream",
     "text": [
      "Sentence: Charlie is an English pianist who plays a sonata\n",
      "Undefined\n"
     ]
    },
    {
     "data": {
      "text/markdown": [
       "$(english(c)\\ \\land\\ pianist(c)\\ \\land\\ plays(c,so))$"
      ],
      "text/plain": [
       "<IPython.core.display.Markdown object>"
      ]
     },
     "metadata": {},
     "output_type": "display_data"
    },
    {
     "data": {
      "text/markdown": [
       "----"
      ],
      "text/plain": [
       "<IPython.core.display.Markdown object>"
      ]
     },
     "metadata": {},
     "output_type": "display_data"
    },
    {
     "name": "stdout",
     "output_type": "stream",
     "text": [
      "Sentence: Lydia and George admire each other\n",
      "Undefined\n"
     ]
    },
    {
     "data": {
      "text/markdown": [
       "$(admires(l,g)\\ \\land\\ admires(g,l))$"
      ],
      "text/plain": [
       "<IPython.core.display.Markdown object>"
      ]
     },
     "metadata": {},
     "output_type": "display_data"
    },
    {
     "data": {
      "text/markdown": [
       "----"
      ],
      "text/plain": [
       "<IPython.core.display.Markdown object>"
      ]
     },
     "metadata": {},
     "output_type": "display_data"
    },
    {
     "name": "stdout",
     "output_type": "stream",
     "text": [
      "Sentence: Charlie knows a woman who likes George\n",
      "Undefined\n"
     ]
    },
    {
     "data": {
      "text/markdown": [
       "$\\exists\\ x.(woman(x)\\ \\land\\ knows(c,x)\\ \\land\\ likes(x,g))$"
      ],
      "text/plain": [
       "<IPython.core.display.Markdown object>"
      ]
     },
     "metadata": {},
     "output_type": "display_data"
    },
    {
     "data": {
      "text/markdown": [
       "----"
      ],
      "text/plain": [
       "<IPython.core.display.Markdown object>"
      ]
     },
     "metadata": {},
     "output_type": "display_data"
    },
    {
     "name": "stdout",
     "output_type": "stream",
     "text": [
      "Sentence: George admires everybody and Lydia admires nobody\n",
      "Undefined\n"
     ]
    },
    {
     "data": {
      "text/markdown": [
       "$(\\forall\\ x.admires(g,x)\\ \\land\\ -\\exists\\ y.admires(l,y))$"
      ],
      "text/plain": [
       "<IPython.core.display.Markdown object>"
      ]
     },
     "metadata": {},
     "output_type": "display_data"
    },
    {
     "data": {
      "text/markdown": [
       "----"
      ],
      "text/plain": [
       "<IPython.core.display.Markdown object>"
      ]
     },
     "metadata": {},
     "output_type": "display_data"
    },
    {
     "name": "stdout",
     "output_type": "stream",
     "text": [
      "Sentence: Nobody admires everybody\n",
      "True\n"
     ]
    },
    {
     "data": {
      "text/markdown": [
       "$-\\exists\\ x.\\forall\\ y.admires(x,y)$"
      ],
      "text/plain": [
       "<IPython.core.display.Markdown object>"
      ]
     },
     "metadata": {},
     "output_type": "display_data"
    },
    {
     "data": {
      "text/markdown": [
       "----"
      ],
      "text/plain": [
       "<IPython.core.display.Markdown object>"
      ]
     },
     "metadata": {},
     "output_type": "display_data"
    },
    {
     "name": "stdout",
     "output_type": "stream",
     "text": [
      "Sentence: Exactly one musician plays everything Alex wrote\n",
      "Undefined\n"
     ]
    },
    {
     "data": {
      "text/markdown": [
       "$\\exists\\ x.(musician(x)\\ \\land\\ \\forall\\ y.(wrote(a,y)\\ \\rightarrow\\ plays(x,y))\\ \\land\\ \\forall\\ z.((musician(z)\\ \\land\\ -(z\\ =\\ x))\\ \\rightarrow\\ \\exists\\ w.(wrote(a,w)\\ \\land\\ plays(z,w))))$"
      ],
      "text/plain": [
       "<IPython.core.display.Markdown object>"
      ]
     },
     "metadata": {},
     "output_type": "display_data"
    },
    {
     "data": {
      "text/markdown": [
       "----"
      ],
      "text/plain": [
       "<IPython.core.display.Markdown object>"
      ]
     },
     "metadata": {},
     "output_type": "display_data"
    }
   ],
   "source": [
    "from nltk.sem import Valuation, Model, Assignment\n",
    "import nltk\n",
    "from nltk.sem.logic import *\n",
    "\n",
    "# Entities in the world\n",
    "entities = set(['l', 'g', 'a', 'c', 'b', 'so', 'e', 'p', 'w', 'sc'])\n",
    "\n",
    "# Assignments of predicates and constants in the world\n",
    "assign = \"\"\"\n",
    "Lydia => l\n",
    "George => g\n",
    "Alex => a\n",
    "Charlie => c\n",
    "Bertie => b\n",
    "sonata => so\n",
    "etude => e\n",
    "prelude => p\n",
    "waltz => w\n",
    "scherzo => sc\n",
    "\n",
    "likes => {(l, g), (l, l), (g, l), (g, b), (a, a), (c, l), (c, g), (c, a), (c, c), (c, b), (b, a)}\n",
    "english => {l, g, a, c, b}\n",
    "pianist => {c, b}\n",
    "plays => {(c, so), (c, e), (c, w), (b, w), (b, sc), (l, e), (l, p), (l, w)}\n",
    "admires => {(l, l), (l, c), (l, b), (g, l), (g, g), (g, a), (g, c), (g, b), (a, l), (a, a), (a, b), (c, g), (c, b), (b, l), (b, g), (b, a), (b, c), (b, b)}\n",
    "knows => {(l, l), (l, g), (l, a), (l, c), (l, b), (g, l), (g, g), (g, b), (a, l), (a, a), (a, b), (c, g), (c, c), (c, b), (b, l), (b, g), (b, a), (b, c), (b, b)}\n",
    "woman => {l, a, c}\n",
    "man => {g, b}\n",
    "wrote => {(a, so), (a, e), (a, w)}\n",
    "musician => {l, a, c, b}\n",
    "\"\"\"\n",
    "\n",
    "# Create the valuation from the string\n",
    "val2 = Valuation.fromstring(assign)\n",
    "\n",
    "# Create an assignment and model\n",
    "g2 = Assignment(entities)\n",
    "m2 = Model(entities, val2)\n",
    "\n",
    "# Sentences from question 3\n",
    "for text, semrep in sentences1.items():\n",
    "    print(f\"Sentence: {text}\")\n",
    "    print(m2.evaluate(str(semrep), g2))\n",
    "    display_latex(semrep)\n",
    "    display(Markdown('----'))\n",
    "\n",
    "# Sentences from question 4\n",
    "for text, semrep in sentences2.items():\n",
    "    print(f\"Sentence: {text}\")\n",
    "    print(m2.evaluate(str(semrep), g2))\n",
    "    display_latex(semrep)\n",
    "    display(Markdown('----'))"
   ]
  },
  {
   "cell_type": "markdown",
   "metadata": {},
   "source": [
    "Notes: The last expression\n",
    "* 'exists m' and 'forall s' are used as quantifiers.\n",
    "* 'M(m)' represents the condition that the entity denoted by 'm' is a musician.\n",
    "* 'W(Alex, s)' represents the condition that Alex wrote the piece denotaed by 's'.\n",
    "* 'P(m, s)' represents the condition the musician denoted by 'm' plays the piece  denoted by 's'"
   ]
  },
  {
   "cell_type": "markdown",
   "metadata": {},
   "source": [
    "# 5 New 19.09.2024"
   ]
  },
  {
   "cell_type": "code",
   "execution_count": null,
   "metadata": {},
   "outputs": [],
   "source": [
    "\n",
    " = nltk.Valuation.fromstring(assignments)\n",
    "\n",
    "g2 = nltk.Assignment(entities)\n",
    "m2 = nltk.Model(entities, val2)\n",
    "\n",
    "# sentences from question 3\n",
    "for text, semrep in sentences1.items():\n",
    "    print(m2.evaluate(str(val2semrep), g2))\n",
    "    display_latex(semrep)\n",
    "    display(Markdown('----'))\n",
    "\n",
    "# sentences from question 4\n",
    "for text, semrep in sentences2.items():\n",
    "    print(m2.evaluate(str(semrep), g2))\n",
    "    display_latex(semrep)\n",
    "    display(Markdown('----'))"
   ]
  },
  {
   "cell_type": "code",
   "execution_count": null,
   "metadata": {},
   "outputs": [],
   "source": [
    "from nltk.sem import Valuation, Model\n",
    "from nltk.sem.logic import *"
   ]
  },
  {
   "cell_type": "code",
   "execution_count": null,
   "metadata": {},
   "outputs": [],
   "source": [
    "entities = set(['b', 'a', 'g', 'p','t','e','h','r','so','u', 'sc', 'l','w','c'])\n",
    "assignments = \"\"\"\n",
    "Lydia => l\n",
    "George => g\n",
    "Alex => a\n",
    "Charlie => c\n",
    "Bertie => b\n",
    "sonata => so\n",
    "etude => e\n",
    "waltz => w\n",
    "scherzo => sc\n",
    "likes => {(l, l),(l, g), (l, a), (l, c), (g, l), (g, b), (g,g), (a,a), (c, l), (c, g), (c, a), (c, c), (c, b), (b, a)}\n",
    "english => {l, g, a, c, b}\n",
    "pianist => {c, b}\n",
    "plays => {(c, so), (c, e), (c, w), (b, w), (b, sc), (l, e), (l, p), (l, w)}\n",
    "admires => {(l, l), (l, c), (l, b), (g, l), (g, g), (g, a), (g, c), (g, b), (a, l), (a, a), (c, g), (c, b), (b, l), (b, g), (b, a), (b, c), (b, b)}\n",
    "knows => {(l, l), (l, g), (l, a), (l, c), (l, b), (g, l), (g, g), (g, b), (a, l), (a, a), (a, b), (c, g), (c, c), (c, b), (b, l), (b, g), (b, g), (b, a), (b, c), (b, b)}\n",
    "woman => {l, a, c}\n",
    "man => {g, b}\n",
    "wrote => {(a, so), (a, c), (a, w)}\n",
    "musician => {l, a, c, b}\n",
    "\"\"\"\n",
    "\n",
    "#Create the valuation\n",
    "val = Valuation.fromstring(assignments)\n",
    "model = Model(entities, val)\n",
    "\n",
    "# Define the assignment\n",
    "g = nltk.Assignment(entities)\n",
    "\n",
    "#Sentences from question 3\n",
    "for text, semrep in sentences1.items():\n",
    "    print(f\"{text}: {model.evaluate(str(semrep), g)}\")\n",
    "    display_latex(semrep)\n",
    "    display(Markdown('----'))\n",
    "#Sentences from question 4\n",
    "for text, semrep in sentences2.items():\n",
    "    print(f\"{text}: {model.evaluate(str(semrep), g)}\")\n",
    "    display_latex(semrep)\n",
    "    display(Markdown('----'))"
   ]
  },
  {
   "cell_type": "markdown",
   "metadata": {},
   "source": [
    "*Comments on the answers:*"
   ]
  },
  {
   "cell_type": "markdown",
   "metadata": {},
   "source": [
    "## Lambda calculus"
   ]
  },
  {
   "cell_type": "code",
   "execution_count": null,
   "metadata": {},
   "outputs": [],
   "source": [
    "from nltk.grammar import FeatureGrammar"
   ]
  },
  {
   "cell_type": "markdown",
   "metadata": {},
   "source": [
    "### 6. Function application and $\\beta$-reduction\n",
    "In the following examples some code has been deleted and replaced with `<????>`. What has been deleted? Verify that your answer is correct. **[4 marks]**"
   ]
  },
  {
   "cell_type": "code",
   "execution_count": 83,
   "metadata": {},
   "outputs": [
    {
     "data": {
      "text/markdown": [
       "$like(pip,rob)$"
      ],
      "text/plain": [
       "<IPython.core.display.Markdown object>"
      ]
     },
     "metadata": {},
     "output_type": "display_data"
    },
    {
     "data": {
      "text/markdown": [
       "$play(pip,scherzo)$"
      ],
      "text/plain": [
       "<IPython.core.display.Markdown object>"
      ]
     },
     "metadata": {},
     "output_type": "display_data"
    },
    {
     "data": {
      "text/markdown": [
       "$\\exists\\ x.(woman(x)\\ \\land\\ play(x,etude))$"
      ],
      "text/plain": [
       "<IPython.core.display.Markdown object>"
      ]
     },
     "metadata": {},
     "output_type": "display_data"
    },
    {
     "data": {
      "text/markdown": [
       "$\\lambda\\ x.\\forall\\ z_{2}.(\\forall\\ x.(musician(x)\\ \\rightarrow\\ z_{2}(x))\\ \\rightarrow\\ like(x,z_{2}))$"
      ],
      "text/plain": [
       "<IPython.core.display.Markdown object>"
      ]
     },
     "metadata": {},
     "output_type": "display_data"
    }
   ],
   "source": [
    "from nltk.sem import Expression\n",
    "read_expr = Expression.fromstring\n",
    "\n",
    "e1 = read_expr(r'\\x.like(x, rob)')\n",
    "e2 = read_expr(r'pip')\n",
    "e3 = nltk.sem.ApplicationExpression(e1, e2)\n",
    "display_latex(e3.simplify())\n",
    "# with result like(pip, rob)\n",
    "\n",
    "e1 = read_expr(r'\\x.play(x, scherzo)')\n",
    "e2 = read_expr(r'pip')\n",
    "e3 = nltk.sem.ApplicationExpression(e1, e2)\n",
    "display_latex(e3.simplify())\n",
    "# with result play(pip, scherzo)\n",
    "\n",
    "e1 = read_expr(r'\\x.exists x.(woman(x) & play(x, etude))')\n",
    "e2 = read_expr(r'\\x.exists x.(woman(x) & play(x, etude))')\n",
    "e3 = nltk.sem.ApplicationExpression(e1, e2)\n",
    "display_latex(e3.simplify())\n",
    "# with result exists x.(woman(x) & play(x, etude))\n",
    "\n",
    "e1 = read_expr(r'\\R.\\x.all z2.(R(z2) -> like(x, z2))')\n",
    "e2 = read_expr(r'\\P.all x.(musician(x) -> P(x))')\n",
    "e3 = nltk.sem.ApplicationExpression(e1, e2)\n",
    "display_latex(e3.simplify())\n",
    "# with result \\x.all z2.(musician(z2) -> like(x, z2))"
   ]
  },
  {
   "cell_type": "code",
   "execution_count": null,
   "metadata": {},
   "outputs": [],
   "source": []
  },
  {
   "cell_type": "code",
   "execution_count": 84,
   "metadata": {},
   "outputs": [
    {
     "data": {
      "text/markdown": [
       "$like(pip,rob)$"
      ],
      "text/plain": [
       "<IPython.core.display.Markdown object>"
      ]
     },
     "metadata": {},
     "output_type": "display_data"
    },
    {
     "data": {
      "text/markdown": [
       "$play(pip,scherzo)$"
      ],
      "text/plain": [
       "<IPython.core.display.Markdown object>"
      ]
     },
     "metadata": {},
     "output_type": "display_data"
    },
    {
     "data": {
      "text/markdown": [
       "$\\exists\\ x.(woman(x)\\ \\land\\ play(x,etude))$"
      ],
      "text/plain": [
       "<IPython.core.display.Markdown object>"
      ]
     },
     "metadata": {},
     "output_type": "display_data"
    },
    {
     "data": {
      "text/markdown": [
       "$\\lambda\\ x.\\forall\\ z_{2}.(\\forall\\ x.(musician(x)\\ \\rightarrow\\ z_{2}(x))\\ \\rightarrow\\ like(x,z_{2}))$"
      ],
      "text/plain": [
       "<IPython.core.display.Markdown object>"
      ]
     },
     "metadata": {},
     "output_type": "display_data"
    }
   ],
   "source": [
    "from nltk.sem import Expression\n",
    "read_expr = Expression.fromstring\n",
    "\n",
    "e1 = read_expr(r'\\x.like(x, rob)')\n",
    "e2 = read_expr(r'pip')\n",
    "e3 = nltk.sem.ApplicationExpression(e1, e2)\n",
    "display_latex(e3.simplify())\n",
    "# Result: like(pip, rob)\n",
    "\n",
    "e1 = read_expr(r'\\x.play(x, scherzo)')\n",
    "e2 = read_expr(r'pip')\n",
    "e3 = nltk.sem.ApplicationExpression(e1, e2)\n",
    "display_latex(e3.simplify())\n",
    "# Result: play(pip, scherzo) \n",
    "\n",
    "\n",
    "e1 = read_expr(r'\\P.exists x.(woman(x) & play(x, etude))')\n",
    "e2 = read_expr(r'\\x.exists x.(woman(x) & play(x, etude))')\n",
    "e3 = nltk.sem.ApplicationExpression(e1, e2)\n",
    "display_latex(e3.simplify())\n",
    "# Result: exists x.(woman(x) & play(x, etude))\n",
    "\n"
   ]
  },
  {
   "cell_type": "code",
   "execution_count": null,
   "metadata": {},
   "outputs": [],
   "source": []
  },
  {
   "cell_type": "code",
   "execution_count": 76,
   "metadata": {},
   "outputs": [
    {
     "data": {
      "text/markdown": [
       "$like(pip,rob)$"
      ],
      "text/plain": [
       "<IPython.core.display.Markdown object>"
      ]
     },
     "metadata": {},
     "output_type": "display_data"
    },
    {
     "data": {
      "text/markdown": [
       "$like(pip,rob)$"
      ],
      "text/plain": [
       "<IPython.core.display.Markdown object>"
      ]
     },
     "metadata": {},
     "output_type": "display_data"
    },
    {
     "data": {
      "text/markdown": [
       "$pip(\\lambda\\ x.play(x,scherzo))$"
      ],
      "text/plain": [
       "<IPython.core.display.Markdown object>"
      ]
     },
     "metadata": {},
     "output_type": "display_data"
    },
    {
     "data": {
      "text/markdown": [
       "$play(pip,scherzo)$"
      ],
      "text/plain": [
       "<IPython.core.display.Markdown object>"
      ]
     },
     "metadata": {},
     "output_type": "display_data"
    },
    {
     "data": {
      "text/markdown": [
       "$\\exists\\ x.(woman(x)\\ \\land\\ play(x,etude))$"
      ],
      "text/plain": [
       "<IPython.core.display.Markdown object>"
      ]
     },
     "metadata": {},
     "output_type": "display_data"
    },
    {
     "data": {
      "text/markdown": [
       "$\\exists\\ x.(woman(x)\\ \\land\\ play(x,etude))$"
      ],
      "text/plain": [
       "<IPython.core.display.Markdown object>"
      ]
     },
     "metadata": {},
     "output_type": "display_data"
    },
    {
     "data": {
      "text/markdown": [
       "$\\lambda\\ x.\\forall\\ z_{2}.(\\forall\\ x.(musician(x)\\ \\rightarrow\\ z_{2}(x))\\ \\rightarrow\\ like(x,z_{2}))$"
      ],
      "text/plain": [
       "<IPython.core.display.Markdown object>"
      ]
     },
     "metadata": {},
     "output_type": "display_data"
    },
    {
     "data": {
      "text/markdown": [
       "$\\lambda\\ x.\\forall\\ z_{2}.(musician(z_{2})\\ \\rightarrow\\ like(x,z_{2}))$"
      ],
      "text/plain": [
       "<IPython.core.display.Markdown object>"
      ]
     },
     "metadata": {},
     "output_type": "display_data"
    }
   ],
   "source": [
    "from nltk.sem import Expression\n",
    "read_expr = Expression.fromstring\n",
    "\n",
    "# Example 1\n",
    "e1 = read_expr(r'\\x.like(x, rob)')\n",
    "e2 = read_expr(r'pip')\n",
    "e3 = nltk.sem.ApplicationExpression(e1, e2) \n",
    "display_latex(e3.simplify())\n",
    "# with result like(pip, rob).\n",
    "display_latex(read_expr(r\"like(pip,rob)\"))\n",
    "\n",
    "# Example 2\n",
    "e1 = read_expr(r'pip')\n",
    "e2 = read_expr(r'\\x.play(x, scherzo)')\n",
    "e3 = nltk.sem.ApplicationExpression(e1, e2)\n",
    "display_latex(e3.simplify())\n",
    "# with result play(pip, scherzo).\n",
    "display_latex(read_expr(r\"play(pip,scherzo)\"))\n",
    "\n",
    "# Example 3\n",
    "e1 = read_expr(r'\\P.exists x.(woman(x) & P(x))')\n",
    "e2 = read_expr(r'\\x.play(x, etude)')\n",
    "e3 = nltk.sem.ApplicationExpression(e1, e2) \n",
    "display_latex(e3.simplify())\n",
    "# with result exists x.(woman(x) & play(x, etude)).\n",
    "display_latex(read_expr(r\"exists x.(woman(x) & play(x,etude))\"))\n",
    "\n",
    "# Example 4\n",
    "e1 = read_expr(r'\\R.\\x.all z2.(R(z2) -> like(x, z2))')\n",
    "e2 = read_expr(r'\\P.all x. (musician(x) -> P(x))')\n",
    "e3 = nltk.sem.ApplicationExpression(e1, e2) \n",
    "display_latex(e3.simplify())\n",
    "# with result \\x.all z2.(musician(z2) -> like(x, z2)).\n",
    "display_latex(read_expr(r\"\\x.all z2.(musician(z2) -> like(x,z2))\"))"
   ]
  },
  {
   "cell_type": "code",
   "execution_count": null,
   "metadata": {},
   "outputs": [],
   "source": []
  },
  {
   "cell_type": "markdown",
   "metadata": {},
   "source": []
  },
  {
   "cell_type": "code",
   "execution_count": 85,
   "metadata": {},
   "outputs": [
    {
     "data": {
      "text/markdown": [
       "$like(pip,rob)$"
      ],
      "text/plain": [
       "<IPython.core.display.Markdown object>"
      ]
     },
     "metadata": {},
     "output_type": "display_data"
    },
    {
     "data": {
      "text/markdown": [
       "$like(pip,rob)$"
      ],
      "text/plain": [
       "<IPython.core.display.Markdown object>"
      ]
     },
     "metadata": {},
     "output_type": "display_data"
    },
    {
     "data": {
      "text/markdown": [
       "$pip(\\lambda\\ x.play(x,scherzo))$"
      ],
      "text/plain": [
       "<IPython.core.display.Markdown object>"
      ]
     },
     "metadata": {},
     "output_type": "display_data"
    },
    {
     "data": {
      "text/markdown": [
       "$play(pip,scherzo)$"
      ],
      "text/plain": [
       "<IPython.core.display.Markdown object>"
      ]
     },
     "metadata": {},
     "output_type": "display_data"
    },
    {
     "data": {
      "text/markdown": [
       "$\\exists\\ x.(woman(x)\\ \\land\\ play(x,etude))$"
      ],
      "text/plain": [
       "<IPython.core.display.Markdown object>"
      ]
     },
     "metadata": {},
     "output_type": "display_data"
    },
    {
     "data": {
      "text/markdown": [
       "$\\exists\\ x.(woman(x)\\ \\land\\ play(x,etude))$"
      ],
      "text/plain": [
       "<IPython.core.display.Markdown object>"
      ]
     },
     "metadata": {},
     "output_type": "display_data"
    },
    {
     "data": {
      "text/markdown": [
       "$\\lambda\\ x.\\forall\\ z_{2}.(\\forall\\ x.(musician(x)\\ \\rightarrow\\ z_{2}(x))\\ \\rightarrow\\ like(x,z_{2}))$"
      ],
      "text/plain": [
       "<IPython.core.display.Markdown object>"
      ]
     },
     "metadata": {},
     "output_type": "display_data"
    },
    {
     "data": {
      "text/markdown": [
       "$\\lambda\\ x.\\forall\\ z_{2}.(musician(z_{2})\\ \\rightarrow\\ like(x,z_{2}))$"
      ],
      "text/plain": [
       "<IPython.core.display.Markdown object>"
      ]
     },
     "metadata": {},
     "output_type": "display_data"
    }
   ],
   "source": [
    "from nltk.sem import Expression\n",
    "read_expr = Expression.fromstring\n",
    "\n",
    "# Example 1\n",
    "e1 = read_expr(r'\\x.like(x, rob)')\n",
    "e2 = read_expr(r'pip')\n",
    "e3 = nltk.sem.ApplicationExpression(e1, e2) \n",
    "display_latex(e3.simplify())\n",
    "# Result: like(pip, rob)\n",
    "display_latex(read_expr(r\"like(pip,rob)\"))\n",
    "\n",
    "# Example 2\n",
    "e1 = read_expr(r'pip')\n",
    "e2 = read_expr(r'\\x.play(x, scherzo)')\n",
    "e3 = nltk.sem.ApplicationExpression(e1, e2)\n",
    "display_latex(e3.simplify())\n",
    "# Result: play(pip, scherzo)\n",
    "display_latex(read_expr(r\"play(pip,scherzo)\"))\n",
    "\n",
    "# Example 3\n",
    "e1 = read_expr(r'\\P.exists x.(woman(x) & P(x))')\n",
    "e2 = read_expr(r'\\x.play(x, etude)')\n",
    "e3 = nltk.sem.ApplicationExpression(e1, e2) \n",
    "display_latex(e3.simplify())\n",
    "# Result: exists x.(woman(x) & play(x, etude))\n",
    "display_latex(read_expr(r\"exists x.(woman(x) & play(x,etude))\"))\n",
    "\n",
    "# Example 4\n",
    "e1 = read_expr(r'\\R.\\x.all z2.(R(z2) -> like(x, z2))')\n",
    "e2 = read_expr(r'\\P.all x. (musician(x) -> P(x))')\n",
    "e3 = nltk.sem.ApplicationExpression(e1, e2) \n",
    "display_latex(e3.simplify())\n",
    "# Result: \\x.all z2.(musician(z2) -> like(x, z2))\n",
    "display_latex(read_expr(r\"\\x.all z2.(musician(z2) -> like(x,z2))\"))"
   ]
  },
  {
   "cell_type": "markdown",
   "metadata": {},
   "source": [
    "# 6 New 19.09.2024"
   ]
  },
  {
   "cell_type": "code",
   "execution_count": null,
   "metadata": {},
   "outputs": [],
   "source": [
    "from nltk.grammar import FeatureGrammar"
   ]
  },
  {
   "cell_type": "code",
   "execution_count": null,
   "metadata": {},
   "outputs": [],
   "source": [
    "e1 = read_expr(r'\\x.like(x, rob)')\n",
    "e2 = read_expr(r'pip')\n",
    "e3 = nltk.sem.ApplicationExpression(e1,e2) \n",
    "display_latex(e3.simplify())\n",
    "# with result like(pip,rob).\n",
    "display_latex(read_expr(r\"like(pip,rob)\"))"
   ]
  },
  {
   "cell_type": "markdown",
   "metadata": {},
   "source": [
    "In the above solution, 'e1' is a lambda abstraction that represents a function that takes an argument 'x' and returns the result of applying the 'like' realation to 'x' and the constant 'rob'. 'e2' represents the constant 'pip'."
   ]
  },
  {
   "cell_type": "code",
   "execution_count": null,
   "metadata": {},
   "outputs": [],
   "source": [
    "e1 = read_expr(r'pip')\n",
    "e2 = read_expr(r'\\x.play(x,scherzo)') \n",
    "e3 = nltk.sem.ApplicationExpression(e1,e2)\n",
    "display_latex(e3.simplify())\n",
    "# with result play(pip,scherzo).\n",
    "display_latex(read_expr(r\"play(pip,scherzo)\"))"
   ]
  },
  {
   "cell_type": "markdown",
   "metadata": {},
   "source": [
    "In the above solution, e1 represents the constant pip, and e2 is a lambda abstraction that represents a function that takes an argument x and returns the result applying the play relation to x and the constant scherzo."
   ]
  },
  {
   "cell_type": "code",
   "execution_count": null,
   "metadata": {},
   "outputs": [],
   "source": [
    "e1 = read_expr(r'exists x.(woman(x) & P(x))')\n",
    "e2 = read_expr(r'\\x.play(x,etude)') \n",
    "e3 = nltk.sem.ApplicationExpression(e1,e2) \n",
    "display_latex(e3.simplify())\n",
    "# with result exists x.(woman(x) & play(x,etude)).\n",
    "display_latex(read_expr(r\"exists x.(woman(x) & play(x,etude))\"))"
   ]
  },
  {
   "cell_type": "markdown",
   "metadata": {},
   "source": [
    "In the above solution, 'e1' represents existential quantification over a predicate 'P(x)', where 'P(x)' is assumed to be 'woman(x)', and 'e2' reprensents a lambda abstraction that represents a function that takes an argument 'x' and returns the result of applying the 'play' relation to 'x' and the constant 'etude'."
   ]
  },
  {
   "cell_type": "code",
   "execution_count": null,
   "metadata": {},
   "outputs": [],
   "source": [
    "e1 = read_expr(r'\\x.all z.(musician(z) -> like(x,z))')\n",
    "e2 = read_expr(r'\\P.all x. (musician(x) -> P(x))') \n",
    "e3 = nltk.sem.ApplicationExpression(e1,e2) \n",
    "display_latex(e3.simplify())\n",
    "# with result \\x.all z2.(musician(z2) -> like(x,z2)).\n",
    "display_latex(read_expr(r\"\\x.all z2.(musician(z2) -> like(x,z2))\"))"
   ]
  },
  {
   "cell_type": "markdown",
   "metadata": {},
   "source": [
    "In the above solution, 'e1' represents a lambda  abstraction that quantifies over all individuals 'z' and states that if 'z' is a musician, then 'x' likes 'z'. 'e2' reprensents a high-ordered function that takes a predicate 'P' and universally qantifies over all individuals 'x', stating that if 'x' is a musician, then 'P(x)' holds."
   ]
  },
  {
   "cell_type": "code",
   "execution_count": null,
   "metadata": {},
   "outputs": [],
   "source": []
  },
  {
   "cell_type": "markdown",
   "metadata": {},
   "source": [
    "### 7. Extending the grammar\n",
    "\n",
    "Extend the grammar simple_sem.fcfg that comes with NLTK `(~/nltk_data/grammars/book_grammars/)` so that it will cover the following sentences:\n",
    "\n",
    "- no man gives a bone to a dog **[4 marks]**\n",
    "- no man gives a bone to the dog **[4 marks]**\n",
    "- a boy and a girl chased every dog **[2 marks]**\n",
    "- every dog chased a boy and a girl **[2 marks]**\n",
    "- a brown cat chases a white dog **[4 marks]**\n",
    "\n",
    "The last example includes adjectives. Several different kinds of adjectives are discussed in the literature [(cf. Kennedy, 2012)](http://semantics.uchicago.edu/kennedy/docs/routledge.pdf). In this example we have an intersective adjective. The denotiation we want for \"brown cat\" is a a set that we get by intersecting the set of individuals that are brown and the set of individuals that are cats.\n",
    "\n",
    "C. Kennedy. Adjectives. In G. Russell, editor, The Routledge Companion to Philosophy of Language, chapter 3.3, pages 328–341. Routledge, 2012.\n",
    "\n",
    "The original grammar is included in the code below as a string."
   ]
  },
  {
   "cell_type": "code",
   "execution_count": null,
   "metadata": {},
   "outputs": [],
   "source": [
    "fcfg_string_orginal = r\"\"\"\n",
    "% start S\n",
    "############################\n",
    "# Grammar Rules\n",
    "#############################\n",
    "\n",
    "S[SEM = <?subj(?vp)>] -> NP[NUM=?n,SEM=?subj] VP[NUM=?n,SEM=?vp]\n",
    "\n",
    "NP[NUM=?n,SEM=<?det(?nom)> ] -> Det[NUM=?n,SEM=?det]  Nom[NUM=?n,SEM=?nom]\n",
    "NP[LOC=?l,NUM=?n,SEM=?np] -> PropN[LOC=?l,NUM=?n,SEM=?np]\n",
    "\n",
    "Nom[NUM=?n,SEM=?nom] -> N[NUM=?n,SEM=?nom]\n",
    "\n",
    "VP[NUM=?n,SEM=?v] -> IV[NUM=?n,SEM=?v]\n",
    "VP[NUM=?n,SEM=<?v(?obj)>] -> TV[NUM=?n,SEM=?v] NP[SEM=?obj]\n",
    "VP[NUM=?n,SEM=<?v(?obj,?pp)>] -> DTV[NUM=?n,SEM=?v] NP[SEM=?obj] PP[+TO,SEM=?pp]\n",
    "\n",
    "PP[+TO, SEM=?np] -> P[+TO] NP[SEM=?np]\n",
    "\n",
    "#############################\n",
    "# Lexical Rules\n",
    "#############################\n",
    "\n",
    "PropN[-LOC,NUM=sg,SEM=<\\P.P(angus)>] -> 'Angus'\n",
    "PropN[-LOC,NUM=sg,SEM=<\\P.P(cyril)>] -> 'Cyril'\n",
    "PropN[-LOC,NUM=sg,SEM=<\\P.P(irene)>] -> 'Irene'\n",
    " \n",
    "Det[NUM=sg,SEM=<\\P Q.all x.(P(x) -> Q(x))>] -> 'every'\n",
    "Det[NUM=pl,SEM=<\\P Q.all x.(P(x) -> Q(x))>] -> 'all'\n",
    "Det[SEM=<\\P Q.exists x.(P(x) & Q(x))>] -> 'some'\n",
    "Det[NUM=sg,SEM=<\\P Q.exists x.(P(x) & Q(x))>] -> 'a'\n",
    "Det[NUM=sg,SEM=<\\P Q.exists x.(P(x) & Q(x))>] -> 'an'\n",
    "\n",
    "N[NUM=sg,SEM=<\\x.man(x)>] -> 'man'\n",
    "N[NUM=sg,SEM=<\\x.girl(x)>] -> 'girl'\n",
    "N[NUM=sg,SEM=<\\x.boy(x)>] -> 'boy'\n",
    "N[NUM=sg,SEM=<\\x.bone(x)>] -> 'bone'\n",
    "N[NUM=sg,SEM=<\\x.ankle(x)>] -> 'ankle'\n",
    "N[NUM=sg,SEM=<\\x.dog(x)>] -> 'dog'\n",
    "N[NUM=pl,SEM=<\\x.dog(x)>] -> 'dogs'\n",
    "\n",
    "IV[NUM=sg,SEM=<\\x.bark(x)>,TNS=pres] -> 'barks'\n",
    "IV[NUM=pl,SEM=<\\x.bark(x)>,TNS=pres] -> 'bark'\n",
    "IV[NUM=sg,SEM=<\\x.walk(x)>,TNS=pres] -> 'walks'\n",
    "IV[NUM=pl,SEM=<\\x.walk(x)>,TNS=pres] -> 'walk'\n",
    "TV[NUM=sg,SEM=<\\X x.X(\\ y.chase(x,y))>,TNS=pres] -> 'chases'\n",
    "TV[NUM=pl,SEM=<\\X x.X(\\ y.chase(x,y))>,TNS=pres] -> 'chase'\n",
    "TV[NUM=sg,SEM=<\\X x.X(\\ y.see(x,y))>,TNS=pres] -> 'sees'\n",
    "TV[NUM=pl,SEM=<\\X x.X(\\ y.see(x,y))>,TNS=pres] -> 'see'\n",
    "TV[NUM=sg,SEM=<\\X x.X(\\ y.bite(x,y))>,TNS=pres] -> 'bites'\n",
    "TV[NUM=pl,SEM=<\\X x.X(\\ y.bite(x,y))>,TNS=pres] -> 'bite'\n",
    "DTV[NUM=sg,SEM=<\\Y X x.X(\\z.Y(\\y.give(x,y,z)))>,TNS=pres] -> 'gives'\n",
    "DTV[NUM=pl,SEM=<\\Y X x.X(\\z.Y(\\y.give(x,y,z)))>,TNS=pres] -> 'give'\n",
    "\n",
    "P[+to] -> 'to'\n",
    "\"\"\""
   ]
  },
  {
   "cell_type": "code",
   "execution_count": null,
   "metadata": {},
   "outputs": [],
   "source": []
  },
  {
   "cell_type": "code",
   "execution_count": 88,
   "metadata": {},
   "outputs": [],
   "source": [
    "fcfg_string_extended = r\"\"\"\n",
    "% start S\n",
    "############################\n",
    "# Grammar Rules\n",
    "#############################\n",
    "\n",
    "S[SEM = <?subj(?vp)>] -> NP[NUM=?n,SEM=?subj] VP[NUM=?n,SEM=?vp]\n",
    "\n",
    "NP[NUM=?n,SEM=<?det(?nom)> ] -> Det[NUM=?n,SEM=?det]  Nom[NUM=?n,SEM=?nom]\n",
    "NP[LOC=?l,NUM=?n,SEM=?np] -> PropN[LOC=?l,NUM=?n,SEM=?np]\n",
    "\n",
    "Nom[NUM=?n,SEM=<?adj(?n)>] -> Adj[SEM=?adj] Nom[NUM=?n,SEM=?n]\n",
    "Nom[NUM=?n,SEM=?nom] -> N[NUM=?n,SEM=?nom]\n",
    "\n",
    "VP[NUM=?n,SEM=?v] -> IV[NUM=?n,SEM=?v]\n",
    "VP[NUM=?n,SEM=<?v(?obj)>] -> TV[NUM=?n,SEM=?v] NP[SEM=?obj]\n",
    "VP[NUM=?n,SEM=<?v(?obj,?pp)>] -> DTV[NUM=?n,SEM=?v] NP[SEM=?obj] PP[+TO,SEM=?pp]\n",
    "\n",
    "PP[+TO, SEM=?np] -> P[+TO] NP[SEM=?np]\n",
    "\n",
    "#############################\n",
    "# Lexical Rules\n",
    "#############################\n",
    "\n",
    "PropN[-LOC,NUM=sg,SEM=<\\P.P(angus)>] -> 'Angus'\n",
    "PropN[-LOC,NUM=sg,SEM=<\\P.P(cyril)>] -> 'Cyril'\n",
    "PropN[-LOC,NUM=sg,SEM=<\\P.P(irene)>] -> 'Irene'\n",
    "\n",
    "Det[NUM=sg,SEM=<\\P Q.all x.(P(x) -> Q(x))>] -> 'every'\n",
    "Det[NUM=pl,SEM=<\\P Q.all x.(P(x) -> Q(x))>] -> 'all'\n",
    "Det[SEM=<\\P Q.exists x.(P(x) & Q(x))>] -> 'some'\n",
    "Det[NUM=sg,SEM=<\\P Q.exists x.(P(x) & Q(x))>] -> 'a'\n",
    "Det[NUM=sg,SEM=<\\P Q.exists x.(P(x) & Q(x))>] -> 'an'\n",
    "\n",
    "N[NUM=sg,SEM=<\\x.man(x)>] -> 'man'\n",
    "N[NUM=sg,SEM=<\\x.girl(x)>] -> 'girl'\n",
    "N[NUM=sg,SEM=<\\x.boy(x)>] -> 'boy'\n",
    "N[NUM=sg,SEM=<\\x.bone(x)>] -> 'bone'\n",
    "N[NUM=sg,SEM=<\\x.ankle(x)>] -> 'ankle'\n",
    "N[NUM=sg,SEM=<\\x.dog(x)>] -> 'dog'\n",
    "N[NUM=pl,SEM=<\\x.dog(x)>] -> 'dogs'\n",
    "\n",
    "IV[NUM=sg,SEM=<\\x.bark(x)>,TNS=pres] -> 'barks'\n",
    "IV[NUM=pl,SEM=<\\x.bark(x)>,TNS=pres] -> 'bark'\n",
    "IV[NUM=sg,SEM=<\\x.walk(x)>,TNS=pres] -> 'walks'\n",
    "IV[NUM=pl,SEM=<\\x.walk(x)>,TNS=pres] -> 'walk'\n",
    "TV[NUM=sg,SEM=<\\X x.X(\\ y.chase(x,y))>,TNS=pres] -> 'chases'\n",
    "TV[NUM=pl,SEM=<\\X x.X(\\ y.chase(x,y))>,TNS=pres] -> 'chase'\n",
    "TV[NUM=sg,SEM=<\\X x.X(\\ y.see(x,y))>,TNS=pres] -> 'sees'\n",
    "TV[NUM=pl,SEM=<\\X x.X(\\ y.see(x,y))>,TNS=pres] -> 'see'\n",
    "TV[NUM=sg,SEM=<\\X x.X(\\ y.bite(x,y))>,TNS=pres] -> 'bites'\n",
    "TV[NUM=pl,SEM=<\\X x.X(\\ y.bite(x,y))>,TNS=pres] -> 'bite'\n",
    "DTV[NUM=sg,SEM=<\\Y X x.X(\\z.Y(\\y.give(x,y,z)))>,TNS=pres] -> 'gives'\n",
    "DTV[NUM=pl,SEM=<\\Y X x.X(\\z.Y(\\y.give(x,y,z)))>,TNS=pres] -> 'give'\n",
    "\n",
    "P[+to] -> 'to'\n",
    "\n",
    "#############################\n",
    "# Adjective Rules\n",
    "#############################\n",
    "\n",
    "Adj[SEM=<\\P P1 x.P(x) & P1(x)>] -> 'brown'\n",
    "Adj[SEM=<\\P P1 x.P(x) & P1(x)>] -> 'white'\n",
    "\n",
    "\"\"\""
   ]
  },
  {
   "cell_type": "code",
   "execution_count": null,
   "metadata": {},
   "outputs": [],
   "source": []
  },
  {
   "cell_type": "code",
   "execution_count": 95,
   "metadata": {},
   "outputs": [],
   "source": [
    "# Corrected import for FeatureGrammar\n",
    "from nltk.grammar import FeatureGrammar\n",
    "\n",
    "# Original grammar string\n",
    "fcfg_string_orginal = r\"\"\"\n",
    "% start S\n",
    "############################\n",
    "# Grammar Rules\n",
    "#############################\n",
    "\n",
    "S[SEM = <?subj(?vp)>] -> NP[NUM=?n,SEM=?subj] VP[NUM=?n,SEM=?vp]\n",
    "\n",
    "NP[NUM=?n,SEM=<?det(?nom)> ] -> Det[NUM=?n,SEM=?det] Nom[NUM=?n,SEM=?nom]\n",
    "NP[LOC=?l,NUM=?n,SEM=?np] -> PropN[LOC=?l,NUM=?n,SEM=?np]\n",
    "\n",
    "Nom[NUM=?n,SEM=?nom] -> N[NUM=?n,SEM=?nom]\n",
    "\n",
    "VP[NUM=?n,SEM=?v] -> IV[NUM=?n,SEM=?v]\n",
    "VP[NUM=?n,SEM=<?v(?obj)>] -> TV[NUM=?n,SEM=?v] NP[SEM=?obj]\n",
    "VP[NUM=?n,SEM=<?v(?obj,?pp)>] -> DTV[NUM=?n,SEM=?v] NP[SEM=?obj] PP[+TO,SEM=?pp]\n",
    "\n",
    "PP[+TO, SEM=?np] -> P[+TO] NP[SEM=?np]\n",
    "\n",
    "#############################\n",
    "# Lexical Rules\n",
    "#############################\n",
    "\n",
    "PropN[-LOC,NUM=sg,SEM=<\\P.P(angus)>] -> 'Angus'\n",
    "PropN[-LOC,NUM=sg,SEM=<\\P.P(cyril)>] -> 'Cyril'\n",
    "PropN[-LOC,NUM=sg,SEM=<\\P.P(irene)>] -> 'Irene'\n",
    "\n",
    "Det[NUM=sg,SEM=<\\P Q.all x.(P(x) -> Q(x))>] -> 'every'\n",
    "Det[NUM=pl,SEM=<\\P Q.all x.(P(x) -> Q(x))>] -> 'all'\n",
    "Det[SEM=<\\P Q.exists x.(P(x) & Q(x))>] -> 'some'\n",
    "Det[NUM=sg,SEM=<\\P Q.exists x.(P(x) & Q(x))>] -> 'a'\n",
    "Det[NUM=sg,SEM=<\\P Q.exists x.(P(x) & Q(x))>] -> 'an'\n",
    "\n",
    "N[NUM=sg,SEM=<\\x.man(x)>] -> 'man'\n",
    "N[NUM=sg,SEM=<\\x.girl(x)>] -> 'girl'\n",
    "N[NUM=sg,SEM=<\\x.boy(x)>] -> 'boy'\n",
    "N[NUM=sg,SEM=<\\x.bone(x)>] -> 'bone'\n",
    "N[NUM=sg,SEM=<\\x.ankle(x)>] -> 'ankle'\n",
    "N[NUM=sg,SEM=<\\x.dog(x)>] -> 'dog'\n",
    "N[NUM=pl,SEM=<\\x.dog(x)>] -> 'dogs'\n",
    "\n",
    "IV[NUM=sg,SEM=<\\x.bark(x)>,TNS=pres] -> 'barks'\n",
    "IV[NUM=pl,SEM=<\\x.bark(x)>,TNS=pres] -> 'bark'\n",
    "IV[NUM=sg,SEM=<\\x.walk(x)>,TNS=pres] -> 'walks'\n",
    "IV[NUM=pl,SEM=<\\x.walk(x)>,TNS=pres] -> 'walk'\n",
    "TV[NUM=sg,SEM=<\\X x.X(\\ y.chase(x,y))>,TNS=pres] -> 'chases'\n",
    "TV[NUM=pl,SEM=<\\X x.X(\\ y.chase(x,y))>,TNS=pres] -> 'chase'\n",
    "TV[NUM=sg,SEM=<\\X x.X(\\ y.see(x,y))>,TNS=pres] -> 'sees'\n",
    "TV[NUM=pl,SEM=<\\X x.X(\\ y.see(x,y))>,TNS=pres] -> 'see'\n",
    "TV[NUM=sg,SEM=<\\X x.X(\\ y.bite(x,y))>,TNS=pres] -> 'bites'\n",
    "TV[NUM=pl,SEM=<\\X x.X(\\ y.bite(x,y))>,TNS=pres] -> 'bite'\n",
    "DTV[NUM=sg,SEM=<\\Y X x.X(\\z.Y(\\y.give(x,y,z)))>,TNS=pres] -> 'gives'\n",
    "DTV[NUM=pl,SEM=<\\Y X x.X(\\z.Y(\\y.give(x,y,z)))>,TNS=pres] -> 'give'\n",
    "\n",
    "P[+to] -> 'to'\n",
    "\"\"\"\n",
    "fcfg_string = fcfg_string_orginal + r\"\"\"\n",
    "#############################\n",
    "# Additional Rules\n",
    "#############################\n",
    "\n",
    "# Determiner for \"no\"\n",
    "Det[NUM=sg, SEM=<\\P Q.not exists x.(P(x) & Q(x))>] -> 'no'\n",
    "\n",
    "# Past tense transitive verbs\n",
    "TV[NUM=sg,SEM=<\\X x.X(\\y.chase(x,y))>,TNS=past] -> 'chased'\n",
    "TV[NUM=pl,SEM=<\\X x.X(\\y.chase(x,y))>,TNS=past] -> 'chased'\n",
    "\n",
    "# Conjunction for \"and\"\n",
    "CONJ -> 'and'\n",
    "\n",
    "# NP conjunction for \"a boy and a girl\"\n",
    "NP[NUM=pl,SEM=<\\P.exists x.exists y.(P(x) & P(y))>] -> NP[NUM=sg] CONJ NP[NUM=sg]\n",
    "\n",
    "# Adjectives\n",
    "ADJ[SEM=<\\x.brown(x)>] -> 'brown'\n",
    "ADJ[SEM=<\\x.white(x)>] -> 'white'\n",
    "\n",
    "# Nouns with adjectives\n",
    "NP[NUM=?n,SEM=<?det(?adj(?nom))>] -> Det[NUM=?n,SEM=?det] ADJ[SEM=?adj] Nom[NUM=?n,SEM=?nom]\n",
    "\"\"\"\n",
    "\n",
    "syntax = FeatureGrammar.fromstring(fcfg_string)"
   ]
  },
  {
   "cell_type": "code",
   "execution_count": null,
   "metadata": {},
   "outputs": [],
   "source": []
  },
  {
   "cell_type": "code",
   "execution_count": null,
   "metadata": {},
   "outputs": [],
   "source": []
  },
  {
   "cell_type": "markdown",
   "metadata": {},
   "source": [
    "Write your extension of this grammar here:"
   ]
  },
  {
   "cell_type": "code",
   "execution_count": null,
   "metadata": {},
   "outputs": [],
   "source": [
    "fcfg_string = fcfg_string_orginal + r\"\"\"\n",
    "## Your answers here\n",
    "# Det[???] -> ???\n",
    "# TV[???] -> ???\n",
    "# TV[???] -> ???\n",
    "# CONJ -> ???\n",
    "# NP[???] -> NP[???] CONJ NP[???]\n",
    "# N[???] -> ???\n",
    "# ADJ[???] -> ???\n",
    "# NP[???] -> Det[???] ADJ[???] Nom[???]\n",
    "\"\"\"\n",
    "\n",
    "# Load `fcfg_string` as a feature grammar:\n",
    "syntax = FeatureGrammar.fromstring(fcfg_string)"
   ]
  },
  {
   "cell_type": "code",
   "execution_count": null,
   "metadata": {},
   "outputs": [],
   "source": []
  },
  {
   "cell_type": "markdown",
   "metadata": {},
   "source": [
    "##Solusion "
   ]
  },
  {
   "cell_type": "code",
   "execution_count": null,
   "metadata": {},
   "outputs": [],
   "source": []
  },
  {
   "cell_type": "code",
   "execution_count": null,
   "metadata": {},
   "outputs": [],
   "source": []
  },
  {
   "cell_type": "markdown",
   "metadata": {},
   "source": [
    "Run the code below without errors:"
   ]
  },
  {
   "cell_type": "code",
   "execution_count": null,
   "metadata": {},
   "outputs": [],
   "source": []
  },
  {
   "cell_type": "code",
   "execution_count": null,
   "metadata": {},
   "outputs": [],
   "source": []
  },
  {
   "cell_type": "code",
   "execution_count": null,
   "metadata": {},
   "outputs": [],
   "source": []
  },
  {
   "cell_type": "code",
   "execution_count": null,
   "metadata": {},
   "outputs": [],
   "source": []
  },
  {
   "cell_type": "code",
   "execution_count": 133,
   "metadata": {},
   "outputs": [
    {
     "name": "stdout",
     "output_type": "stream",
     "text": [
      "Parsing sentence: 'no man gives a bone to a dog'\n",
      "                   S                          \n",
      "      _____________|_______                    \n",
      "     |                     VP                 \n",
      "     |         ____________|________           \n",
      "     |        |        |            PP        \n",
      "     |        |        |         ___|___       \n",
      "     NP       |        NP       |       NP    \n",
      "  ___|___     |     ___|___     |    ___|___   \n",
      " |      Nom   |    |      Nom   |   |      Nom\n",
      " |       |    |    |       |    |   |       |  \n",
      "Det      N   DTV  Det      N    P  Det      N \n",
      " |       |    |    |       |    |   |       |  \n",
      " no     man gives  a      bone  to  a      dog\n",
      "\n",
      "Parsing sentence: 'no man gives a bone to the dog'\n",
      "                   S                          \n",
      "      _____________|_______                    \n",
      "     |                     VP                 \n",
      "     |         ____________|________           \n",
      "     |        |        |            PP        \n",
      "     |        |        |         ___|___       \n",
      "     NP       |        NP       |       NP    \n",
      "  ___|___     |     ___|___     |    ___|___   \n",
      " |      Nom   |    |      Nom   |   |      Nom\n",
      " |       |    |    |       |    |   |       |  \n",
      "Det      N   DTV  Det      N    P  Det      N \n",
      " |       |    |    |       |    |   |       |  \n",
      " no     man gives  a      bone  to the     dog\n",
      "\n",
      "Parsing sentence: 'a boy and a girl chased every dog'\n",
      "                  S                               \n",
      "              ____|____________________            \n",
      "             NP                        VP         \n",
      "      _______|________           ______|____       \n",
      "     NP      |        NP        |           NP    \n",
      "  ___|___    |     ___|___      |       ____|___   \n",
      " |      Nom  |    |      Nom    |      |       Nom\n",
      " |       |   |    |       |     |      |        |  \n",
      "Det      N  CONJ Det      N     TV    Det       N \n",
      " |       |   |    |       |     |      |        |  \n",
      " a      boy and   a      girl chased every     dog\n",
      "\n",
      "Parsing sentence: 'every dog chased a boy and a girl'\n",
      "                      S                           \n",
      "        ______________|_______                     \n",
      "       |                      VP                  \n",
      "       |         _____________|___                 \n",
      "       |        |                 NP              \n",
      "       |        |          _______|________        \n",
      "       NP       |         NP      |        NP     \n",
      "   ____|___     |      ___|___    |     ___|___    \n",
      "  |       Nom   |     |      Nom  |    |      Nom \n",
      "  |        |    |     |       |   |    |       |   \n",
      " Det       N    TV   Det      N  CONJ Det      N  \n",
      "  |        |    |     |       |   |    |       |   \n",
      "every     dog chased  a      boy and   a      girl\n",
      "\n",
      "Parsing sentence: 'a brown cat chases a white dog'\n",
      "                S                     \n",
      "       _________|_________             \n",
      "      |                   VP          \n",
      "      |          _________|____        \n",
      "      NP        |              NP     \n",
      "  ____|____     |      ________|____   \n",
      " |    |   Nom   |     |        |   Nom\n",
      " |    |    |    |     |        |    |  \n",
      "Det  ADJ   N    TV   Det      ADJ   N \n",
      " |    |    |    |     |        |    |  \n",
      " a  brown cat chases  a      white dog\n",
      "\n"
     ]
    }
   ],
   "source": [
    "import nltk\n",
    "from nltk import CFG\n",
    "\n",
    "# Original CFG grammar\n",
    "cfg_string_original = r\"\"\"\n",
    "% start S\n",
    "############################\n",
    "# Grammar Rules\n",
    "#############################\n",
    "\n",
    "S -> NP VP\n",
    "\n",
    "NP -> Det Nom\n",
    "NP -> Det ADJ Nom\n",
    "NP -> NP CONJ NP\n",
    "\n",
    "Nom -> N\n",
    "\n",
    "VP -> IV\n",
    "VP -> TV NP\n",
    "VP -> DTV NP PP\n",
    "\n",
    "PP -> P NP\n",
    "\n",
    "#############################\n",
    "# Lexical Rules\n",
    "#############################\n",
    "\n",
    "Det -> 'a'\n",
    "Det -> 'an'\n",
    "Det -> 'every'\n",
    "Det -> 'no'\n",
    "Det -> 'some'\n",
    "Det -> 'the'\n",
    "\n",
    "N -> 'man'\n",
    "N -> 'woman'\n",
    "N -> 'boy'\n",
    "N -> 'girl'\n",
    "N -> 'dog'\n",
    "N -> 'cat'\n",
    "N -> 'bone'\n",
    "\n",
    "IV -> 'barks'\n",
    "IV -> 'walks'\n",
    "\n",
    "TV -> 'chases'\n",
    "TV -> 'sees'\n",
    "TV -> 'chased'\n",
    "\n",
    "DTV -> 'gives'\n",
    "\n",
    "P -> 'to'\n",
    "P -> 'in'\n",
    "\n",
    "CONJ -> 'and'\n",
    "\n",
    "ADJ -> 'brown'\n",
    "ADJ -> 'white'\n",
    "\"\"\"\n",
    "# Load CFG\n",
    "grammar = CFG.fromstring(cfg_string_original)\n",
    "\n",
    "# Initialize parser\n",
    "parser = nltk.ChartParser(grammar)\n",
    "\n",
    "# Test sentences\n",
    "sentences = [\n",
    "    'no man gives a bone to a dog',\n",
    "    'no man gives a bone to the dog',\n",
    "    'a boy and a girl chased every dog',\n",
    "    'every dog chased a boy and a girl',\n",
    "    'a brown cat chases a white dog',\n",
    "]\n",
    "\n",
    "# Parse sentences\n",
    "for sentence in sentences:\n",
    "    print(f\"Parsing sentence: '{sentence}'\")\n",
    "    tokens = sentence.split()\n",
    "    try:\n",
    "        for tree in parser.parse(tokens):\n",
    "            tree.pretty_print()  # Print the parse tree\n",
    "            # Optionally visualize the tree if graphical support is available\n",
    "            # draw_trees(tree)  # Uncomment to visualize the tree\n",
    "    except ValueError as e:\n",
    "        print(f\"Error parsing sentence '{sentence}': {e}\")\n"
   ]
  },
  {
   "cell_type": "code",
   "execution_count": null,
   "metadata": {},
   "outputs": [],
   "source": []
  },
  {
   "cell_type": "code",
   "execution_count": 135,
   "metadata": {},
   "outputs": [
    {
     "name": "stdout",
     "output_type": "stream",
     "text": [
      "Parsing sentence: 'no man gives a bone to a dog'\n",
      "                   S                          \n",
      "      _____________|_______                    \n",
      "     |                     VP                 \n",
      "     |         ____________|________           \n",
      "     |        |        |            PP        \n",
      "     |        |        |         ___|___       \n",
      "     NP       |        NP       |       NP    \n",
      "  ___|___     |     ___|___     |    ___|___   \n",
      " |      Nom   |    |      Nom   |   |      Nom\n",
      " |       |    |    |       |    |   |       |  \n",
      "Det      N   DTV  Det      N    P  Det      N \n",
      " |       |    |    |       |    |   |       |  \n",
      " no     man gives  a      bone  to  a      dog\n",
      "\n",
      "Parsing sentence: 'no man gives a bone to the dog'\n",
      "                   S                          \n",
      "      _____________|_______                    \n",
      "     |                     VP                 \n",
      "     |         ____________|________           \n",
      "     |        |        |            PP        \n",
      "     |        |        |         ___|___       \n",
      "     NP       |        NP       |       NP    \n",
      "  ___|___     |     ___|___     |    ___|___   \n",
      " |      Nom   |    |      Nom   |   |      Nom\n",
      " |       |    |    |       |    |   |       |  \n",
      "Det      N   DTV  Det      N    P  Det      N \n",
      " |       |    |    |       |    |   |       |  \n",
      " no     man gives  a      bone  to the     dog\n",
      "\n",
      "Parsing sentence: 'a boy and a girl chased every dog'\n",
      "                  S                               \n",
      "              ____|____________________            \n",
      "             NP                        VP         \n",
      "      _______|________           ______|____       \n",
      "     NP      |        NP        |           NP    \n",
      "  ___|___    |     ___|___      |       ____|___   \n",
      " |      Nom  |    |      Nom    |      |       Nom\n",
      " |       |   |    |       |     |      |        |  \n",
      "Det      N  CONJ Det      N     TV    Det       N \n",
      " |       |   |    |       |     |      |        |  \n",
      " a      boy and   a      girl chased every     dog\n",
      "\n",
      "Parsing sentence: 'every dog chased a boy and a girl'\n",
      "                      S                           \n",
      "        ______________|_______                     \n",
      "       |                      VP                  \n",
      "       |         _____________|___                 \n",
      "       |        |                 NP              \n",
      "       |        |          _______|________        \n",
      "       NP       |         NP      |        NP     \n",
      "   ____|___     |      ___|___    |     ___|___    \n",
      "  |       Nom   |     |      Nom  |    |      Nom \n",
      "  |        |    |     |       |   |    |       |   \n",
      " Det       N    TV   Det      N  CONJ Det      N  \n",
      "  |        |    |     |       |   |    |       |   \n",
      "every     dog chased  a      boy and   a      girl\n",
      "\n",
      "Parsing sentence: 'a brown cat chases a white dog'\n",
      "                S                     \n",
      "       _________|_________             \n",
      "      |                   VP          \n",
      "      |          _________|____        \n",
      "      NP        |              NP     \n",
      "  ____|____     |      ________|____   \n",
      " |    |   Nom   |     |        |   Nom\n",
      " |    |    |    |     |        |    |  \n",
      "Det  ADJ   N    TV   Det      ADJ   N \n",
      " |    |    |    |     |        |    |  \n",
      " a  brown cat chases  a      white dog\n",
      "\n"
     ]
    }
   ],
   "source": [
    "import nltk\n",
    "from nltk import CFG\n",
    "\n",
    "# Original CFG grammar\n",
    "cfg_string_original = r\"\"\"\n",
    "% start S\n",
    "############################\n",
    "# Grammar Rules\n",
    "#############################\n",
    "\n",
    "S -> NP VP\n",
    "\n",
    "NP -> Det Nom\n",
    "NP -> Det ADJ Nom\n",
    "NP -> NP CONJ NP\n",
    "\n",
    "Nom -> N\n",
    "\n",
    "VP -> IV\n",
    "VP -> TV NP\n",
    "VP -> DTV NP PP\n",
    "\n",
    "PP -> P NP\n",
    "\n",
    "#############################\n",
    "# Lexical Rules\n",
    "#############################\n",
    "\n",
    "Det -> 'a'\n",
    "Det -> 'an'\n",
    "Det -> 'every'\n",
    "Det -> 'no'\n",
    "Det -> 'some'\n",
    "Det -> 'the'\n",
    "\n",
    "N -> 'man'\n",
    "N -> 'woman'\n",
    "N -> 'boy'\n",
    "N -> 'girl'\n",
    "N -> 'dog'\n",
    "N -> 'cat'\n",
    "N -> 'bone'\n",
    "\n",
    "IV -> 'barks'\n",
    "IV -> 'walks'\n",
    "\n",
    "TV -> 'chases'\n",
    "TV -> 'sees'\n",
    "TV -> 'chased'\n",
    "\n",
    "DTV -> 'gives'\n",
    "\n",
    "P -> 'to'\n",
    "P -> 'in'\n",
    "\n",
    "CONJ -> 'and'\n",
    "\n",
    "ADJ -> 'brown'\n",
    "ADJ -> 'white'\n",
    "\"\"\"\n",
    "# Load CFG\n",
    "grammar = CFG.fromstring(cfg_string_original)\n",
    "\n",
    "# Initialize parser\n",
    "parser = nltk.ChartParser(grammar)\n",
    "\n",
    "# Test sentences\n",
    "sentences = [\n",
    "    'no man gives a bone to a dog',\n",
    "    'no man gives a bone to the dog',\n",
    "    'a boy and a girl chased every dog',\n",
    "    'every dog chased a boy and a girl',\n",
    "    'a brown cat chases a white dog',\n",
    "]\n",
    "\n",
    "# Parse sentences\n",
    "for sentence in sentences:\n",
    "    print(f\"Parsing sentence: '{sentence}'\")\n",
    "    tokens = sentence.split()\n",
    "    try:\n",
    "        for tree in parser.parse(tokens):\n",
    "            tree.pretty_print()  # Print the parse tree\n",
    "            # Optionally visualize the tree if graphical support is available\n",
    "            # draw_trees(tree)  # Uncomment to visualize the tree\n",
    "    except ValueError as e:\n",
    "        print(f\"Error parsing sentence '{sentence}': {e}\")\n"
   ]
  },
  {
   "cell_type": "markdown",
   "metadata": {},
   "source": [
    "# 7 New 19.09.2024 "
   ]
  },
  {
   "cell_type": "code",
   "execution_count": null,
   "metadata": {},
   "outputs": [],
   "source": [
    "fcfg_string_orginal = r\"\"\"\n",
    "% start S\n",
    "############################\n",
    "# Grammar Rules\n",
    "#############################\n",
    "\n",
    "S[SEM = <?subj(?vp)>] -> NP[NUM=?n,SEM=?subj] VP[NUM=?n,SEM=?vp]\n",
    "\n",
    "NP[NUM=?n,SEM=<?det(?nom)> ] -> Det[NUM=?n,SEM=?det]  Nom[NUM=?n,SEM=?nom]\n",
    "NP[LOC=?l,NUM=?n,SEM=?np] -> PropN[LOC=?l,NUM=?n,SEM=?np]\n",
    "\n",
    "Nom[NUM=?n,SEM=?nom] -> N[NUM=?n,SEM=?nom]\n",
    "\n",
    "VP[NUM=?n,SEM=?v] -> IV[NUM=?n,SEM=?v]\n",
    "VP[NUM=?n,SEM=<?v(?obj)>] -> TV[NUM=?n,SEM=?v] NP[SEM=?obj]\n",
    "VP[NUM=?n,SEM=<?v(?obj,?pp)>] -> DTV[NUM=?n,SEM=?v] NP[SEM=?obj] PP[+TO,SEM=?pp]\n",
    "\n",
    "PP[+TO, SEM=?np] -> P[+TO] NP[SEM=?np]\n",
    "\n",
    "#############################\n",
    "# Lexical Rules\n",
    "#############################\n",
    "\n",
    "PropN[-LOC,NUM=sg,SEM=<\\P.P(angus)>] -> 'Angus'\n",
    "PropN[-LOC,NUM=sg,SEM=<\\P.P(cyril)>] -> 'Cyril'\n",
    "PropN[-LOC,NUM=sg,SEM=<\\P.P(irene)>] -> 'Irene'\n",
    " \n",
    "Det[NUM=sg,SEM=<\\P Q.all x.(P(x) -> Q(x))>] -> 'every'\n",
    "Det[NUM=pl,SEM=<\\P Q.all x.(P(x) -> Q(x))>] -> 'all'\n",
    "Det[SEM=<\\P Q.exists x.(P(x) & Q(x))>] -> 'some'\n",
    "Det[NUM=sg,SEM=<\\P Q.exists x.(P(x) & Q(x))>] -> 'a'\n",
    "Det[NUM=sg,SEM=<\\P Q.exists x.(P(x) & Q(x))>] -> 'an'\n",
    "\n",
    "N[NUM=sg,SEM=<\\x.man(x)>] -> 'man'\n",
    "N[NUM=sg,SEM=<\\x.girl(x)>] -> 'girl'\n",
    "N[NUM=sg,SEM=<\\x.boy(x)>] -> 'boy'\n",
    "N[NUM=sg,SEM=<\\x.bone(x)>] -> 'bone'\n",
    "N[NUM=sg,SEM=<\\x.ankle(x)>] -> 'ankle'\n",
    "N[NUM=sg,SEM=<\\x.dog(x)>] -> 'dog'\n",
    "N[NUM=pl,SEM=<\\x.dog(x)>] -> 'dogs'\n",
    "\n",
    "IV[NUM=sg,SEM=<\\x.bark(x)>,TNS=pres] -> 'barks'\n",
    "IV[NUM=pl,SEM=<\\x.bark(x)>,TNS=pres] -> 'bark'\n",
    "IV[NUM=sg,SEM=<\\x.walk(x)>,TNS=pres] -> 'walks'\n",
    "IV[NUM=pl,SEM=<\\x.walk(x)>,TNS=pres] -> 'walk'\n",
    "TV[NUM=sg,SEM=<\\X x.X(\\ y.chase(x,y))>,TNS=pres] -> 'chases'\n",
    "TV[NUM=pl,SEM=<\\X x.X(\\ y.chase(x,y))>,TNS=pres] -> 'chase'\n",
    "TV[NUM=sg,SEM=<\\X x.X(\\ y.see(x,y))>,TNS=pres] -> 'sees'\n",
    "TV[NUM=pl,SEM=<\\X x.X(\\ y.see(x,y))>,TNS=pres] -> 'see'\n",
    "TV[NUM=sg,SEM=<\\X x.X(\\ y.bite(x,y))>,TNS=pres] -> 'bites'\n",
    "TV[NUM=pl,SEM=<\\X x.X(\\ y.bite(x,y))>,TNS=pres] -> 'bite'\n",
    "DTV[NUM=sg,SEM=<\\Y X x.X(\\z.Y(\\y.give(x,y,z)))>,TNS=pres] -> 'gives'\n",
    "DTV[NUM=pl,SEM=<\\Y X x.X(\\z.Y(\\y.give(x,y,z)))>,TNS=pres] -> 'give'\n",
    "\n",
    "P[+to] -> 'to'\n",
    "\"\"\""
   ]
  },
  {
   "cell_type": "markdown",
   "metadata": {},
   "source": [
    "Write your extension of this grammar here:"
   ]
  },
  {
   "cell_type": "code",
   "execution_count": null,
   "metadata": {},
   "outputs": [],
   "source": [
    "import nltk\n",
    "from nltk import CFG\n",
    "from nltk.grammar import FeatureGrammar \n",
    "from IPython.display import Markdown\n",
    "from IPython.display import display_latex\n",
    "from nltk.draw.tree import draw_trees"
   ]
  },
  {
   "cell_type": "code",
   "execution_count": null,
   "metadata": {},
   "outputs": [],
   "source": [
    "fcfg_string = fcfg_string_orginal + r\"\"\"\n",
    "## Your answers here\n",
    " Det -> 'the'    \n",
    " Det[+PL, NUM=pl, SEM=<\\p Q.all x.(P(x) -> Q(x))>] -> 'no' \n",
    " TV[SEM=<\\X x.X(\\ y.give(x,y))>, TNS=pres] -> 'gives'\n",
    " DTV[SEM=<\\Y X x.X(\\z.Y(\\y.give(x,y,z)))>] -> 'gives'\n",
    " TV[SEM=<\\X x.X(\\ y.chase(x,y))>, TNS=past] -> 'chased'\n",
    "\n",
    " NP[+POSSESIVE, NUM=?n,SEM=?np] -> PropN[LOC=?l,NUM=?n,SEM=?np] 's'\n",
    " CONJ -> 'and'\n",
    " NP[NUM=?n] -> NP[NUM=?n] CONJ NP[NUM=?n]\n",
    " \n",
    " N[NUM=sg,SEM=<\\x.cat(x)>] -> 'cat'\n",
    " N[NUM=sg,SEM=<\\x.brown(x)>] -> 'brown'\n",
    "\n",
    " ADJ[SEM=<\\P.P(brown)>] -> 'brown'\n",
    " ADJ[SEM=<\\P.P(white)>] -> 'white'\n",
    " \n",
    " NP[NUM=?n,SEM=<?det(?adj(?nom))>] -> Det[NUM=?n,SEM=?det] ADJ[NUM=?n,SEM=?adj] Nom[NUM=?n,SEM=?nom]\n",
    "\"\"\"\n",
    "# Combine original and extended grammars\n",
    "fcfg_string_combined = fcfg_string_orginal + fcfg_string\n",
    "\n",
    "#Load `fcfg_string_combined` as a feature grammar:\n",
    "syntax = FeatureGrammar.fromstring(fcfg_string_combined)"
   ]
  },
  {
   "cell_type": "markdown",
   "metadata": {},
   "source": [
    "Run the code below without errors:"
   ]
  },
  {
   "cell_type": "code",
   "execution_count": null,
   "metadata": {},
   "outputs": [],
   "source": [
    "# comment out sentences if you couldn't find an answer for them\n",
    "sentences = [\n",
    "    'no man gives a bone to a dog',\n",
    "    'no man gives a bone to the dog',\n",
    "    'a boy and a girl chased every dog',\n",
    "    'every dog chased a boy and a girl',\n",
    "    'a brown cat chases a white dog',\n",
    "]\n",
    "for results in nltk.interpret_sents(sentences, syntax):\n",
    "    for (synrep, semrep) in results:\n",
    "        display(Markdown('----'))\n",
    "        display_latex(semrep) # prints the SEM feature of a tree\n",
    "        #display_tree(synrep) # show the parse tree\n",
    "        draw_trees(synrep)"
   ]
  },
  {
   "cell_type": "code",
   "execution_count": null,
   "metadata": {},
   "outputs": [],
   "source": []
  },
  {
   "cell_type": "markdown",
   "metadata": {},
   "source": [
    "# this is the corrected version"
   ]
  },
  {
   "cell_type": "code",
   "execution_count": 3,
   "metadata": {},
   "outputs": [],
   "source": [
    "import nltk\n",
    "from nltk import CFG\n",
    "from nltk.grammar import FeatureGrammar \n",
    "from IPython.display import Markdown\n",
    "from IPython.display import display_latex\n",
    "from nltk.draw.tree import draw_trees"
   ]
  },
  {
   "cell_type": "code",
   "execution_count": 4,
   "metadata": {},
   "outputs": [
    {
     "ename": "NameError",
     "evalue": "name 'fcfg_string_orginal' is not defined",
     "output_type": "error",
     "traceback": [
      "\u001b[1;31m---------------------------------------------------------------------------\u001b[0m",
      "\u001b[1;31mNameError\u001b[0m                                 Traceback (most recent call last)",
      "Cell \u001b[1;32mIn[4], line 1\u001b[0m\n\u001b[1;32m----> 1\u001b[0m fcfg_string \u001b[38;5;241m=\u001b[39m fcfg_string_orginal \u001b[38;5;241m+\u001b[39m \u001b[38;5;124mr\u001b[39m\u001b[38;5;124m\"\"\"\u001b[39m\n\u001b[0;32m      2\u001b[0m \u001b[38;5;124m## Extended grammar rules with fixes\u001b[39m\n\u001b[0;32m      3\u001b[0m \n\u001b[0;32m      4\u001b[0m \u001b[38;5;124m# Determiners\u001b[39m\n\u001b[0;32m      5\u001b[0m \u001b[38;5;124mDet[NUM=sg,SEM=<\u001b[39m\u001b[38;5;124m\\\u001b[39m\u001b[38;5;124mP Q.all x.(P(x) -> -Q(x))>] -> \u001b[39m\u001b[38;5;124m'\u001b[39m\u001b[38;5;124mno\u001b[39m\u001b[38;5;124m'\u001b[39m\n\u001b[0;32m      6\u001b[0m \u001b[38;5;124mDet[NUM=sg,SEM=<\u001b[39m\u001b[38;5;124m\\\u001b[39m\u001b[38;5;124mP Q.exists x.(P(x) & Q(x))>] -> \u001b[39m\u001b[38;5;124m'\u001b[39m\u001b[38;5;124ma\u001b[39m\u001b[38;5;124m'\u001b[39m\u001b[38;5;124m | \u001b[39m\u001b[38;5;124m'\u001b[39m\u001b[38;5;124mthe\u001b[39m\u001b[38;5;124m'\u001b[39m\n\u001b[0;32m      7\u001b[0m \u001b[38;5;124mDet[NUM=pl,SEM=<\u001b[39m\u001b[38;5;124m\\\u001b[39m\u001b[38;5;124mP Q.all x.(P(x) -> Q(x))>] -> \u001b[39m\u001b[38;5;124m'\u001b[39m\u001b[38;5;124mevery\u001b[39m\u001b[38;5;124m'\u001b[39m\n\u001b[0;32m      8\u001b[0m \n\u001b[0;32m      9\u001b[0m \u001b[38;5;124m# Transitive Verbs (present and past tense)\u001b[39m\n\u001b[0;32m     10\u001b[0m \u001b[38;5;124mTV[NUM=sg,TNS=pres,SEM=<\u001b[39m\u001b[38;5;124m\\\u001b[39m\u001b[38;5;124mX x.X(\u001b[39m\u001b[38;5;124m\\\u001b[39m\u001b[38;5;124m y.give(x,y))>] -> \u001b[39m\u001b[38;5;124m'\u001b[39m\u001b[38;5;124mgives\u001b[39m\u001b[38;5;124m'\u001b[39m\n\u001b[0;32m     11\u001b[0m \u001b[38;5;124mTV[NUM=sg,TNS=past,SEM=<\u001b[39m\u001b[38;5;124m\\\u001b[39m\u001b[38;5;124mX x.X(\u001b[39m\u001b[38;5;124m\\\u001b[39m\u001b[38;5;124m y.give(x,y))>] -> \u001b[39m\u001b[38;5;124m'\u001b[39m\u001b[38;5;124mgave\u001b[39m\u001b[38;5;124m'\u001b[39m\n\u001b[0;32m     12\u001b[0m \u001b[38;5;124mTV[NUM=sg,TNS=pres,SEM=<\u001b[39m\u001b[38;5;124m\\\u001b[39m\u001b[38;5;124mX x.X(\u001b[39m\u001b[38;5;124m\\\u001b[39m\u001b[38;5;124m y.chase(x,y))>] -> \u001b[39m\u001b[38;5;124m'\u001b[39m\u001b[38;5;124mchases\u001b[39m\u001b[38;5;124m'\u001b[39m\n\u001b[0;32m     13\u001b[0m \u001b[38;5;124mTV[NUM=pl,TNS=past,SEM=<\u001b[39m\u001b[38;5;124m\\\u001b[39m\u001b[38;5;124mX x.X(\u001b[39m\u001b[38;5;124m\\\u001b[39m\u001b[38;5;124m y.chase(x,y))>] -> \u001b[39m\u001b[38;5;124m'\u001b[39m\u001b[38;5;124mchased\u001b[39m\u001b[38;5;124m'\u001b[39m\n\u001b[0;32m     14\u001b[0m \n\u001b[0;32m     15\u001b[0m \u001b[38;5;124m# Conjunction for Noun Phrase Coordination\u001b[39m\n\u001b[0;32m     16\u001b[0m \u001b[38;5;124mCONJ -> \u001b[39m\u001b[38;5;124m'\u001b[39m\u001b[38;5;124mand\u001b[39m\u001b[38;5;124m'\u001b[39m\n\u001b[0;32m     17\u001b[0m \n\u001b[0;32m     18\u001b[0m \u001b[38;5;124m# Noun Phrase Coordination (Plural)\u001b[39m\n\u001b[0;32m     19\u001b[0m \u001b[38;5;124mNP[NUM=pl,SEM=<\u001b[39m\u001b[38;5;124m\\\u001b[39m\u001b[38;5;124mP. (?conj1(P) & ?conj2(P))>] -> NP[NUM=sg,SEM=?conj1] CONJ NP[NUM=sg,SEM=?conj2]\u001b[39m\n\u001b[0;32m     20\u001b[0m \n\u001b[0;32m     21\u001b[0m \u001b[38;5;124m# Nouns\u001b[39m\n\u001b[0;32m     22\u001b[0m \u001b[38;5;124mN[NUM=sg,SEM=<\u001b[39m\u001b[38;5;124m\\\u001b[39m\u001b[38;5;124mx.man(x)>] -> \u001b[39m\u001b[38;5;124m'\u001b[39m\u001b[38;5;124mman\u001b[39m\u001b[38;5;124m'\u001b[39m\n\u001b[0;32m     23\u001b[0m \u001b[38;5;124mN[NUM=sg,SEM=<\u001b[39m\u001b[38;5;124m\\\u001b[39m\u001b[38;5;124mx.boy(x)>] -> \u001b[39m\u001b[38;5;124m'\u001b[39m\u001b[38;5;124mboy\u001b[39m\u001b[38;5;124m'\u001b[39m\n\u001b[0;32m     24\u001b[0m \u001b[38;5;124mN[NUM=sg,SEM=<\u001b[39m\u001b[38;5;124m\\\u001b[39m\u001b[38;5;124mx.girl(x)>] -> \u001b[39m\u001b[38;5;124m'\u001b[39m\u001b[38;5;124mgirl\u001b[39m\u001b[38;5;124m'\u001b[39m\n\u001b[0;32m     25\u001b[0m \u001b[38;5;124mN[NUM=sg,SEM=<\u001b[39m\u001b[38;5;124m\\\u001b[39m\u001b[38;5;124mx.dog(x)>] -> \u001b[39m\u001b[38;5;124m'\u001b[39m\u001b[38;5;124mdog\u001b[39m\u001b[38;5;124m'\u001b[39m\n\u001b[0;32m     26\u001b[0m \u001b[38;5;124mN[NUM=sg,SEM=<\u001b[39m\u001b[38;5;124m\\\u001b[39m\u001b[38;5;124mx.cat(x)>] -> \u001b[39m\u001b[38;5;124m'\u001b[39m\u001b[38;5;124mcat\u001b[39m\u001b[38;5;124m'\u001b[39m\n\u001b[0;32m     27\u001b[0m \u001b[38;5;124mN[NUM=sg,SEM=<\u001b[39m\u001b[38;5;124m\\\u001b[39m\u001b[38;5;124mx.bone(x)>] -> \u001b[39m\u001b[38;5;124m'\u001b[39m\u001b[38;5;124mbone\u001b[39m\u001b[38;5;124m'\u001b[39m\n\u001b[0;32m     28\u001b[0m \n\u001b[0;32m     29\u001b[0m \u001b[38;5;124m# Adjectives (Intersective)\u001b[39m\n\u001b[0;32m     30\u001b[0m \u001b[38;5;124mADJ[SEM=<\u001b[39m\u001b[38;5;124m\\\u001b[39m\u001b[38;5;124mP x.(brown(x) & P(x))>] -> \u001b[39m\u001b[38;5;124m'\u001b[39m\u001b[38;5;124mbrown\u001b[39m\u001b[38;5;124m'\u001b[39m\n\u001b[0;32m     31\u001b[0m \u001b[38;5;124mADJ[SEM=<\u001b[39m\u001b[38;5;124m\\\u001b[39m\u001b[38;5;124mP x.(white(x) & P(x))>] -> \u001b[39m\u001b[38;5;124m'\u001b[39m\u001b[38;5;124mwhite\u001b[39m\u001b[38;5;124m'\u001b[39m\n\u001b[0;32m     32\u001b[0m \n\u001b[0;32m     33\u001b[0m \u001b[38;5;124m# Noun Phrase with Adjectives\u001b[39m\n\u001b[0;32m     34\u001b[0m \u001b[38;5;124mNP[NUM=?n,SEM=<?det(?adj(?nom))>] -> Det[NUM=?n,SEM=?det] ADJ[SEM=?adj] Nom[NUM=?n,SEM=?nom]\u001b[39m\n\u001b[0;32m     35\u001b[0m \n\u001b[0;32m     36\u001b[0m \u001b[38;5;124m# Noun Phrase (without adjective)\u001b[39m\n\u001b[0;32m     37\u001b[0m \u001b[38;5;124mNom[NUM=?n,SEM=?nom] -> N[NUM=?n,SEM=?nom]\u001b[39m\n\u001b[0;32m     38\u001b[0m \n\u001b[0;32m     39\u001b[0m \u001b[38;5;124m# Preposition\u001b[39m\n\u001b[0;32m     40\u001b[0m \u001b[38;5;124mP[+to] -> \u001b[39m\u001b[38;5;124m'\u001b[39m\u001b[38;5;124mto\u001b[39m\u001b[38;5;124m'\u001b[39m\n\u001b[0;32m     41\u001b[0m \n\u001b[0;32m     42\u001b[0m \u001b[38;5;124m# Verb Phrase Rules\u001b[39m\n\u001b[0;32m     43\u001b[0m \u001b[38;5;124mVP[NUM=?n,TNS=?t,SEM=<?v(?obj)>] -> TV[NUM=?n,TNS=?t,SEM=?v] NP[SEM=?obj]\u001b[39m\n\u001b[0;32m     44\u001b[0m \u001b[38;5;124m\"\"\"\u001b[39m\n",
      "\u001b[1;31mNameError\u001b[0m: name 'fcfg_string_orginal' is not defined"
     ]
    }
   ],
   "source": [
    "fcfg_string = fcfg_string_orginal + r\"\"\"\n",
    "## Extended grammar rules with fixes\n",
    "\n",
    "# Determiners\n",
    "Det[NUM=sg,SEM=<\\P Q.all x.(P(x) -> -Q(x))>] -> 'no'\n",
    "Det[NUM=sg,SEM=<\\P Q.exists x.(P(x) & Q(x))>] -> 'a' | 'the'\n",
    "Det[NUM=pl,SEM=<\\P Q.all x.(P(x) -> Q(x))>] -> 'every'\n",
    "\n",
    "# Transitive Verbs (present and past tense)\n",
    "TV[NUM=sg,TNS=pres,SEM=<\\X x.X(\\ y.give(x,y))>] -> 'gives'\n",
    "TV[NUM=sg,TNS=past,SEM=<\\X x.X(\\ y.give(x,y))>] -> 'gave'\n",
    "TV[NUM=sg,TNS=pres,SEM=<\\X x.X(\\ y.chase(x,y))>] -> 'chases'\n",
    "TV[NUM=pl,TNS=past,SEM=<\\X x.X(\\ y.chase(x,y))>] -> 'chased'\n",
    "\n",
    "# Conjunction for Noun Phrase Coordination\n",
    "CONJ -> 'and'\n",
    "\n",
    "# Noun Phrase Coordination (Plural)\n",
    "NP[NUM=pl,SEM=<\\P. (?conj1(P) & ?conj2(P))>] -> NP[NUM=sg,SEM=?conj1] CONJ NP[NUM=sg,SEM=?conj2]\n",
    "\n",
    "# Nouns\n",
    "N[NUM=sg,SEM=<\\x.man(x)>] -> 'man'\n",
    "N[NUM=sg,SEM=<\\x.boy(x)>] -> 'boy'\n",
    "N[NUM=sg,SEM=<\\x.girl(x)>] -> 'girl'\n",
    "N[NUM=sg,SEM=<\\x.dog(x)>] -> 'dog'\n",
    "N[NUM=sg,SEM=<\\x.cat(x)>] -> 'cat'\n",
    "N[NUM=sg,SEM=<\\x.bone(x)>] -> 'bone'\n",
    "\n",
    "# Adjectives (Intersective)\n",
    "ADJ[SEM=<\\P x.(brown(x) & P(x))>] -> 'brown'\n",
    "ADJ[SEM=<\\P x.(white(x) & P(x))>] -> 'white'\n",
    "\n",
    "# Noun Phrase with Adjectives\n",
    "NP[NUM=?n,SEM=<?det(?adj(?nom))>] -> Det[NUM=?n,SEM=?det] ADJ[SEM=?adj] Nom[NUM=?n,SEM=?nom]\n",
    "\n",
    "# Noun Phrase (without adjective)\n",
    "Nom[NUM=?n,SEM=?nom] -> N[NUM=?n,SEM=?nom]\n",
    "\n",
    "# Preposition\n",
    "P[+to] -> 'to'\n",
    "\n",
    "# Verb Phrase Rules\n",
    "VP[NUM=?n,TNS=?t,SEM=<?v(?obj)>] -> TV[NUM=?n,TNS=?t,SEM=?v] NP[SEM=?obj]\n",
    "\"\"\""
   ]
  },
  {
   "cell_type": "code",
   "execution_count": null,
   "metadata": {},
   "outputs": [],
   "source": [
    "# comment out sentences if you couldn't find an answer for them\n",
    "sentences = [\n",
    "    'no man gives a bone to a dog',\n",
    "    'no man gives a bone to the dog',\n",
    "    'a boy and a girl chased every dog',\n",
    "    'every dog chased a boy and a girl',\n",
    "    'a brown cat chases a white dog',\n",
    "]\n",
    "for results in nltk.interpret_sents(sentences, syntax):\n",
    "    for (synrep, semrep) in results:\n",
    "        display(Markdown('----'))\n",
    "        display_latex(semrep) # prints the SEM feature of a tree\n",
    "        #display_tree(synrep) # show the parse tree\n",
    "        draw_trees(synrep)"
   ]
  },
  {
   "cell_type": "markdown",
   "metadata": {},
   "source": []
  },
  {
   "cell_type": "code",
   "execution_count": null,
   "metadata": {},
   "outputs": [],
   "source": [
    "import nltk\n",
    "from nltk import CFG\n",
    "from nltk.grammar import FeatureGrammar \n",
    "from IPython.display import Markdown\n",
    "from IPython.display import display_latex\n",
    "from nltk.draw.tree import draw_trees"
   ]
  },
  {
   "cell_type": "code",
   "execution_count": null,
   "metadata": {},
   "outputs": [],
   "source": [
    "fcfg_string = fcfg_string_orginal + r\"\"\"\n",
    "## Your answers here\n",
    " Det -> 'the'    \n",
    " Det[+PL, NUM=pl, SEM=<\\p Q.all x.(P(x) -> Q(x))>] -> 'no' \n",
    " TV[SEM=<\\X x.X(\\ y.give(x,y))>, TNS=pres] -> 'gives'\n",
    " DTV[SEM=<\\Y X x.X(\\z.Y(\\y.give(x,y,z)))>] -> 'gives'\n",
    " TV[SEM=<\\X x.X(\\ y.chase(x,y))>, TNS=past] -> 'chased'\n",
    "\n",
    " NP[+POSSESIVE, NUM=?n,SEM=?np] -> PropN[LOC=?l,NUM=?n,SEM=?np] 's'\n",
    " CONJ -> 'and'\n",
    " NP[NUM=?n] -> NP[NUM=?n] CONJ NP[NUM=?n]\n",
    " \n",
    " N[NUM=sg,SEM=<\\x.cat(x)>] -> 'cat'\n",
    " N[NUM=sg,SEM=<\\x.brown(x)>] -> 'brown'\n",
    "\n",
    " ADJ[SEM=<\\P.P(brown)>] -> 'brown'\n",
    " ADJ[SEM=<\\P.P(white)>] -> 'white'\n",
    " \n",
    " NP[NUM=?n,SEM=<?det(?adj(?nom))>] -> Det[NUM=?n,SEM=?det] ADJ[NUM=?n,SEM=?adj] Nom[NUM=?n,SEM=?nom]\n",
    "\"\"\"\n",
    "# Combine original and extended grammars\n",
    "fcfg_string_combined = fcfg_string_orginal + fcfg_string\n",
    "\n",
    "#Load `fcfg_string_combined` as a feature grammar:\n",
    "syntax = FeatureGrammar.fromstring(fcfg_string_combined)"
   ]
  },
  {
   "cell_type": "code",
   "execution_count": null,
   "metadata": {},
   "outputs": [],
   "source": [
    "# comment out sentences if you couldn't find an answer for them\n",
    "sentences = [\n",
    "    'no man gives a bone to a dog',\n",
    "    'no man gives a bone to the dog',\n",
    "    'a boy and a girl chased every dog',\n",
    "    'every dog chased a boy and a girl',\n",
    "    'a brown cat chases a white dog',\n",
    "]\n",
    "for results in nltk.interpret_sents(sentences, syntax):\n",
    "    for (synrep, semrep) in results:\n",
    "        display(Markdown('----'))\n",
    "        display_latex(semrep) # prints the SEM feature of a tree\n",
    "        #display_tree(synrep) # show the parse tree\n",
    "        draw_trees(synrep)"
   ]
  },
  {
   "cell_type": "markdown",
   "metadata": {},
   "source": [
    "# alternative solutions"
   ]
  },
  {
   "cell_type": "code",
   "execution_count": null,
   "metadata": {},
   "outputs": [],
   "source": [
    "import nltk\n",
    "from nltk import CFG\n",
    "from nltk.grammar import FeatureGrammar \n",
    "from IPython.display import Markdown\n",
    "from IPython.display import display_latex\n",
    "from nltk.draw.tree import draw_trees"
   ]
  },
  {
   "cell_type": "code",
   "execution_count": null,
   "metadata": {},
   "outputs": [],
   "source": [
    "fcfg_string = fcfg_string_orginal + r\"\"\"\n",
    "## Extended grammar rules with fixes\n",
    "\n",
    "# Determiners\n",
    "Det[NUM=sg,SEM=<\\P Q.all x.(P(x) -> -Q(x))>] -> 'no'\n",
    "Det[NUM=sg,SEM=<\\P Q.exists x.(P(x) & Q(x))>] -> 'a' | 'the'\n",
    "Det[NUM=pl,SEM=<\\P Q.all x.(P(x) -> Q(x))>] -> 'every'\n",
    "\n",
    "# Transitive Verbs (present and past tense)\n",
    "TV[NUM=sg,TNS=pres,SEM=<\\X x.X(\\ y.give(x,y))>] -> 'gives'\n",
    "TV[NUM=sg,TNS=past,SEM=<\\X x.X(\\ y.give(x,y))>] -> 'gave'\n",
    "TV[NUM=sg,TNS=pres,SEM=<\\X x.X(\\ y.chase(x,y))>] -> 'chases'\n",
    "TV[NUM=pl,TNS=past,SEM=<\\X x.X(\\ y.chase(x,y))>] -> 'chased'\n",
    "\n",
    "# Conjunction for Noun Phrase Coordination\n",
    "CONJ -> 'and'\n",
    "\n",
    "# Noun Phrase Coordination (Plural)\n",
    "NP[NUM=pl,SEM=<\\P. (?conj1(P) & ?conj2(P))>] -> NP[NUM=sg,SEM=?conj1] CONJ NP[NUM=sg,SEM=?conj2]\n",
    "\n",
    "# Nouns\n",
    "N[NUM=sg,SEM=<\\x.man(x)>] -> 'man'\n",
    "N[NUM=sg,SEM=<\\x.boy(x)>] -> 'boy'\n",
    "N[NUM=sg,SEM=<\\x.girl(x)>] -> 'girl'\n",
    "N[NUM=sg,SEM=<\\x.dog(x)>] -> 'dog'\n",
    "N[NUM=sg,SEM=<\\x.cat(x)>] -> 'cat'\n",
    "N[NUM=sg,SEM=<\\x.bone(x)>] -> 'bone'\n",
    "\n",
    "# Adjectives (Intersective)\n",
    "ADJ[SEM=<\\P x.(brown(x) & P(x))>] -> 'brown'\n",
    "ADJ[SEM=<\\P x.(white(x) & P(x))>] -> 'white'\n",
    "\n",
    "# Noun Phrase with Adjectives\n",
    "NP[NUM=?n,SEM=<?det(?adj(?nom))>] -> Det[NUM=?n,SEM=?det] ADJ[SEM=?adj] Nom[NUM=?n,SEM=?nom]\n",
    "\n",
    "# Noun Phrase (without adjective)\n",
    "Nom[NUM=?n,SEM=?nom] -> N[NUM=?n,SEM=?nom]\n",
    "\n",
    "# Preposition\n",
    "P[+to] -> 'to'\n",
    "\n",
    "# Verb Phrase Rules\n",
    "VP[NUM=?n,TNS=?t,SEM=<?v(?obj)>] -> TV[NUM=?n,TNS=?t,SEM=?v] NP[SEM=?obj]\n",
    "\"\"\""
   ]
  },
  {
   "cell_type": "code",
   "execution_count": null,
   "metadata": {},
   "outputs": [],
   "source": [
    "# comment out sentences if you couldn't find an answer for them\n",
    "sentences = [\n",
    "    'no man gives a bone to a dog',\n",
    "    'no man gives a bone to the dog',\n",
    "    'a boy and a girl chased every dog',\n",
    "    'every dog chased a boy and a girl',\n",
    "    'a brown cat chases a white dog',\n",
    "]\n",
    "for results in nltk.interpret_sents(sentences, syntax):\n",
    "    for (synrep, semrep) in results:\n",
    "        display(Markdown('----'))\n",
    "        display_latex(semrep) # prints the SEM feature of a tree\n",
    "        #display_tree(synrep) # show the parse tree\n",
    "        draw_trees(synrep)"
   ]
  },
  {
   "cell_type": "markdown",
   "metadata": {},
   "source": [
    "# ANother one "
   ]
  },
  {
   "cell_type": "code",
   "execution_count": null,
   "metadata": {},
   "outputs": [],
   "source": [
    "import nltk\n",
    "from nltk import CFG\n",
    "from nltk.grammar import FeatureGrammar \n",
    "from IPython.display import Markdown\n",
    "from IPython.display import display_latex\n",
    "from nltk.draw.tree import draw_trees\n",
    "\n",
    "# Original grammar\n",
    "fcfg_string_orginal = r\"\"\"\n",
    "% start S\n",
    "############################\n",
    "# Grammar Rules\n",
    "#############################\n",
    "\n",
    "S[SEM = <?subj(?vp)>] -> NP[NUM=?n,SEM=?subj] VP[NUM=?n,SEM=?vp]\n",
    "\n",
    "NP[NUM=?n,SEM=<?det(?nom)> ] -> Det[NUM=?n,SEM=?det]  Nom[NUM=?n,SEM=?nom]\n",
    "NP[LOC=?l,NUM=?n,SEM=?np] -> PropN[LOC=?l,NUM=?n,SEM=?np]\n",
    "\n",
    "Nom[NUM=?n,SEM=?nom] -> N[NUM=?n,SEM=?nom]\n",
    "\n",
    "VP[NUM=?n,SEM=?v] -> IV[NUM=?n,SEM=?v]\n",
    "VP[NUM=?n,SEM=<?v(?obj)>] -> TV[NUM=?n,SEM=?v] NP[SEM=?obj]\n",
    "VP[NUM=?n,SEM=<?v(?obj,?pp)>] -> DTV[NUM=?n,SEM=?v] NP[SEM=?obj] PP[+TO,SEM=?pp]\n",
    "\n",
    "PP[+TO, SEM=?np] -> P[+TO] NP[SEM=?np]\n",
    "\n",
    "#############################\n",
    "# Lexical Rules\n",
    "#############################\n",
    "\n",
    "PropN[-LOC,NUM=sg,SEM=<\\P.P(angus)>] -> 'Angus'\n",
    "PropN[-LOC,NUM=sg,SEM=<\\P.P(cyril)>] -> 'Cyril'\n",
    "PropN[-LOC,NUM=sg,SEM=<\\P.P(irene)>] -> 'Irene'\n",
    "\n",
    "Det[NUM=sg,SEM=<\\P Q.all x.(P(x) -> Q(x))>] -> 'every'\n",
    "Det[NUM=pl,SEM=<\\P Q.all x.(P(x) -> Q(x))>] -> 'all'\n",
    "Det[SEM=<\\P Q.exists x.(P(x) & Q(x))>] -> 'some'\n",
    "Det[NUM=sg,SEM=<\\P Q.exists x.(P(x) & Q(x))>] -> 'a'\n",
    "Det[NUM=sg,SEM=<\\P Q.exists x.(P(x) & Q(x))>] -> 'an'\n",
    "\n",
    "N[NUM=sg,SEM=<\\x.man(x)>] -> 'man'\n",
    "N[NUM=sg,SEM=<\\x.girl(x)>] -> 'girl'\n",
    "N[NUM=sg,SEM=<\\x.boy(x)>] -> 'boy'\n",
    "N[NUM=sg,SEM=<\\x.bone(x)>] -> 'bone'\n",
    "N[NUM=sg,SEM=<\\x.ankle(x)>] -> 'ankle'\n",
    "N[NUM=sg,SEM=<\\x.dog(x)>] -> 'dog'\n",
    "N[NUM=pl,SEM=<\\x.dog(x)>] -> 'dogs'\n",
    "\n",
    "IV[NUM=sg,SEM=<\\x.bark(x)>,TNS=pres] -> 'barks'\n",
    "IV[NUM=pl,SEM=<\\x.bark(x)>,TNS=pres] -> 'bark'\n",
    "IV[NUM=sg,SEM=<\\x.walk(x)>,TNS=pres] -> 'walks'\n",
    "IV[NUM=pl,SEM=<\\x.walk(x)>,TNS=pres] -> 'walk'\n",
    "TV[NUM=sg,SEM=<\\X x.X(\\ y.chase(x,y))>,TNS=pres] -> 'chases'\n",
    "TV[NUM=pl,SEM=<\\X x.X(\\ y.chase(x,y))>,TNS=pres] -> 'chase'\n",
    "TV[NUM=sg,SEM=<\\X x.X(\\ y.see(x,y))>,TNS=pres] -> 'sees'\n",
    "TV[NUM=pl,SEM=<\\X x.X(\\ y.see(x,y))>,TNS=pres] -> 'see'\n",
    "TV[NUM=sg,SEM=<\\X x.X(\\ y.bite(x,y))>,TNS=pres] -> 'bites'\n",
    "TV[NUM=pl,SEM=<\\X x.X(\\ y.bite(x,y))>,TNS=pres] -> 'bite'\n",
    "DTV[NUM=sg,SEM=<\\Y X x.X(\\z.Y(\\y.give(x,y,z)))>,TNS=pres] -> 'gives'\n",
    "DTV[NUM=pl,SEM=<\\Y X x.X(\\z.Y(\\y.give(x,y,z)))>,TNS=pres] -> 'give'\n",
    "\n",
    "P[+to] -> 'to'\n",
    "\"\"\"\n",
    "\n",
    "# Extended grammar with fixes for the examples\n",
    "fcfg_string = fcfg_string_orginal + r\"\"\"\n",
    "## Extended grammar rules with fixes\n",
    "\n",
    "# Determiners\n",
    "Det[NUM=sg,SEM=<\\P Q.all x.(P(x) -> -Q(x))>] -> 'no'\n",
    "Det[NUM=sg,SEM=<\\P Q.exists x.(P(x) & Q(x))>] -> 'a' | 'the'\n",
    "Det[NUM=pl,SEM=<\\P Q.all x.(P(x) -> Q(x))>] -> 'every'\n",
    "\n",
    "# Transitive Verbs (present and past tense)\n",
    "TV[NUM=sg,TNS=pres,SEM=<\\X x.X(\\ y.give(x,y))>] -> 'gives'\n",
    "TV[NUM=sg,TNS=past,SEM=<\\X x.X(\\ y.give(x,y))>] -> 'gave'\n",
    "TV[NUM=sg,TNS=pres,SEM=<\\X x.X(\\ y.chase(x,y))>] -> 'chases'\n",
    "TV[NUM=pl,TNS=past,SEM=<\\X x.X(\\ y.chase(x,y))>] -> 'chased'\n",
    "\n",
    "# Conjunction for Noun Phrase Coordination\n",
    "CONJ -> 'and'\n",
    "\n",
    "# Noun Phrase Coordination (Plural)\n",
    "NP[NUM=pl,SEM=<\\P. (?conj1(P) & ?conj2(P))>] -> NP[NUM=sg,SEM=?conj1] CONJ NP[NUM=sg,SEM=?conj2]\n",
    "\n",
    "# Nouns\n",
    "N[NUM=sg,SEM=<\\x.man(x)>] -> 'man'\n",
    "N[NUM=sg,SEM=<\\x.boy(x)>] -> 'boy'\n",
    "N[NUM=sg,SEM=<\\x.girl(x)>] -> 'girl'\n",
    "N[NUM=sg,SEM=<\\x.dog(x)>] -> 'dog'\n",
    "N[NUM=sg,SEM=<\\x.cat(x)>] -> 'cat'\n",
    "N[NUM=sg,SEM=<\\x.bone(x)>] -> 'bone'\n",
    "\n",
    "# Adjectives (Intersective)\n",
    "ADJ[SEM=<\\P x.(brown(x) & P(x))>] -> 'brown'\n",
    "ADJ[SEM=<\\P x.(white(x) & P(x))>] -> 'white'\n",
    "\n",
    "# Noun Phrase with Adjectives\n",
    "#NP[NUM=?n,SEM=<?det(?adj(?nom))>] -> Det[NUM=?n,SEM=?det] ADJ[SEM=?adj] Nom[NUM=?n,SEM=?nom]\n",
    "\n",
    "NP[NUM=?n,SEM=<?det(?adj(?nom))>] -> Det[NUM=?n,SEM=?det] ADJ[NUM=?n,SEM=?adj] Nom[NUM=?n,SEM=?nom]\n",
    "\n",
    "# Noun Phrase (without adjective)\n",
    "Nom[NUM=?n,SEM=?nom] -> N[NUM=?n,SEM=?nom]\n",
    "\n",
    "# Preposition\n",
    "P[+to] -> 'to'\n",
    "\n",
    "# Verb Phrase Rules\n",
    "VP[NUM=?n,TNS=?t,SEM=<?v(?obj)>] -> TV[NUM=?n,TNS=?t,SEM=?v] NP[SEM=?obj]\n",
    "\"\"\"\n",
    "# Load the extended grammar\n",
    "#syntax = FeatureGrammar.fromstring(fcfg_string)\n",
    "\n",
    "# Combine original and extended grammars\n",
    "fcfg_string_combined = fcfg_string_orginal + fcfg_string\n",
    "\n",
    "#Load `fcfg_string_combined` as a feature grammar:\n",
    "syntax = FeatureGrammar.fromstring(fcfg_string_combined)"
   ]
  },
  {
   "cell_type": "code",
   "execution_count": null,
   "metadata": {},
   "outputs": [],
   "source": [
    "# comment out sentences if you couldn't find an answer for them\n",
    "sentences = [\n",
    "    'no man gives a bone to a dog',\n",
    "    'no man gives a bone to the dog',\n",
    "    'a boy and a girl chased every dog',\n",
    "    'every dog chased a boy and a girl',\n",
    "    'a brown cat chases a white dog',\n",
    "]\n",
    "for results in nltk.interpret_sents(sentences, syntax):\n",
    "    for (synrep, semrep) in results:\n",
    "        display(Markdown('----'))\n",
    "        display_latex(semrep) # prints the SEM feature of a tree\n",
    "        #display_tree(synrep) # show the parse tree\n",
    "        draw_trees(synrep)"
   ]
  },
  {
   "cell_type": "code",
   "execution_count": null,
   "metadata": {},
   "outputs": [],
   "source": []
  },
  {
   "cell_type": "markdown",
   "metadata": {},
   "source": [
    "If you are working with iPython which is also running behind Jupyter notebooks and you are changing grammars and want to rerun a new version without restarting you may find `nltk.data.clear_cache()` useful."
   ]
  },
  {
   "cell_type": "markdown",
   "metadata": {},
   "source": [
    "## Statement of contribution\n",
    "\n",
    "Briefly state how many times you have met for discussions, who was present, to what degree each member contributed to the discussion and the final answers you are submitting."
   ]
  },
  {
   "cell_type": "markdown",
   "metadata": {},
   "source": [
    "## Marks\n",
    "\n",
    "The assignment is marked on a 7-level scale where 4 is sufficient to complete the assignment; 5 is good solid work; 6 is excellent work, covers most of the assignment; and 7: creative work. \n",
    "\n",
    "This assignment has a total of 47 marks. These translate to grades as follows: 1 = 17% 2 = 34%, 3 = 50%, 4 = 67%, 5 = 75%, 6 = 84%, 7 = 92% where %s are interpreted as lower bounds to achieve that grade."
   ]
  }
 ],
 "metadata": {
  "kernelspec": {
   "display_name": "Python 3 (ipykernel)",
   "language": "python",
   "name": "python3"
  },
  "language_info": {
   "codemirror_mode": {
    "name": "ipython",
    "version": 3
   },
   "file_extension": ".py",
   "mimetype": "text/x-python",
   "name": "python",
   "nbconvert_exporter": "python",
   "pygments_lexer": "ipython3",
   "version": "3.11.5"
  }
 },
 "nbformat": 4,
 "nbformat_minor": 4
}
