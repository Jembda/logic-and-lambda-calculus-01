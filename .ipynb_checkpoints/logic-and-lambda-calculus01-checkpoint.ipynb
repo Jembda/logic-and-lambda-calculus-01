{
 "cells": [
  {
   "cell_type": "markdown",
   "id": "6e4bbc11-23cc-49e1-bbf9-2d115965dabe",
   "metadata": {},
   "source": [
    "## 1. Propositional logic\n",
    "Translate the following sentences into propositional logic and verify that they parse with Expression.fromstring() (read_expr variable in the cell above). Provide a key which shows how the propositional variables in your translation correspond to expressions of English. Briefly discuss any difficulties you encounter. (By difficulties we mean cases where the semantics of English expressions cannot be expressed to the same degree by the semantics of your logic representations, i.e. they do not mean the same). [5 + 1 marks]"
   ]
  },
  {
   "cell_type": "code",
   "execution_count": 1,
   "id": "5d4269d6-f96d-4d0d-822d-ab213d35d5bc",
   "metadata": {},
   "outputs": [],
   "source": [
    "import nltk\n",
    "from utils import display_latex, display_translation, display_tree, display, Markdown\n",
    "read_expr = nltk.sem.Expression.fromstring\n",
    "from nltk.sem import Expression\n",
    "from utils import display_translation\n",
    "read_expr = Expression.fromstring"
   ]
  },
  {
   "cell_type": "code",
   "execution_count": 2,
   "id": "31806c5a",
   "metadata": {},
   "outputs": [
    {
     "data": {
      "text/markdown": [
       "\"If Alex plays the piano, she is smart.\": $(P_A\\ \\rightarrow\\ S_A)$"
      ],
      "text/plain": [
       "<IPython.core.display.Markdown object>"
      ]
     },
     "metadata": {},
     "output_type": "display_data"
    },
    {
     "data": {
      "text/markdown": [
       "\"Alex is both smart and musical.\": $(S_A\\ \\land\\ M_A)$"
      ],
      "text/plain": [
       "<IPython.core.display.Markdown object>"
      ]
     },
     "metadata": {},
     "output_type": "display_data"
    },
    {
     "data": {
      "text/markdown": [
       "\"If Alex is not smart, Lydia is not happy.\": $(¬S_A\\ \\rightarrow\\ ¬H_L)$"
      ],
      "text/plain": [
       "<IPython.core.display.Markdown object>"
      ]
     },
     "metadata": {},
     "output_type": "display_data"
    },
    {
     "data": {
      "text/markdown": [
       "\"If Alex or George plays the piano, they are musical.\": $((P_A\\ \\lor\\ P_G)\\ \\rightarrow\\ (M_A\\ \\land\\ M_G))$"
      ],
      "text/plain": [
       "<IPython.core.display.Markdown object>"
      ]
     },
     "metadata": {},
     "output_type": "display_data"
    },
    {
     "data": {
      "text/markdown": [
       "\"George plays the piano.\": $P_G$"
      ],
      "text/plain": [
       "<IPython.core.display.Markdown object>"
      ]
     },
     "metadata": {},
     "output_type": "display_data"
    }
   ],
   "source": [
    "propositions = {\n",
    "    \"If Alex plays the piano, she is smart.\": read_expr('P_A -> S_A'),\n",
    "    \"Alex is both smart and musical.\": read_expr('S_A & M_A'),\n",
    "    \"If Alex is not smart, Lydia is not happy.\": read_expr('¬S_A -> ¬H_L'),\n",
    "    \"If Alex or George plays the piano, they are musical.\": read_expr('(P_A | P_G) -> (M_A & M_G)'),\n",
    "    \"George plays the piano.\": read_expr('P_G')\n",
    "}\n",
    "\n",
    "for text, semrep in propositions.items():\n",
    "    display_translation(text, semrep)"
   ]
  },
  {
   "cell_type": "markdown",
   "id": "057c28ed-63bf-419a-a4fc-463d83813af1",
   "metadata": {},
   "source": [
    "Difficulties encountered: "
   ]
  },
  {
   "cell_type": "markdown",
   "id": "27a9908d",
   "metadata": {},
   "source": [
    "Here are some potential difficulties:\n",
    "\n",
    "1-Negation Interpretation\n",
    "Challenge: Understanding how negation works in logic can be tricky. In the sentence \"If Alex is not smart, Lydia is not happy,\" using ¬𝑆𝐴 → ¬𝐻𝐿  captures the intended meaning, but it can be confusing to remember that negation applies to the entire proposition. So, Ensure clarity on what each variable represents. It's important to explicitly state that ¬𝑆𝐴   means \"Alex is not smart\" and ¬𝐻𝐿 means \"Lydia is not happy.\"\n",
    "\n",
    "2-Ambiguity in Language\n",
    "Natural language can often be ambiguous. For instance, in the statement about Alex or George playing the piano, it's not always clear if \"they\" refers to both or to either. Hence, define the logical structure clearly, indicating that \"they are musical\" applies to both Alex and George if either plays the piano.\n",
    "\n",
    "3-Logical Implications\n",
    "Understanding implications can be difficult. The structure 𝑃 → 𝑄 does not mean that 𝑃 and Q are equivalent; it means if 𝑃 is true, 𝑄 must be true, but Q can be true even if P is false. \n",
    "\n",
    "Hence, translating natural language into propositional logic requires careful consideration of the meaning behind each statement and how negation, conjunction, and disjunction operate. Clarifying variable meanings and practicing the translation process can help mitigate these difficulties."
   ]
  },
  {
   "cell_type": "markdown",
   "id": "8c30e613-9f9a-475d-a038-e77e1ccb07f1",
   "metadata": {},
   "source": [
    "## 2. Valuation of Propositional logic\n",
    "\n",
    "Imagine that we observe a world where\n",
    "\n",
    "(i) Alex does not play the piano,\n",
    "(ii) Alex and Lydia are smart and musical,\n",
    "(iii) George is not musical,\n",
    "(iv) Lydia is happy,\n",
    "(v) George plays the piano.\n",
    "\n",
    "Translate this informal description of the world into a model by appropriately defining an evaluation function and evaluate the formulae from Question 1 in this model. Briefly comment the answers you get. [5 + 1 marks]."
   ]
  },
  {
   "cell_type": "code",
   "execution_count": 3,
   "id": "a3e22e3e",
   "metadata": {},
   "outputs": [
    {
     "name": "stdout",
     "output_type": "stream",
     "text": [
      "If Alex plays the piano, she is smart.: True\n",
      "Alex is both smart and musical.: True\n",
      "If Alex is not smart, Lydia is not happy.: True\n",
      "If Alex or George plays the piano, they are musical.: False\n",
      "George plays the piano.: True\n"
     ]
    }
   ],
   "source": [
    "import nltk\n",
    "from nltk.sem import Valuation, Model, Assignment\n",
    "from nltk.sem import Expression\n",
    "\n",
    "read_expr = Expression.fromstring\n",
    "\n",
    "valuation = Valuation([('P', False),  # Alex does not play the piano\n",
    "                       ('Q', True),   # Alex is smart\n",
    "                       ('R', True),   # Alex is musical\n",
    "                       ('S', True),   # Lydia is happy\n",
    "                       ('T', True),   # George plays the piano\n",
    "                       ('U', False)]) # George is not musical\n",
    "\n",
    "model = Model(valuation.domain, valuation)\n",
    "\n",
    "formulas = {\n",
    "    \"If Alex plays the piano, she is smart.\": read_expr('P -> Q'),\n",
    "    \"Alex is both smart and musical.\": read_expr('Q & R'),\n",
    "    \"If Alex is not smart, Lydia is not happy.\": read_expr('-(Q) -> -(S)'),  \n",
    "    \"If Alex or George plays the piano, they are musical.\": read_expr('(P | T) -> (R & U)'),\n",
    "    \"George plays the piano.\": read_expr('T'),\n",
    "}\n",
    "\n",
    "for text, semrep in formulas.items():\n",
    "    try:\n",
    "        is_true = model.satisfy(semrep, Assignment(model.domain))\n",
    "        print(f'{text}: {is_true}')\n",
    "    except Exception as e:\n",
    "        print(f'Error evaluating \"{text}\": {e}')"
   ]
  },
  {
   "cell_type": "markdown",
   "id": "e19f15ce-1d24-49db-b8a8-4e3520ba3dd9",
   "metadata": {},
   "source": [
    "## 3. Predicate logic without quantifiers\n",
    "\n",
    "Translate the following sentences into predicate-argument formulae of First Order Logic and verify that they parse with Expression.fromstring(). Briefly discuss any difficulties you encounter. [4 + 1 marks]"
   ]
  },
  {
   "cell_type": "markdown",
   "id": "9019574d-e3ec-4dd4-85ec-074234edeeeb",
   "metadata": {},
   "source": [
    "1. \"Lydia likes George but Lydia doesn't like Alex\":\n",
    "   Predicate: L(x, y) (x likes y)\n",
    "   Constant: Lydia, George, Alex\n",
    "   Formula: L(Lydia, George) ∧ ¬L(Lydia, Alex)\n",
    "2. \"Lydia likes herself and so does George\":\n",
    "   Predicate: L(x, x) (x likes themselves)\n",
    "   Constants: Lydia, George\n",
    "   Formula: L(Lydia, Lydia) ∧ L(George, George)\n",
    "3. \"Charlie is an English pianist who plays a sonata\":\n",
    "   Predicates: E(x) (x is English), P(x) (x is pianist), S(x) (x plays a sonata)\n",
    "   Constant: Charlie\n",
    "   Formula: E(Charlie) ∧ P(Charlie) ∧ S(Charlie)\n",
    "4. \"Lydia and George admire each other\":\n",
    "   Predicate: A(x,y) (x admires y)\n",
    "   Constants: Lydia, George\n",
    "   Formula: A(Lydia, George) ∧ A(Lydia, George)"
   ]
  },
  {
   "cell_type": "code",
   "execution_count": 4,
   "id": "ccb63059-48b6-4c85-acfd-e3cf7f34829c",
   "metadata": {},
   "outputs": [
    {
     "data": {
      "text/markdown": [
       "\"Lydia likes George but Lydia doesn't like Alex\": $(Likes(Lydia,George)\\ \\land\\ ¬Likes(Lydia,Alex))$"
      ],
      "text/plain": [
       "<IPython.core.display.Markdown object>"
      ]
     },
     "metadata": {},
     "output_type": "display_data"
    },
    {
     "data": {
      "text/markdown": [
       "\"Lydia likes herself and so does George\": $(Likes(Lydia,Lydia)\\ \\land\\ Likes(George,George))$"
      ],
      "text/plain": [
       "<IPython.core.display.Markdown object>"
      ]
     },
     "metadata": {},
     "output_type": "display_data"
    },
    {
     "data": {
      "text/markdown": [
       "\"Charlie is an English pianist who plays a sonata\": $(Pianist(charlie)\\ \\land\\ English(charlie)\\ \\land\\ Sonata(s)\\ \\land\\ Plays(charlie,s))$"
      ],
      "text/plain": [
       "<IPython.core.display.Markdown object>"
      ]
     },
     "metadata": {},
     "output_type": "display_data"
    },
    {
     "data": {
      "text/markdown": [
       "\"Lydia and George admire each other\": $(Admires(Lydia,George)\\ \\land\\ Admires(George,Lydia))$"
      ],
      "text/plain": [
       "<IPython.core.display.Markdown object>"
      ]
     },
     "metadata": {},
     "output_type": "display_data"
    }
   ],
   "source": [
    "from nltk.sem import Expression\n",
    "from utils import display_translation\n",
    "\n",
    "read_expr = Expression.fromstring\n",
    "\n",
    "sentences1 = {\n",
    "    \"Lydia likes George but Lydia doesn't like Alex\": \n",
    "    read_expr(r'Likes(Lydia, George) & ¬Likes(Lydia, Alex)'),\n",
    "    \n",
    "    \"Lydia likes herself and so does George\":\n",
    "    read_expr(r'Likes(Lydia, Lydia) & Likes(George, George)'),\n",
    "    \n",
    "    \"Charlie is an English pianist who plays a sonata\":\n",
    "    read_expr(r'Pianist(charlie) & English(charlie) & Sonata(s) & Plays(charlie, s)'),\n",
    "    \n",
    "    \"Lydia and George admire each other\":\n",
    "    read_expr(r'Admires(Lydia, George) & Admires(George, Lydia)'),\n",
    "}\n",
    "\n",
    "for text, semrep in sentences1.items():\n",
    "    display_translation(text, semrep)"
   ]
  },
  {
   "cell_type": "markdown",
   "id": "538f7ea2-4d06-436b-875d-fb4e18a1ae21",
   "metadata": {},
   "source": [
    "Difficulties encountered:\n",
    "- Understanding Predicate Logic: Translating sentences into predicate logic requires a clear understanding of the relationships between entities, which can sometimes be nuanced.\n",
    "\n",
    "- Existential Quantifiers: Incorporating existential quantifiers (like in Charlie's sentence) can be tricky, especially if the statement is not explicitly clear about the existence of objects.\n",
    "\n",
    "- Ambiguity in Natural Language: Some sentences may have multiple interpretations, leading to different logical representations. Clarifying the intended meaning is crucial.\n",
    "\n",
    "- The interpretation remains valid regardless of George's gender. In logical expressions, the predicates represent relationships and properties without being influenced by the individuals' genders. The expression: Likes(Lydia,Lydia)∧Likes(George,George) accurately captures the idea that Lydia likes herself and George likes himself. The use of \"he\" for George doesn't affect the logical structure. \n",
    "\n",
    "- If you want \"play\" to be a two-place predicate, you can express the relationship clearly by stating that Charlie plays a specific sonata. Here’s how one would write it:\n",
    "\n",
    "- Instead of having a general predicate for playing, specify that Charlie plays a sonata:\n",
    "\n",
    "        Pianist(charlie)∧ English(charlie) ∧ Sonata(s) ∧ Plays(charlie,s)\n",
    "        \n",
    "- This maintains the relationship between Charlie and the sonata as a two-place predicate."
   ]
  },
  {
   "cell_type": "markdown",
   "id": "df435a27-86d5-4b1e-a0c5-ca893c851747",
   "metadata": {},
   "source": [
    "## 4. First order logic with quantifiers\n",
    "\n",
    "Translate the following sentences into quantified formulas of First Order Logic and verify that they parse with Expression.fromstring(). Briefly discuss any difficulties you encounter. [4 + 1 marks]"
   ]
  },
  {
   "cell_type": "markdown",
   "id": "61820d2a-a18a-478b-9e58-e60c2d7f5074",
   "metadata": {},
   "source": [
    "Translating the sentences into quantified formula of First Order Logic involves introducing quantifiers(existential and universal) to capture the statemetn about individuals and their relationships. Consider the following:\n",
    "1. \"Charlie knows a woman who likes George\":\n",
    "   Existential quantifier: There exists some woman\n",
    "   Predicate: K(x, y)(x knows y), W(x)(x is a woman), L(x, y)(x likes y)\n",
    "   Constants: Charlie, George\n",
    "   Variable: w(for woman)\n",
    "   Formula: ∃w(W(w) ∧ K(Charlie, w) ∧ L(w, George))\n",
    "2. \"George admires everybody and Lydia admires nobody\":\n",
    "   Universal quantifier: For all individuals\n",
    "   Predicates: A (x, y) (x admires y)\n",
    "   Constants: George, Lydia\n",
    "   Variables: P(for people)o\n",
    "   Formula: ∀p(A(George, p) ∧ ¬∃p(A(Lydia, p)))\n",
    "3. \"Nobody admires everybody\":\n",
    "   Universal and existential quantifiers: For all individuals, there does not exist\n",
    "   Predicates: A(x, y) (x admires y)\n",
    "   variables: p, q (for people)\n",
    "   formula: ∀p ¬∃q(A(p, q))   \n",
    "4. \"Exactly one musician plays everything Alex wrote\":\n",
    "   Existetial quantifier: There exists one musician\n",
    "   Universal quantifier: for everything\n",
    "   Predicates: M(x) (x is a musician), P(x, y)(x plays y) W(x) (x wrote something)\n",
    "   Constant: Alex\n",
    "   Variables: m(for musician), s(for something)\n",
    "   Formula: ∃m ∀s((M(m) ∧ W(Alex, s)) -> P(m, s)) ∧ ¬∃m′∀s′((M(m′) ∧ W(Alex, s′)) -> p(m′,s′))\n"
   ]
  },
  {
   "cell_type": "code",
   "execution_count": 5,
   "id": "77e3385b-efae-4822-ae40-3e043aa41116",
   "metadata": {},
   "outputs": [],
   "source": [
    "from nltk.sem.logic import LogicParser"
   ]
  },
  {
   "cell_type": "code",
   "execution_count": 6,
   "id": "0f8c4c75",
   "metadata": {},
   "outputs": [
    {
     "data": {
      "text/markdown": [
       "\"Charlie knows a woman who likes George\": $\\exists\\ x.(W(x)\\ \\land\\ K(Charlie,x)\\ \\land\\ L(x,George))$"
      ],
      "text/plain": [
       "<IPython.core.display.Markdown object>"
      ]
     },
     "metadata": {},
     "output_type": "display_data"
    },
    {
     "data": {
      "text/markdown": [
       "\"George admires everybody and Lydia admires nobody\": $(\\forall\\ p.A(George,p)\\ \\land\\ -\\exists\\ p.A(Lydia,p))$"
      ],
      "text/plain": [
       "<IPython.core.display.Markdown object>"
      ]
     },
     "metadata": {},
     "output_type": "display_data"
    },
    {
     "data": {
      "text/markdown": [
       "\"Nobody admires everybody\": $-\\exists\\ p.\\forall\\ q.A(p,q)$"
      ],
      "text/plain": [
       "<IPython.core.display.Markdown object>"
      ]
     },
     "metadata": {},
     "output_type": "display_data"
    },
    {
     "data": {
      "text/markdown": [
       "\"Exactly one musician plays everything Alex wrote\": $\\exists\\ m.(\\forall\\ s.((W(Alex,s)\\ \\rightarrow\\ P(m,s))\\ \\land\\ M(m))\\ \\land\\ \\forall\\ m2.((\\forall\\ s.(W(Alex,s)\\ \\rightarrow\\ P(m2,s))\\ \\land\\ M(m2))\\ \\rightarrow\\ (m2\\ =\\ m)))$"
      ],
      "text/plain": [
       "<IPython.core.display.Markdown object>"
      ]
     },
     "metadata": {},
     "output_type": "display_data"
    }
   ],
   "source": [
    "from nltk.sem import Expression\n",
    "from utils import display_translation\n",
    "\n",
    "read_expr = Expression.fromstring\n",
    "\n",
    "sentences2 = {\n",
    "    \"Charlie knows a woman who likes George\":\n",
    "    read_expr('exists x (W(x) & K(Charlie, x) & L(x, George))'),\n",
    "    \n",
    "    \"George admires everybody and Lydia admires nobody\":\n",
    "    read_expr('all p (A(George, p)) & not exists p (A(Lydia, p))'),\n",
    "\n",
    "    \"Nobody admires everybody\":\n",
    "    read_expr('not exists p (all q (A(p, q)))'),\n",
    "    \n",
    "    \"Exactly one musician plays everything Alex wrote\":    \n",
    "    read_expr('exists m (forall s ((W(Alex, s) -> P(m, s)) & M(m)) & '\n",
    "              'forall m2 ((forall s (W(Alex, s) -> P(m2, s)) & M(m2)) -> m2 = m))'),\n",
    "}\n",
    "\n",
    "for text, semrep in sentences2.items():\n",
    "    display_translation(text, semrep)"
   ]
  },
  {
   "cell_type": "code",
   "execution_count": 7,
   "id": "35880926",
   "metadata": {},
   "outputs": [
    {
     "data": {
      "text/markdown": [
       "\"Charlie knows a woman who likes George\": $\\exists\\ x.(W(x)\\ \\land\\ K(Charlie,x)\\ \\land\\ L(x,George))$"
      ],
      "text/plain": [
       "<IPython.core.display.Markdown object>"
      ]
     },
     "metadata": {},
     "output_type": "display_data"
    },
    {
     "data": {
      "text/markdown": [
       "\"George admires everybody and Lydia admires nobody\": $(\\forall\\ p.A(George,p)\\ \\land\\ -\\exists\\ p.A(Lydia,p))$"
      ],
      "text/plain": [
       "<IPython.core.display.Markdown object>"
      ]
     },
     "metadata": {},
     "output_type": "display_data"
    },
    {
     "data": {
      "text/markdown": [
       "\"Nobody admires everybody\": $-\\exists\\ p.\\forall\\ q.A(p,q)$"
      ],
      "text/plain": [
       "<IPython.core.display.Markdown object>"
      ]
     },
     "metadata": {},
     "output_type": "display_data"
    },
    {
     "data": {
      "text/markdown": [
       "\"Exactly one musician plays everything Alex wrote\": $\\exists\\ m.(\\forall\\ s.(W(Alex,s)\\ \\rightarrow\\ P(m,s))\\ \\land\\ \\forall\\ m2.(\\forall\\ s.(W(Alex,s)\\ \\rightarrow\\ P(m2,s))\\ \\rightarrow\\ (m2\\ =\\ m)))$"
      ],
      "text/plain": [
       "<IPython.core.display.Markdown object>"
      ]
     },
     "metadata": {},
     "output_type": "display_data"
    }
   ],
   "source": [
    "from nltk.sem import Expression\n",
    "from utils import display_translation\n",
    "\n",
    "read_expr = Expression.fromstring\n",
    "\n",
    "sentences2 = {\n",
    "    \"Charlie knows a woman who likes George\":\n",
    "    read_expr('exists x (W(x) & K(Charlie, x) & L(x, George))'),\n",
    "    \n",
    "    \"George admires everybody and Lydia admires nobody\":\n",
    "    read_expr('all p (A(George, p)) & not exists p (A(Lydia, p))'),\n",
    "\n",
    "    \"Nobody admires everybody\":\n",
    "    read_expr('not exists p (all q (A(p, q)))'),\n",
    "    \n",
    "    \"Exactly one musician plays everything Alex wrote\":    \n",
    "    read_expr('exists m (all s (W(Alex, s) -> P(m, s)) & '\n",
    "              'all m2 ((all s (W(Alex, s) -> P(m2, s))) -> m2 = m))'),\n",
    "}\n",
    "\n",
    "for text, semrep in sentences2.items():\n",
    "    display_translation(text, semrep)"
   ]
  },
  {
   "cell_type": "markdown",
   "id": "ad20a8de",
   "metadata": {},
   "source": [
    "Difficulties encountered:\n",
    "1)\tExpressing \"exactly one\" is more complicated than simply using an existential quantifier (∃). It requires the use of both existential and universal quantifiers, along with the equality symbol (=), to ensure that if another entity satisfies the condition, it must be the same as the first one. The formula for \"exactly one\" includes a second universal quantification to ensure that no two distinct entities satisfy the condition. This can be tricky to express in FOL without confusion.\n",
    "2)\tFor sentences like \"Charlie knows a woman who likes George,\" it's important to maintain the relationship between predicates and variables. In this case, the formula must ensure that the woman (w) both likes George and is known by Charlie, which requires careful use of conjunctions. The formula was written as exists w (W(w) & K(Charlie, w) & L(w, George)), using a conjunction of predicates under the same existential quantifier.\n",
    "3)\tIn some sentences, like \"George admires everybody and Lydia admires nobody,\" we needed to use both universal quantifiers (∀) and negated existential quantifiers (¬∃), which can become complex to structure correctly. The formula forall p (A(George, p)) & ~exists p (A(Lydia, p)) was used to ensure George admires everyone, while Lydia admires no one. Ensuring the proper order of quantifiers and negations is crucial here to avoid logical misinterpretations.\n",
    "4)\tSentences like \"Nobody admires everybody\" required careful placement of negation (¬). Incorrect placement of negation with respect to quantifiers can lead to unintended interpretations. The sentence was translated to ~exists p (all q (A(p, q))) to correctly express that no individual admires everyone.     "
   ]
  },
  {
   "cell_type": "markdown",
   "id": "ec1c29c2-bbbe-46ce-9e00-4e0cdc9eea0d",
   "metadata": {},
   "source": [
    "## 5. Valuation of first order logic \n",
    "\n",
    "We observe a world with entities Lydia, George, Alex, Charlie and Bertie, sonata, etude, prelude, waltz, scherzo.\n",
    "\n",
    "1. Lydia likes Lydia, George, Alex and Charlie. George likes Lydia, Bertie and George. Alex likes Alex. Charlie likes Lydia, George, Alex, Charlie and Bertie. Bertie likes Alex.\n",
    "2. Lydia, George, Alex, Charlie and Bertie are English.\n",
    "3. Charlie and Bertie are pianists.\n",
    "4. Charlie plays a sonata, an etude and a waltz. Bertie plays a waltz and a scherzo. Lydia plays an etude, a prelude and a waltz.\n",
    "5. Lydia admires Lydia, Charlie and Bertie. George admires Lydia, George, Alex, Charlie and Bertie. Alex admires Lydia, Alex and Bertie. Charlie admires George and Bertie. Bertie admires Lydia, George, Alex, Charlie and Bertie.\n",
    "6. Lydia knows Lydia, George, Alex, Charlie and Bertie. George knows Lydia, George and Bertie. Alex knows Lydia, Alex and Bertie. Charlie knows George, Charlie and Bertie. Bertie knows Lydia, George, Alex, Charlie and Bertie.\n",
    "7. Lydia, Alex and Charlie are women.\n",
    "8. George and Bertie are men.\n",
    "9. Alex wrote a sonata, an etude an a waltz.\n",
    "10. Lydia, Alex, Charlie and Bertie are musicians.\n",
    "\n",
    "Translate this informal description of the world into a model and evaluate the formulae from Questions 3 and 4 in this model. Briefly comment on the answers you get [3 + 2 marks]."
   ]
  },
  {
   "cell_type": "code",
   "execution_count": 8,
   "id": "c3294a36-2251-44ec-b00f-99b1e018b01c",
   "metadata": {},
   "outputs": [],
   "source": [
    "from nltk.sem import Valuation, Model\n",
    "from nltk.sem.logic import *"
   ]
  },
  {
   "cell_type": "code",
   "execution_count": 9,
   "id": "072ede88-5fa6-4663-8ca9-6ad29f2cdac0",
   "metadata": {},
   "outputs": [
    {
     "name": "stdout",
     "output_type": "stream",
     "text": [
      "Lydia likes George but Lydia doesn't like Alex: Undefined\n"
     ]
    },
    {
     "data": {
      "text/markdown": [
       "$(Likes(Lydia,George)\\ \\land\\ ¬Likes(Lydia,Alex))$"
      ],
      "text/plain": [
       "<IPython.core.display.Markdown object>"
      ]
     },
     "metadata": {},
     "output_type": "display_data"
    },
    {
     "data": {
      "text/markdown": [
       "----"
      ],
      "text/plain": [
       "<IPython.core.display.Markdown object>"
      ]
     },
     "metadata": {},
     "output_type": "display_data"
    },
    {
     "name": "stdout",
     "output_type": "stream",
     "text": [
      "Lydia likes herself and so does George: Undefined\n"
     ]
    },
    {
     "data": {
      "text/markdown": [
       "$(Likes(Lydia,Lydia)\\ \\land\\ Likes(George,George))$"
      ],
      "text/plain": [
       "<IPython.core.display.Markdown object>"
      ]
     },
     "metadata": {},
     "output_type": "display_data"
    },
    {
     "data": {
      "text/markdown": [
       "----"
      ],
      "text/plain": [
       "<IPython.core.display.Markdown object>"
      ]
     },
     "metadata": {},
     "output_type": "display_data"
    },
    {
     "name": "stdout",
     "output_type": "stream",
     "text": [
      "Charlie is an English pianist who plays a sonata: Undefined\n"
     ]
    },
    {
     "data": {
      "text/markdown": [
       "$(Pianist(charlie)\\ \\land\\ English(charlie)\\ \\land\\ Sonata(s)\\ \\land\\ Plays(charlie,s))$"
      ],
      "text/plain": [
       "<IPython.core.display.Markdown object>"
      ]
     },
     "metadata": {},
     "output_type": "display_data"
    },
    {
     "data": {
      "text/markdown": [
       "----"
      ],
      "text/plain": [
       "<IPython.core.display.Markdown object>"
      ]
     },
     "metadata": {},
     "output_type": "display_data"
    },
    {
     "name": "stdout",
     "output_type": "stream",
     "text": [
      "Lydia and George admire each other: Undefined\n"
     ]
    },
    {
     "data": {
      "text/markdown": [
       "$(Admires(Lydia,George)\\ \\land\\ Admires(George,Lydia))$"
      ],
      "text/plain": [
       "<IPython.core.display.Markdown object>"
      ]
     },
     "metadata": {},
     "output_type": "display_data"
    },
    {
     "data": {
      "text/markdown": [
       "----"
      ],
      "text/plain": [
       "<IPython.core.display.Markdown object>"
      ]
     },
     "metadata": {},
     "output_type": "display_data"
    },
    {
     "name": "stdout",
     "output_type": "stream",
     "text": [
      "Charlie knows a woman who likes George: Undefined\n"
     ]
    },
    {
     "data": {
      "text/markdown": [
       "$\\exists\\ x.(W(x)\\ \\land\\ K(Charlie,x)\\ \\land\\ L(x,George))$"
      ],
      "text/plain": [
       "<IPython.core.display.Markdown object>"
      ]
     },
     "metadata": {},
     "output_type": "display_data"
    },
    {
     "data": {
      "text/markdown": [
       "----"
      ],
      "text/plain": [
       "<IPython.core.display.Markdown object>"
      ]
     },
     "metadata": {},
     "output_type": "display_data"
    },
    {
     "name": "stdout",
     "output_type": "stream",
     "text": [
      "George admires everybody and Lydia admires nobody: Undefined\n"
     ]
    },
    {
     "data": {
      "text/markdown": [
       "$(\\forall\\ p.A(George,p)\\ \\land\\ -\\exists\\ p.A(Lydia,p))$"
      ],
      "text/plain": [
       "<IPython.core.display.Markdown object>"
      ]
     },
     "metadata": {},
     "output_type": "display_data"
    },
    {
     "data": {
      "text/markdown": [
       "----"
      ],
      "text/plain": [
       "<IPython.core.display.Markdown object>"
      ]
     },
     "metadata": {},
     "output_type": "display_data"
    },
    {
     "name": "stdout",
     "output_type": "stream",
     "text": [
      "Nobody admires everybody: Undefined\n"
     ]
    },
    {
     "data": {
      "text/markdown": [
       "$-\\exists\\ p.\\forall\\ q.A(p,q)$"
      ],
      "text/plain": [
       "<IPython.core.display.Markdown object>"
      ]
     },
     "metadata": {},
     "output_type": "display_data"
    },
    {
     "data": {
      "text/markdown": [
       "----"
      ],
      "text/plain": [
       "<IPython.core.display.Markdown object>"
      ]
     },
     "metadata": {},
     "output_type": "display_data"
    },
    {
     "name": "stdout",
     "output_type": "stream",
     "text": [
      "Exactly one musician plays everything Alex wrote: Undefined\n"
     ]
    },
    {
     "data": {
      "text/markdown": [
       "$\\exists\\ m.(\\forall\\ s.(W(Alex,s)\\ \\rightarrow\\ P(m,s))\\ \\land\\ \\forall\\ m2.(\\forall\\ s.(W(Alex,s)\\ \\rightarrow\\ P(m2,s))\\ \\rightarrow\\ (m2\\ =\\ m)))$"
      ],
      "text/plain": [
       "<IPython.core.display.Markdown object>"
      ]
     },
     "metadata": {},
     "output_type": "display_data"
    },
    {
     "data": {
      "text/markdown": [
       "----"
      ],
      "text/plain": [
       "<IPython.core.display.Markdown object>"
      ]
     },
     "metadata": {},
     "output_type": "display_data"
    }
   ],
   "source": [
    "entities = set(['b', 'a', 'g', 'p','t','e','h','r','so','u', 'sc', 'l','w','c'])\n",
    "assignments = \"\"\"\n",
    "Lydia => l\n",
    "George => g\n",
    "Alex => a\n",
    "Charlie => c\n",
    "Bertie => b\n",
    "sonata => so\n",
    "etude => e\n",
    "waltz => w\n",
    "scherzo => sc\n",
    "likes => {(l, l),(l, g), (l, a), (l, c), (g, l), (g, b), (g,g), (a,a), (c, l), (c, g), (c, a), (c, c), (c, b), (b, a)}\n",
    "english => {l, g, a, c, b}\n",
    "pianist => {c, b}\n",
    "plays => {(c, so), (c, e), (c, w), (b, w), (b, sc), (l, e), (l, p), (l, w)}\n",
    "admires => {(l, l), (l, c), (l, b), (g, l), (g, g), (g, a), (g, c), (g, b), (a, l), (a, a), (c, g), (c, b), (b, l), (b, g), (b, a), (b, c), (b, b)}\n",
    "knows => {(l, l), (l, g), (l, a), (l, c), (l, b), (g, l), (g, g), (g, b), (a, l), (a, a), (a, b), (c, g), (c, c), (c, b), (b, l), (b, g), (b, g), (b, a), (b, c), (b, b)}\n",
    "woman => {l, a, c}\n",
    "man => {g, b}\n",
    "wrote => {(a, so), (a, c), (a, w)}\n",
    "musician => {l, a, c, b}\n",
    "\"\"\"\n",
    "\n",
    "#Create the valuation\n",
    "val = Valuation.fromstring(assignments)\n",
    "model = Model(entities, val)\n",
    "\n",
    "# Define the assignment\n",
    "g = nltk.Assignment(entities)\n",
    "\n",
    "#Sentences from question 3\n",
    "for text, semrep in sentences1.items():\n",
    "    print(f\"{text}: {model.evaluate(str(semrep), g)}\")\n",
    "    display_latex(semrep)\n",
    "    display(Markdown('----'))\n",
    "#Sentences from question 4\n",
    "for text, semrep in sentences2.items():\n",
    "    print(f\"{text}: {model.evaluate(str(semrep), g)}\")\n",
    "    display_latex(semrep)\n",
    "    display(Markdown('----'))"
   ]
  },
  {
   "cell_type": "markdown",
   "id": "0b6f2f60-1314-4dc3-bc12-075dcd751f0b",
   "metadata": {},
   "source": [
    "Comments on the answers:"
   ]
  },
  {
   "cell_type": "markdown",
   "id": "facbb5af-56d8-42bc-a2e7-5099cef7012e",
   "metadata": {},
   "source": [
    "# Lambda calculus"
   ]
  },
  {
   "cell_type": "code",
   "execution_count": 10,
   "id": "fad4f2b5-d33b-482d-8012-19c73304f068",
   "metadata": {},
   "outputs": [],
   "source": [
    "from nltk.grammar import FeatureGrammar"
   ]
  },
  {
   "cell_type": "markdown",
   "id": "7e927c35-8198-4346-b53d-a29f7e18540d",
   "metadata": {},
   "source": [
    "## Function application and β-reduction"
   ]
  },
  {
   "cell_type": "markdown",
   "id": "a2757f31-99d5-44cf-b1ce-2026655251d8",
   "metadata": {},
   "source": [
    "In the following examples some code has been deleted and replaced with <????>. What has been deleted? Verify that your answer is correct. [4 marks]"
   ]
  },
  {
   "cell_type": "code",
   "execution_count": 11,
   "id": "b338b6d7-8ece-4e8a-94ab-af877ef0965b",
   "metadata": {},
   "outputs": [
    {
     "data": {
      "text/markdown": [
       "$like(pip,rob)$"
      ],
      "text/plain": [
       "<IPython.core.display.Markdown object>"
      ]
     },
     "metadata": {},
     "output_type": "display_data"
    },
    {
     "data": {
      "text/markdown": [
       "$like(pip,rob)$"
      ],
      "text/plain": [
       "<IPython.core.display.Markdown object>"
      ]
     },
     "metadata": {},
     "output_type": "display_data"
    }
   ],
   "source": [
    "e1 = read_expr(r'\\x.like(x, rob)')\n",
    "e2 = read_expr(r'pip')\n",
    "e3 = nltk.sem.ApplicationExpression(e1,e2) \n",
    "display_latex(e3.simplify())\n",
    "# with result like(pip,rob).\n",
    "display_latex(read_expr(r\"like(pip,rob)\"))"
   ]
  },
  {
   "cell_type": "markdown",
   "id": "6a95b3b3-7b39-497a-8245-b68b5511fc17",
   "metadata": {},
   "source": [
    "\n",
    "In the above solution, 'e1' is a lambda abstraction that represents a function that takes an argument 'x' and returns the result of applying the 'like' realation to 'x' and the constant 'rob'. 'e2' represents the constant 'pip'."
   ]
  },
  {
   "cell_type": "code",
   "execution_count": 12,
   "id": "cbcc254a",
   "metadata": {},
   "outputs": [
    {
     "data": {
      "text/markdown": [
       "$play(pip,scherzo)$"
      ],
      "text/plain": [
       "<IPython.core.display.Markdown object>"
      ]
     },
     "metadata": {},
     "output_type": "display_data"
    },
    {
     "data": {
      "text/markdown": [
       "$play(pip,scherzo)$"
      ],
      "text/plain": [
       "<IPython.core.display.Markdown object>"
      ]
     },
     "metadata": {},
     "output_type": "display_data"
    }
   ],
   "source": [
    "e1 = read_expr(r'\\x.play(x, scherzo)')\n",
    "e2 = read_expr(r'pip') \n",
    "e3 = nltk.sem.ApplicationExpression(e1, e2)\n",
    "display_latex(e3.simplify())\n",
    "# with result play(pip, scherzo).\n",
    "display_latex(read_expr(r\"play(pip, scherzo)\"))"
   ]
  },
  {
   "cell_type": "markdown",
   "id": "733d3900",
   "metadata": {},
   "source": [
    "In the above solution, e1 represents the constant pip, and e2 is a lambda abstraction that represents a function that takes an argument x and returns the result applying the play relation to x and the constant scherzo."
   ]
  },
  {
   "cell_type": "code",
   "execution_count": 13,
   "id": "caa906e0",
   "metadata": {},
   "outputs": [
    {
     "data": {
      "text/markdown": [
       "$\\exists\\ x.(woman(x)\\ \\land\\ play(x,etude))$"
      ],
      "text/plain": [
       "<IPython.core.display.Markdown object>"
      ]
     },
     "metadata": {},
     "output_type": "display_data"
    },
    {
     "data": {
      "text/markdown": [
       "$\\exists\\ x.(woman(x)\\ \\land\\ play(x,etude))$"
      ],
      "text/plain": [
       "<IPython.core.display.Markdown object>"
      ]
     },
     "metadata": {},
     "output_type": "display_data"
    }
   ],
   "source": [
    "e1 = read_expr(r'\\P. exists x. (woman(x) & P(x))')\n",
    "e2 = read_expr(r'\\x. play(x, etude)')\n",
    "e3 = nltk.sem.ApplicationExpression(e1, e2)\n",
    "display_latex(e3.simplify())\n",
    "# with result exists x.(woman(x) & play(x,etude)).\n",
    "display_latex(read_expr(r\"exists x.(woman(x) & play(x,etude))\"))"
   ]
  },
  {
   "cell_type": "markdown",
   "id": "b38fd984-c2c1-4fe6-8549-ea41f386301e",
   "metadata": {},
   "source": [
    "In the above solution, 'e1' represents existential quantification over a predicate 'P(x)', where 'P(x)' is assumed to be 'woman(x)', and 'e2' reprensents a lambda abstraction that represents a function that takes an argument 'x' and returns the result of applying the 'play' relation to 'x' and the constant 'etude'. The goal is to get the result exists x.(woman(x) & play(x,etude)). This suggests that e1 is some kind of existential quantifier with a condition, where the individual must be a woman and must play the etude. "
   ]
  },
  {
   "cell_type": "code",
   "execution_count": 15,
   "id": "7ea02a3a",
   "metadata": {},
   "outputs": [
    {
     "data": {
      "text/markdown": [
       "$\\lambda\\ x.\\forall\\ z_{1}.(musician(z_{1})\\ \\rightarrow\\ (musician(z_{1})\\ \\rightarrow\\ like(x,z_{1})))$"
      ],
      "text/plain": [
       "<IPython.core.display.Markdown object>"
      ]
     },
     "metadata": {},
     "output_type": "display_data"
    },
    {
     "data": {
      "text/markdown": [
       "$\\lambda\\ x.\\forall\\ z_{2}.(musician(z_{2})\\ \\rightarrow\\ like(x,z_{2}))$"
      ],
      "text/plain": [
       "<IPython.core.display.Markdown object>"
      ]
     },
     "metadata": {},
     "output_type": "display_data"
    }
   ],
   "source": [
    "e1 = read_expr(r'\\P.\\x.P(\\z2.(musician(z2) -> like(x, z2)))')\n",
    "e2 = read_expr(r'\\P.all x. (musician(x) -> P(x))')\n",
    "e3 = nltk.sem.ApplicationExpression(e1, e2)\n",
    "display_latex(e3.simplify())\n",
    "# with result \\x.all z2.(musician(z2) -> like(x,z2)).\n",
    "display_latex(read_expr(r\"\\x.all z2.(musician(z2) -> like(x,z2))\"))"
   ]
  },
  {
   "cell_type": "markdown",
   "id": "a2a1caec-aaa3-4023-9401-ed2e4b1031ab",
   "metadata": {},
   "source": [
    "In the above solution, 'e1' represents a lambda  abstraction that quantifies over all individuals 'z' and states that if 'z' is a musician, then 'x' likes 'z'. 'e2' reprensents a high-ordered function that takes a predicate 'P' and universally qantifies over all individuals 'x', stating that if 'x' is a musician, then 'P(x)' holds."
   ]
  },
  {
   "cell_type": "markdown",
   "id": "bbde04b3-7e7f-44e0-b242-4a5b8c550c2e",
   "metadata": {},
   "source": [
    "## 7. Extending the grammar"
   ]
  },
  {
   "cell_type": "markdown",
   "id": "295ce306-8ce1-4ee7-8f36-6af0dd2930df",
   "metadata": {},
   "source": [
    "Extend the grammar simple_sem.fcfg that comes with NLTK `(~/nltk_data/grammars/book_grammars/)` so that it will cover the following sentences:\n",
    "\n",
    "- no man gives a bone to a dog **[4 marks]**\n",
    "- no man gives a bone to the dog **[4 marks]**\n",
    "- a boy and a girl chased every dog **[2 marks]**\n",
    "- every dog chased a boy and a girl **[2 marks]**\n",
    "- a brown cat chases a white dog **[4 marks]**\n",
    "\n",
    "The last example includes adjectives. Several different kinds of adjectives are discussed in the literature [(cf. Kennedy, 2012)](http://semantics.uchicago.edu/kennedy/docs/routledge.pdf). In this example we have an intersective adjective. The denotiation we want for \"brown cat\" is a a set that we get by intersecting the set of individuals that are brown and the set of individuals that are cats.\n",
    "\n",
    "C. Kennedy. Adjectives. In G. Russell, editor, The Routledge Companion to Philosophy of Language, chapter 3.3, pages 328–341. Routledge, 2012.\n",
    "\n",
    "The original grammar is included in the code below as a string."
   ]
  },
  {
   "cell_type": "code",
   "execution_count": 16,
   "id": "c52ea815-bd43-43e8-8649-9bc90c67ae21",
   "metadata": {},
   "outputs": [],
   "source": [
    "fcfg_string_orginal = r\"\"\"\n",
    "% start S\n",
    "############################\n",
    "# Grammar Rules\n",
    "#############################\n",
    "\n",
    "S[SEM = <?subj(?vp)>] -> NP[NUM=?n,SEM=?subj] VP[NUM=?n,SEM=?vp]\n",
    "\n",
    "NP[NUM=?n,SEM=<?det(?nom)> ] -> Det[NUM=?n,SEM=?det]  Nom[NUM=?n,SEM=?nom]\n",
    "NP[LOC=?l,NUM=?n,SEM=?np] -> PropN[LOC=?l,NUM=?n,SEM=?np]\n",
    "\n",
    "Nom[NUM=?n,SEM=?nom] -> N[NUM=?n,SEM=?nom]\n",
    "\n",
    "VP[NUM=?n,SEM=?v] -> IV[NUM=?n,SEM=?v]\n",
    "VP[NUM=?n,SEM=<?v(?obj)>] -> TV[NUM=?n,SEM=?v] NP[SEM=?obj]\n",
    "VP[NUM=?n,SEM=<?v(?obj,?pp)>] -> DTV[NUM=?n,SEM=?v] NP[SEM=?obj] PP[+TO,SEM=?pp]\n",
    "\n",
    "PP[+TO, SEM=?np] -> P[+TO] NP[SEM=?np]\n",
    "\n",
    "#############################\n",
    "# Lexical Rules\n",
    "#############################\n",
    "\n",
    "PropN[-LOC,NUM=sg,SEM=<\\P.P(angus)>] -> 'Angus'\n",
    "PropN[-LOC,NUM=sg,SEM=<\\P.P(cyril)>] -> 'Cyril'\n",
    "PropN[-LOC,NUM=sg,SEM=<\\P.P(irene)>] -> 'Irene'\n",
    " \n",
    "Det[NUM=sg,SEM=<\\P Q.all x.(P(x) -> Q(x))>] -> 'every'\n",
    "Det[NUM=pl,SEM=<\\P Q.all x.(P(x) -> Q(x))>] -> 'all'\n",
    "Det[SEM=<\\P Q.exists x.(P(x) & Q(x))>] -> 'some'\n",
    "Det[NUM=sg,SEM=<\\P Q.exists x.(P(x) & Q(x))>] -> 'a'\n",
    "Det[NUM=sg,SEM=<\\P Q.exists x.(P(x) & Q(x))>] -> 'an'\n",
    "\n",
    "N[NUM=sg,SEM=<\\x.man(x)>] -> 'man'\n",
    "N[NUM=sg,SEM=<\\x.girl(x)>] -> 'girl'\n",
    "N[NUM=sg,SEM=<\\x.boy(x)>] -> 'boy'\n",
    "N[NUM=sg,SEM=<\\x.bone(x)>] -> 'bone'\n",
    "N[NUM=sg,SEM=<\\x.ankle(x)>] -> 'ankle'\n",
    "N[NUM=sg,SEM=<\\x.dog(x)>] -> 'dog'\n",
    "N[NUM=pl,SEM=<\\x.dog(x)>] -> 'dogs'\n",
    "\n",
    "IV[NUM=sg,SEM=<\\x.bark(x)>,TNS=pres] -> 'barks'\n",
    "IV[NUM=pl,SEM=<\\x.bark(x)>,TNS=pres] -> 'bark'\n",
    "IV[NUM=sg,SEM=<\\x.walk(x)>,TNS=pres] -> 'walks'\n",
    "IV[NUM=pl,SEM=<\\x.walk(x)>,TNS=pres] -> 'walk'\n",
    "TV[NUM=sg,SEM=<\\X x.X(\\ y.chase(x,y))>,TNS=pres] -> 'chases'\n",
    "TV[NUM=pl,SEM=<\\X x.X(\\ y.chase(x,y))>,TNS=pres] -> 'chase'\n",
    "TV[NUM=sg,SEM=<\\X x.X(\\ y.see(x,y))>,TNS=pres] -> 'sees'\n",
    "TV[NUM=pl,SEM=<\\X x.X(\\ y.see(x,y))>,TNS=pres] -> 'see'\n",
    "TV[NUM=sg,SEM=<\\X x.X(\\ y.bite(x,y))>,TNS=pres] -> 'bites'\n",
    "TV[NUM=pl,SEM=<\\X x.X(\\ y.bite(x,y))>,TNS=pres] -> 'bite'\n",
    "DTV[NUM=sg,SEM=<\\Y X x.X(\\z.Y(\\y.give(x,y,z)))>,TNS=pres] -> 'gives'\n",
    "DTV[NUM=pl,SEM=<\\Y X x.X(\\z.Y(\\y.give(x,y,z)))>,TNS=pres] -> 'give'\n",
    "\n",
    "P[+to] -> 'to'\n",
    "\"\"\""
   ]
  },
  {
   "cell_type": "markdown",
   "id": "a16627db-8adc-496b-a29c-c393bad7ffae",
   "metadata": {},
   "source": [
    "Write your extension of this grammar here:"
   ]
  },
  {
   "cell_type": "code",
   "execution_count": 17,
   "id": "bbe2394f",
   "metadata": {},
   "outputs": [],
   "source": [
    "import nltk\n",
    "from nltk import CFG\n",
    "from nltk.grammar import FeatureGrammar \n",
    "from IPython.display import Markdown\n",
    "from IPython.display import display_latex\n",
    "from nltk.draw.tree import draw_trees"
   ]
  },
  {
   "cell_type": "code",
   "execution_count": 18,
   "id": "448c516f",
   "metadata": {},
   "outputs": [],
   "source": [
    "fcfg_string = fcfg_string_orginal + r\"\"\"\n",
    "## Your answers here\n",
    " \n",
    " # Determiners\n",
    " Det[NUM=sg,SEM=<\\P Q.all x.(P(x) -> -Q(x))>] -> 'no'\n",
    " Det[NUM=sg,SEM=<\\P Q.exists x.(P(x) & Q(x))>] -> 'a' | 'the'\n",
    " Det[NUM=pl,SEM=<\\P Q.all x.(P(x) -> Q(x))>] -> 'every'\n",
    " \n",
    " \n",
    " ##Det -> 'the' \n",
    " ##Det[+PL, NUM=pl, SEM=<\\p Q.all x.(P(x) -> Q(x))>] -> 'no' \n",
    " TV[SEM=<\\X x.X(\\ y.give(x,y))>, TNS=pres] -> 'gives'\n",
    " DTV[SEM=<\\Y X x.X(\\z.Y(\\y.give(x,y,z)))>] -> 'gives'\n",
    " TV[SEM=<\\X x.X(\\ y.chase(x,y))>, TNS=past] -> 'chased'\n",
    "\n",
    " NP[+POSSESIVE, NUM=?n,SEM=?np] -> PropN[LOC=?l,NUM=?n,SEM=?np] 's'\n",
    " CONJ -> 'and'\n",
    " NP[NUM=?n] -> NP[NUM=?n] CONJ NP[NUM=?n]\n",
    " \n",
    " N[NUM=sg,SEM=<\\x.cat(x)>] -> 'cat'\n",
    " N[NUM=sg,SEM=<\\x.brown(x)>] -> 'brown'\n",
    "\n",
    " ADJ[SEM=<\\P.P(brown)>] -> 'brown'\n",
    " ADJ[SEM=<\\P.P(white)>] -> 'white'\n",
    " \n",
    " NP[NUM=?n,SEM=<?det(?adj(?nom))>] -> Det[NUM=?n,SEM=?det] ADJ[NUM=?n,SEM=?adj] Nom[NUM=?n,SEM=?nom]\n",
    "\"\"\"\n",
    "# Combine original and extended grammars\n",
    "fcfg_string_combined = fcfg_string_orginal + fcfg_string\n",
    "\n",
    "#Load `fcfg_string_combined` as a feature grammar:\n",
    "syntax = FeatureGrammar.fromstring(fcfg_string_combined)"
   ]
  },
  {
   "cell_type": "markdown",
   "id": "e18ce784",
   "metadata": {},
   "source": [
    "Run the code below without errors:"
   ]
  },
  {
   "cell_type": "code",
   "execution_count": 19,
   "id": "7344a87b",
   "metadata": {},
   "outputs": [
    {
     "data": {
      "text/markdown": [
       "----"
      ],
      "text/plain": [
       "<IPython.core.display.Markdown object>"
      ]
     },
     "metadata": {},
     "output_type": "display_data"
    },
    {
     "data": {
      "text/markdown": [
       "----"
      ],
      "text/plain": [
       "<IPython.core.display.Markdown object>"
      ]
     },
     "metadata": {},
     "output_type": "display_data"
    },
    {
     "data": {
      "text/markdown": [
       "----"
      ],
      "text/plain": [
       "<IPython.core.display.Markdown object>"
      ]
     },
     "metadata": {},
     "output_type": "display_data"
    },
    {
     "data": {
      "text/markdown": [
       "----"
      ],
      "text/plain": [
       "<IPython.core.display.Markdown object>"
      ]
     },
     "metadata": {},
     "output_type": "display_data"
    },
    {
     "data": {
      "text/markdown": [
       "----"
      ],
      "text/plain": [
       "<IPython.core.display.Markdown object>"
      ]
     },
     "metadata": {},
     "output_type": "display_data"
    },
    {
     "data": {
      "text/markdown": [
       "----"
      ],
      "text/plain": [
       "<IPython.core.display.Markdown object>"
      ]
     },
     "metadata": {},
     "output_type": "display_data"
    },
    {
     "data": {
      "text/markdown": [
       "----"
      ],
      "text/plain": [
       "<IPython.core.display.Markdown object>"
      ]
     },
     "metadata": {},
     "output_type": "display_data"
    }
   ],
   "source": [
    "# comment out sentences if you couldn't find an answer for them\n",
    "sentences = [\n",
    "    'no man gives a bone to a dog',\n",
    "    'no man gives a bone to the dog',\n",
    "    'a boy and a girl chased every dog',\n",
    "    'every dog chased a boy and a girl',\n",
    "    'a brown cat chases a white dog',\n",
    "]\n",
    "for results in nltk.interpret_sents(sentences, syntax):\n",
    "    for (synrep, semrep) in results:\n",
    "        display(Markdown('----'))\n",
    "        display_latex(semrep) # prints the SEM feature of a tree\n",
    "        #display_tree(synrep) # show the parse tree\n",
    "        draw_trees(synrep)"
   ]
  },
  {
   "cell_type": "markdown",
   "id": "858a9301",
   "metadata": {},
   "source": [
    "If you are working with iPython which is also running behind Jupyter notebooks and you are changing grammars and want to rerun a new version without restarting you may find nltk.data.clear_cache() useful."
   ]
  },
  {
   "cell_type": "markdown",
   "id": "f2e88b15",
   "metadata": {},
   "source": [
    "## Statement of contribution\n",
    "Briefly state how many times you have met for discussions, who was present, to what degree each member contributed to the discussion and the final answers you are submitting.\n",
    "I worked alone. "
   ]
  },
  {
   "cell_type": "markdown",
   "id": "552c69b1",
   "metadata": {},
   "source": [
    "## Marks"
   ]
  },
  {
   "cell_type": "markdown",
   "id": "9a96b321",
   "metadata": {},
   "source": [
    "The assignment is marked on a 7-level scale where 4 is sufficient to complete the assignment; 5 is good solid work; 6 is excellent work, covers most of the assignment; and 7: creative work.\n",
    "\n",
    "This assignment has a total of 47 marks. These translate to grades as follows: 1 = 17% 2 = 34%, 3 = 50%, 4 = 67%, 5 = 75%, 6 = 84%, 7 = 92% where %s are interpreted as lower bounds to achieve that grade."
   ]
  }
 ],
 "metadata": {
  "kernelspec": {
   "display_name": "Python 3 (ipykernel)",
   "language": "python",
   "name": "python3"
  },
  "language_info": {
   "codemirror_mode": {
    "name": "ipython",
    "version": 3
   },
   "file_extension": ".py",
   "mimetype": "text/x-python",
   "name": "python",
   "nbconvert_exporter": "python",
   "pygments_lexer": "ipython3",
   "version": "3.11.5"
  }
 },
 "nbformat": 4,
 "nbformat_minor": 5
}
